{
 "cells": [
  {
   "cell_type": "markdown",
   "metadata": {},
   "source": [
    "## Does the presence of the HLA-DQB03:01 allele show differences in usage of any TRA@ family?"
   ]
  },
  {
   "cell_type": "code",
   "execution_count": 1,
   "metadata": {},
   "outputs": [],
   "source": [
    "import pandas as pd\n",
    "import numpy as np\n",
    "import matplotlib.pyplot as plt\n",
    "import seaborn as sns\n",
    "import scipy\n",
    "import statsmodels.api as sm"
   ]
  },
  {
   "cell_type": "markdown",
   "metadata": {},
   "source": [
    "### Look at all subjects' HLA alleles"
   ]
  },
  {
   "cell_type": "code",
   "execution_count": 2,
   "metadata": {},
   "outputs": [
    {
     "data": {
      "text/html": [
       "<div>\n",
       "<style scoped>\n",
       "    .dataframe tbody tr th:only-of-type {\n",
       "        vertical-align: middle;\n",
       "    }\n",
       "\n",
       "    .dataframe tbody tr th {\n",
       "        vertical-align: top;\n",
       "    }\n",
       "\n",
       "    .dataframe thead th {\n",
       "        text-align: right;\n",
       "    }\n",
       "</style>\n",
       "<table border=\"1\" class=\"dataframe\">\n",
       "  <thead>\n",
       "    <tr style=\"text-align: right;\">\n",
       "      <th></th>\n",
       "      <th>HLA_A_A1</th>\n",
       "      <th>HLA_A_A2</th>\n",
       "      <th>HLA_A_PROB</th>\n",
       "      <th>HLA_B_A1</th>\n",
       "      <th>HLA_B_A2</th>\n",
       "      <th>HLA_B_PROB</th>\n",
       "      <th>HLA_C_A1</th>\n",
       "      <th>HLA_C_A2</th>\n",
       "      <th>HLA_C_PROB</th>\n",
       "      <th>HLA_DPB1_A1</th>\n",
       "      <th>...</th>\n",
       "      <th>HLA_DPB1_PROB</th>\n",
       "      <th>HLA_DQA1_A1</th>\n",
       "      <th>HLA_DQA1_A2</th>\n",
       "      <th>HLA_DQA1_PROB</th>\n",
       "      <th>HLA_DQB1_A1</th>\n",
       "      <th>HLA_DQB1_A2</th>\n",
       "      <th>HLA_DQB1_PROB</th>\n",
       "      <th>HLA_DRB1_A1</th>\n",
       "      <th>HLA_DRB1_A2</th>\n",
       "      <th>HLA_DRB1_PROB</th>\n",
       "    </tr>\n",
       "    <tr>\n",
       "      <th>patid</th>\n",
       "      <th></th>\n",
       "      <th></th>\n",
       "      <th></th>\n",
       "      <th></th>\n",
       "      <th></th>\n",
       "      <th></th>\n",
       "      <th></th>\n",
       "      <th></th>\n",
       "      <th></th>\n",
       "      <th></th>\n",
       "      <th></th>\n",
       "      <th></th>\n",
       "      <th></th>\n",
       "      <th></th>\n",
       "      <th></th>\n",
       "      <th></th>\n",
       "      <th></th>\n",
       "      <th></th>\n",
       "      <th></th>\n",
       "      <th></th>\n",
       "      <th></th>\n",
       "    </tr>\n",
       "  </thead>\n",
       "  <tbody>\n",
       "    <tr>\n",
       "      <td>14</td>\n",
       "      <td>01:01</td>\n",
       "      <td>31:01</td>\n",
       "      <td>0.998</td>\n",
       "      <td>35:01</td>\n",
       "      <td>44:02</td>\n",
       "      <td>0.935</td>\n",
       "      <td>04:01</td>\n",
       "      <td>05:01</td>\n",
       "      <td>1.000</td>\n",
       "      <td>04:01</td>\n",
       "      <td>...</td>\n",
       "      <td>0.934</td>\n",
       "      <td>01:01</td>\n",
       "      <td>03:01</td>\n",
       "      <td>0.918</td>\n",
       "      <td>03:02</td>\n",
       "      <td>05:01</td>\n",
       "      <td>0.988</td>\n",
       "      <td>01:01</td>\n",
       "      <td>04:01</td>\n",
       "      <td>0.961</td>\n",
       "    </tr>\n",
       "    <tr>\n",
       "      <td>41</td>\n",
       "      <td>25:01</td>\n",
       "      <td>26:01</td>\n",
       "      <td>0.907</td>\n",
       "      <td>18:01</td>\n",
       "      <td>38:01</td>\n",
       "      <td>0.938</td>\n",
       "      <td>12:03</td>\n",
       "      <td>12:03</td>\n",
       "      <td>0.989</td>\n",
       "      <td>04:01</td>\n",
       "      <td>...</td>\n",
       "      <td>0.809</td>\n",
       "      <td>01:02</td>\n",
       "      <td>03:01</td>\n",
       "      <td>0.969</td>\n",
       "      <td>03:02</td>\n",
       "      <td>06:02</td>\n",
       "      <td>0.988</td>\n",
       "      <td>04:02</td>\n",
       "      <td>15:01</td>\n",
       "      <td>0.830</td>\n",
       "    </tr>\n",
       "    <tr>\n",
       "      <td>38</td>\n",
       "      <td>02:06</td>\n",
       "      <td>25:01</td>\n",
       "      <td>0.676</td>\n",
       "      <td>08:01</td>\n",
       "      <td>27:05</td>\n",
       "      <td>0.865</td>\n",
       "      <td>03:03</td>\n",
       "      <td>07:01</td>\n",
       "      <td>0.464</td>\n",
       "      <td>01:01</td>\n",
       "      <td>...</td>\n",
       "      <td>0.984</td>\n",
       "      <td>01:02</td>\n",
       "      <td>05:01</td>\n",
       "      <td>0.988</td>\n",
       "      <td>02:01</td>\n",
       "      <td>06:02</td>\n",
       "      <td>0.977</td>\n",
       "      <td>03:01</td>\n",
       "      <td>15:01</td>\n",
       "      <td>1.000</td>\n",
       "    </tr>\n",
       "    <tr>\n",
       "      <td>84</td>\n",
       "      <td>01:01</td>\n",
       "      <td>03:01</td>\n",
       "      <td>0.992</td>\n",
       "      <td>07:02</td>\n",
       "      <td>52:01</td>\n",
       "      <td>0.995</td>\n",
       "      <td>07:02</td>\n",
       "      <td>12:02</td>\n",
       "      <td>1.000</td>\n",
       "      <td>04:01</td>\n",
       "      <td>...</td>\n",
       "      <td>0.990</td>\n",
       "      <td>01:02</td>\n",
       "      <td>01:03</td>\n",
       "      <td>0.999</td>\n",
       "      <td>06:01</td>\n",
       "      <td>06:02</td>\n",
       "      <td>0.994</td>\n",
       "      <td>15:01</td>\n",
       "      <td>15:02</td>\n",
       "      <td>0.999</td>\n",
       "    </tr>\n",
       "    <tr>\n",
       "      <td>22</td>\n",
       "      <td>01:01</td>\n",
       "      <td>68:01</td>\n",
       "      <td>0.996</td>\n",
       "      <td>08:01</td>\n",
       "      <td>44:02</td>\n",
       "      <td>0.999</td>\n",
       "      <td>07:01</td>\n",
       "      <td>07:04</td>\n",
       "      <td>0.999</td>\n",
       "      <td>04:01</td>\n",
       "      <td>...</td>\n",
       "      <td>0.809</td>\n",
       "      <td>01:01</td>\n",
       "      <td>03:01</td>\n",
       "      <td>0.976</td>\n",
       "      <td>03:02</td>\n",
       "      <td>05:01</td>\n",
       "      <td>0.986</td>\n",
       "      <td>01:01</td>\n",
       "      <td>04:04</td>\n",
       "      <td>0.837</td>\n",
       "    </tr>\n",
       "  </tbody>\n",
       "</table>\n",
       "<p>5 rows × 21 columns</p>\n",
       "</div>"
      ],
      "text/plain": [
       "      HLA_A_A1 HLA_A_A2  HLA_A_PROB HLA_B_A1 HLA_B_A2  HLA_B_PROB HLA_C_A1  \\\n",
       "patid                                                                        \n",
       "14       01:01    31:01       0.998    35:01    44:02       0.935    04:01   \n",
       "41       25:01    26:01       0.907    18:01    38:01       0.938    12:03   \n",
       "38       02:06    25:01       0.676    08:01    27:05       0.865    03:03   \n",
       "84       01:01    03:01       0.992    07:02    52:01       0.995    07:02   \n",
       "22       01:01    68:01       0.996    08:01    44:02       0.999    07:01   \n",
       "\n",
       "      HLA_C_A2  HLA_C_PROB HLA_DPB1_A1  ... HLA_DPB1_PROB  HLA_DQA1_A1  \\\n",
       "patid                                   ...                              \n",
       "14       05:01       1.000       04:01  ...         0.934        01:01   \n",
       "41       12:03       0.989       04:01  ...         0.809        01:02   \n",
       "38       07:01       0.464       01:01  ...         0.984        01:02   \n",
       "84       12:02       1.000       04:01  ...         0.990        01:02   \n",
       "22       07:04       0.999       04:01  ...         0.809        01:01   \n",
       "\n",
       "      HLA_DQA1_A2 HLA_DQA1_PROB  HLA_DQB1_A1 HLA_DQB1_A2 HLA_DQB1_PROB  \\\n",
       "patid                                                                    \n",
       "14          03:01         0.918        03:02       05:01         0.988   \n",
       "41          03:01         0.969        03:02       06:02         0.988   \n",
       "38          05:01         0.988        02:01       06:02         0.977   \n",
       "84          01:03         0.999        06:01       06:02         0.994   \n",
       "22          03:01         0.976        03:02       05:01         0.986   \n",
       "\n",
       "       HLA_DRB1_A1 HLA_DRB1_A2 HLA_DRB1_PROB  \n",
       "patid                                         \n",
       "14           01:01       04:01         0.961  \n",
       "41           04:02       15:01         0.830  \n",
       "38           03:01       15:01         1.000  \n",
       "84           15:01       15:02         0.999  \n",
       "22           01:01       04:04         0.837  \n",
       "\n",
       "[5 rows x 21 columns]"
      ]
     },
     "execution_count": 2,
     "metadata": {},
     "output_type": "execute_result"
    }
   ],
   "source": [
    "HLA_path = \"/labs/mignot/DGN_HLA_CALLS_OCT2019.txt\"\n",
    "HLA_df = pd.read_csv(HLA_path)\n",
    "HLA_df['patid'] = HLA_df['PLATEID'].apply(lambda x: x.split(\"_\")[-1])\n",
    "HLA_df = HLA_df[HLA_df['patid'].str.startswith(\"LD\")]\n",
    "HLA_df['patid'] = HLA_df['patid'].apply(lambda x: int(x[2:]))\n",
    "HLA_df = HLA_df.drop([\"PLATEID\"], axis=1)\n",
    "HLA_df = HLA_df.set_index(\"patid\")\n",
    "HLA_df.head()"
   ]
  },
  {
   "cell_type": "markdown",
   "metadata": {},
   "source": [
    "### Analyze DQ clusters"
   ]
  },
  {
   "cell_type": "code",
   "execution_count": 36,
   "metadata": {},
   "outputs": [],
   "source": [
    "HLA_DQ_df = HLA_df[['HLA_DQA1_A1', 'HLA_DQA1_A2', 'HLA_DQB1_A1', 'HLA_DQB1_A2']].copy()"
   ]
  },
  {
   "cell_type": "code",
   "execution_count": 37,
   "metadata": {},
   "outputs": [],
   "source": [
    "HLA_DQ_df['DQB10301_present'] = (HLA_DQ_df['HLA_DQB1_A1'] == \"03:01\") | (HLA_DQ_df['HLA_DQB1_A2'] == \"03:01\")"
   ]
  },
  {
   "cell_type": "code",
   "execution_count": 38,
   "metadata": {},
   "outputs": [],
   "source": [
    "HLA_DQ_df['DQB10602_present'] = (HLA_DQ_df['HLA_DQB1_A1'] == \"06:02\") | (HLA_DQ_df['HLA_DQB1_A2'] == \"06:02\")"
   ]
  },
  {
   "cell_type": "code",
   "execution_count": 39,
   "metadata": {},
   "outputs": [],
   "source": [
    "HLA_DQ_df['DQB10301_0602_present'] = HLA_DQ_df['DQB10301_present'] & HLA_DQ_df['DQB10602_present']"
   ]
  },
  {
   "cell_type": "code",
   "execution_count": 40,
   "metadata": {},
   "outputs": [],
   "source": [
    "HLA_DQ_df['DQA10302_present'] = (HLA_DQ_df['HLA_DQA1_A1'] == \"03:02\") | (HLA_DQ_df['HLA_DQA1_A2'] == \"03:02\")\n",
    "HLA_DQ_df['DQA10303_present'] = (HLA_DQ_df['HLA_DQA1_A1'] == \"03:03\") | (HLA_DQ_df['HLA_DQA1_A2'] == \"03:03\")\n",
    "HLA_DQ_df['DQA10401_present'] = (HLA_DQ_df['HLA_DQA1_A1'] == \"04:01\") | (HLA_DQ_df['HLA_DQA1_A2'] == \"04:01\")\n",
    "HLA_DQ_df['DQA10505_present'] = (HLA_DQ_df['HLA_DQA1_A1'] == \"05:05\") | (HLA_DQ_df['HLA_DQA1_A2'] == \"05:05\")\n",
    "HLA_DQ_df['DQA10601_present'] = (HLA_DQ_df['HLA_DQA1_A1'] == \"06:01\") | (HLA_DQ_df['HLA_DQA1_A2'] == \"06:01\")"
   ]
  },
  {
   "cell_type": "code",
   "execution_count": 6,
   "metadata": {},
   "outputs": [],
   "source": [
    "HLA_DQ_0301_df = HLA_DQ_df[HLA_DQ_df[\"DQB10301_present\"] == True]"
   ]
  },
  {
   "cell_type": "code",
   "execution_count": 7,
   "metadata": {},
   "outputs": [],
   "source": [
    "idx = HLA_DQ_0301_df['DQA10302_present'] | HLA_DQ_0301_df['DQA10303_present'] | HLA_DQ_0301_df['DQA10401_present'] | HLA_DQ_0301_df['DQA10505_present'] | HLA_DQ_0301_df['DQA10601_present']"
   ]
  },
  {
   "cell_type": "code",
   "execution_count": 8,
   "metadata": {},
   "outputs": [
    {
     "data": {
      "text/html": [
       "<div>\n",
       "<style scoped>\n",
       "    .dataframe tbody tr th:only-of-type {\n",
       "        vertical-align: middle;\n",
       "    }\n",
       "\n",
       "    .dataframe tbody tr th {\n",
       "        vertical-align: top;\n",
       "    }\n",
       "\n",
       "    .dataframe thead th {\n",
       "        text-align: right;\n",
       "    }\n",
       "</style>\n",
       "<table border=\"1\" class=\"dataframe\">\n",
       "  <thead>\n",
       "    <tr style=\"text-align: right;\">\n",
       "      <th></th>\n",
       "      <th>HLA_DQA1_A1</th>\n",
       "      <th>HLA_DQA1_A2</th>\n",
       "      <th>HLA_DQB1_A1</th>\n",
       "      <th>HLA_DQB1_A2</th>\n",
       "      <th>DQB10301_present</th>\n",
       "      <th>DQA10302_present</th>\n",
       "      <th>DQA10303_present</th>\n",
       "      <th>DQA10401_present</th>\n",
       "      <th>DQA10505_present</th>\n",
       "      <th>DQA10601_present</th>\n",
       "    </tr>\n",
       "    <tr>\n",
       "      <th>patid</th>\n",
       "      <th></th>\n",
       "      <th></th>\n",
       "      <th></th>\n",
       "      <th></th>\n",
       "      <th></th>\n",
       "      <th></th>\n",
       "      <th></th>\n",
       "      <th></th>\n",
       "      <th></th>\n",
       "      <th></th>\n",
       "    </tr>\n",
       "  </thead>\n",
       "  <tbody>\n",
       "    <tr>\n",
       "      <td>248</td>\n",
       "      <td>02:01</td>\n",
       "      <td>05:09</td>\n",
       "      <td>02:02</td>\n",
       "      <td>03:01</td>\n",
       "      <td>True</td>\n",
       "      <td>False</td>\n",
       "      <td>False</td>\n",
       "      <td>False</td>\n",
       "      <td>False</td>\n",
       "      <td>False</td>\n",
       "    </tr>\n",
       "    <tr>\n",
       "      <td>403</td>\n",
       "      <td>02:01</td>\n",
       "      <td>05:03</td>\n",
       "      <td>03:01</td>\n",
       "      <td>03:03</td>\n",
       "      <td>True</td>\n",
       "      <td>False</td>\n",
       "      <td>False</td>\n",
       "      <td>False</td>\n",
       "      <td>False</td>\n",
       "      <td>False</td>\n",
       "    </tr>\n",
       "    <tr>\n",
       "      <td>1061</td>\n",
       "      <td>01:03</td>\n",
       "      <td>05:03</td>\n",
       "      <td>03:01</td>\n",
       "      <td>06:03</td>\n",
       "      <td>True</td>\n",
       "      <td>False</td>\n",
       "      <td>False</td>\n",
       "      <td>False</td>\n",
       "      <td>False</td>\n",
       "      <td>False</td>\n",
       "    </tr>\n",
       "  </tbody>\n",
       "</table>\n",
       "</div>"
      ],
      "text/plain": [
       "      HLA_DQA1_A1 HLA_DQA1_A2 HLA_DQB1_A1 HLA_DQB1_A2  DQB10301_present  \\\n",
       "patid                                                                     \n",
       "248         02:01       05:09       02:02       03:01              True   \n",
       "403         02:01       05:03       03:01       03:03              True   \n",
       "1061        01:03       05:03       03:01       06:03              True   \n",
       "\n",
       "       DQA10302_present  DQA10303_present  DQA10401_present  DQA10505_present  \\\n",
       "patid                                                                           \n",
       "248               False             False             False             False   \n",
       "403               False             False             False             False   \n",
       "1061              False             False             False             False   \n",
       "\n",
       "       DQA10601_present  \n",
       "patid                    \n",
       "248               False  \n",
       "403               False  \n",
       "1061              False  "
      ]
     },
     "execution_count": 8,
     "metadata": {},
     "output_type": "execute_result"
    }
   ],
   "source": [
    "HLA_DQ_0301_df[idx == False] # does not fall into one of five haplotype groups, mistake in imputation perhaps?"
   ]
  },
  {
   "cell_type": "code",
   "execution_count": 9,
   "metadata": {},
   "outputs": [
    {
     "name": "stdout",
     "output_type": "stream",
     "text": [
      "3\n",
      "111\n",
      "4\n",
      "227\n",
      "7\n"
     ]
    }
   ],
   "source": [
    "print(len(HLA_DQ_0301_df[HLA_DQ_0301_df['DQA10302_present'] == True]))\n",
    "print(len(HLA_DQ_0301_df[HLA_DQ_0301_df['DQA10303_present'] == True]))\n",
    "print(len(HLA_DQ_0301_df[HLA_DQ_0301_df['DQA10401_present'] == True]))\n",
    "print(len(HLA_DQ_0301_df[HLA_DQ_0301_df['DQA10505_present'] == True]))\n",
    "print(len(HLA_DQ_0301_df[HLA_DQ_0301_df['DQA10601_present'] == True]))\n",
    "# only 0303 and 0505 have significant numbers of people"
   ]
  },
  {
   "cell_type": "code",
   "execution_count": 203,
   "metadata": {},
   "outputs": [],
   "source": [
    "# all possible pairs for 0301 homozygous\n",
    "# HLA_DQ_df[(HLA_DQ_df['HLA_DQB1_A1'] == \"03:01\") & (HLA_DQ_df['HLA_DQB1_A2'] == \"03:01\")][[\"HLA_DQA1_A1\", \"HLA_DQA1_A2\"]].values"
   ]
  },
  {
   "cell_type": "code",
   "execution_count": 204,
   "metadata": {},
   "outputs": [],
   "source": [
    "\"\"\"IF WE WANT TO TEST THE SAME THING EXCEPT IN PEOPLE WITH 0602 ONLY\"\"\"\n",
    "# HLA_DQ_df = HLA_DQ_df[(HLA_DQ_df['HLA_DQB1_A1'] == \"06:02\") | (HLA_DQ_df['HLA_DQB1_A2'] == \"06:02\")]"
   ]
  },
  {
   "cell_type": "code",
   "execution_count": null,
   "metadata": {},
   "outputs": [],
   "source": [
    "# # Analysis of people who also have 0602 (unused)\n",
    "\n",
    "# # everyone who has one copy of 06:02\n",
    "# HLA_DQB1_0602_df = HLA_DQB1_df[(HLA_DQB1_df['HLA_DQB1_A1'] == \"06:02\") | (HLA_DQB1_df['HLA_DQB1_A2'] == \"06:02\")]\n",
    "# # remove homozygous 06:02\n",
    "# HLA_DQB1_0602_df = HLA_DQB1_0602_df[~((HLA_DQB1_0602_df['HLA_DQB1_A1'] == \"06:02\") & (HLA_DQB1_0602_df['HLA_DQB1_A2'] == \"06:02\"))]\n",
    "\n",
    "# HLA_DQB1_0602_df['0301_present'] = (HLA_DQB1_0602_df['HLA_DQB1_A1'] == \"03:01\") | (HLA_DQB1_0602_df['HLA_DQB1_A2'] == \"03:01\")\n",
    "\n",
    "# HLA_DQB1_0602_df.head()"
   ]
  },
  {
   "cell_type": "code",
   "execution_count": 6,
   "metadata": {},
   "outputs": [],
   "source": [
    "#HLA_DQ_df['HLA_DQB1_0301_dose'] = HLA_DQ_df['HLA_DQB1_A1'].apply(lambda x: 1 if x == \"03:01\" else 0)+HLA_DQ_df['HLA_DQB1_A2'].apply(lambda x: 1 if x == \"03:01\" else 0)"
   ]
  },
  {
   "cell_type": "code",
   "execution_count": 7,
   "metadata": {},
   "outputs": [],
   "source": [
    "# # all unique DQA1s \n",
    "# DQA1_unique_alleles = np.unique(np.concatenate((HLA_DQ_df['HLA_DQA1_A1'].values, HLA_DQ_df['HLA_DQA1_A2'].values))).astype(str)\n",
    "# # each patient will have a vector HLA_DQA1_vec that indicates via 0, 1, 2, which of the following alleles they have"
   ]
  },
  {
   "cell_type": "code",
   "execution_count": 8,
   "metadata": {},
   "outputs": [],
   "source": [
    "# for allele in DQA1_unique_alleles:\n",
    "#     HLA_DQ_df[\"DQA1_{}\".format(allele)] = (HLA_DQ_df['HLA_DQA1_A1'] == allele).astype(int) + (HLA_DQ_df['HLA_DQA1_A2'] == allele).astype(int)"
   ]
  },
  {
   "cell_type": "code",
   "execution_count": 9,
   "metadata": {},
   "outputs": [
    {
     "data": {
      "text/plain": [
       "array([0, 1, 2])"
      ]
     },
     "execution_count": 9,
     "metadata": {},
     "output_type": "execute_result"
    }
   ],
   "source": [
    "# np.unique(HLA_DQ_df.iloc[:,4:].values) # there are some people with two copies of the same allele"
   ]
  },
  {
   "cell_type": "code",
   "execution_count": 12,
   "metadata": {},
   "outputs": [
    {
     "data": {
      "text/plain": [
       "array([0, 1, 2])"
      ]
     },
     "execution_count": 12,
     "metadata": {},
     "output_type": "execute_result"
    }
   ],
   "source": [
    "# np.unique(HLA_DQ_df[\"HLA_DQB1_0301_dose\"].values)"
   ]
  },
  {
   "cell_type": "code",
   "execution_count": null,
   "metadata": {},
   "outputs": [],
   "source": []
  },
  {
   "cell_type": "markdown",
   "metadata": {},
   "source": [
    "### We want to associate HLA genotype to TRA@ Usage, so load all subjects' VDJ usage"
   ]
  },
  {
   "cell_type": "code",
   "execution_count": 41,
   "metadata": {},
   "outputs": [],
   "source": [
    "VDJ_df = pd.read_csv(\"allVDJRatios.csv\", index_col=0)"
   ]
  },
  {
   "cell_type": "code",
   "execution_count": 42,
   "metadata": {},
   "outputs": [
    {
     "data": {
      "text/html": [
       "<div>\n",
       "<style scoped>\n",
       "    .dataframe tbody tr th:only-of-type {\n",
       "        vertical-align: middle;\n",
       "    }\n",
       "\n",
       "    .dataframe tbody tr th {\n",
       "        vertical-align: top;\n",
       "    }\n",
       "\n",
       "    .dataframe thead th {\n",
       "        text-align: right;\n",
       "    }\n",
       "</style>\n",
       "<table border=\"1\" class=\"dataframe\">\n",
       "  <thead>\n",
       "    <tr style=\"text-align: right;\">\n",
       "      <th></th>\n",
       "      <th>patid</th>\n",
       "      <th>family</th>\n",
       "      <th>usage_ratio</th>\n",
       "    </tr>\n",
       "  </thead>\n",
       "  <tbody>\n",
       "    <tr>\n",
       "      <td>0</td>\n",
       "      <td>1</td>\n",
       "      <td>TRAJ1</td>\n",
       "      <td>0.001676</td>\n",
       "    </tr>\n",
       "    <tr>\n",
       "      <td>1</td>\n",
       "      <td>1</td>\n",
       "      <td>TRAJ10</td>\n",
       "      <td>0.031014</td>\n",
       "    </tr>\n",
       "    <tr>\n",
       "      <td>2</td>\n",
       "      <td>1</td>\n",
       "      <td>TRAJ11</td>\n",
       "      <td>0.010897</td>\n",
       "    </tr>\n",
       "    <tr>\n",
       "      <td>3</td>\n",
       "      <td>1</td>\n",
       "      <td>TRAJ12</td>\n",
       "      <td>0.011735</td>\n",
       "    </tr>\n",
       "    <tr>\n",
       "      <td>4</td>\n",
       "      <td>1</td>\n",
       "      <td>TRAJ13</td>\n",
       "      <td>0.022632</td>\n",
       "    </tr>\n",
       "  </tbody>\n",
       "</table>\n",
       "</div>"
      ],
      "text/plain": [
       "   patid  family  usage_ratio\n",
       "0      1   TRAJ1     0.001676\n",
       "1      1  TRAJ10     0.031014\n",
       "2      1  TRAJ11     0.010897\n",
       "3      1  TRAJ12     0.011735\n",
       "4      1  TRAJ13     0.022632"
      ]
     },
     "execution_count": 42,
     "metadata": {},
     "output_type": "execute_result"
    }
   ],
   "source": [
    "VDJ_df.head()"
   ]
  },
  {
   "cell_type": "code",
   "execution_count": 43,
   "metadata": {},
   "outputs": [],
   "source": [
    "VDJ_HLA_df = pd.merge(HLA_DQ_df, VDJ_df, on=\"patid\", how=\"inner\")"
   ]
  },
  {
   "cell_type": "code",
   "execution_count": 44,
   "metadata": {},
   "outputs": [
    {
     "data": {
      "text/html": [
       "<div>\n",
       "<style scoped>\n",
       "    .dataframe tbody tr th:only-of-type {\n",
       "        vertical-align: middle;\n",
       "    }\n",
       "\n",
       "    .dataframe tbody tr th {\n",
       "        vertical-align: top;\n",
       "    }\n",
       "\n",
       "    .dataframe thead th {\n",
       "        text-align: right;\n",
       "    }\n",
       "</style>\n",
       "<table border=\"1\" class=\"dataframe\">\n",
       "  <thead>\n",
       "    <tr style=\"text-align: right;\">\n",
       "      <th></th>\n",
       "      <th>patid</th>\n",
       "      <th>HLA_DQA1_A1</th>\n",
       "      <th>HLA_DQA1_A2</th>\n",
       "      <th>HLA_DQB1_A1</th>\n",
       "      <th>HLA_DQB1_A2</th>\n",
       "      <th>DQB10301_present</th>\n",
       "      <th>DQB10602_present</th>\n",
       "      <th>DQB10301_0602_present</th>\n",
       "      <th>DQA10302_present</th>\n",
       "      <th>DQA10303_present</th>\n",
       "      <th>DQA10401_present</th>\n",
       "      <th>DQA10505_present</th>\n",
       "      <th>DQA10601_present</th>\n",
       "      <th>family</th>\n",
       "      <th>usage_ratio</th>\n",
       "    </tr>\n",
       "  </thead>\n",
       "  <tbody>\n",
       "    <tr>\n",
       "      <td>0</td>\n",
       "      <td>14</td>\n",
       "      <td>01:01</td>\n",
       "      <td>03:01</td>\n",
       "      <td>03:02</td>\n",
       "      <td>05:01</td>\n",
       "      <td>False</td>\n",
       "      <td>False</td>\n",
       "      <td>False</td>\n",
       "      <td>False</td>\n",
       "      <td>False</td>\n",
       "      <td>False</td>\n",
       "      <td>False</td>\n",
       "      <td>False</td>\n",
       "      <td>TRAJ1</td>\n",
       "      <td>0.002662</td>\n",
       "    </tr>\n",
       "    <tr>\n",
       "      <td>1</td>\n",
       "      <td>14</td>\n",
       "      <td>01:01</td>\n",
       "      <td>03:01</td>\n",
       "      <td>03:02</td>\n",
       "      <td>05:01</td>\n",
       "      <td>False</td>\n",
       "      <td>False</td>\n",
       "      <td>False</td>\n",
       "      <td>False</td>\n",
       "      <td>False</td>\n",
       "      <td>False</td>\n",
       "      <td>False</td>\n",
       "      <td>False</td>\n",
       "      <td>TRAJ10</td>\n",
       "      <td>0.023957</td>\n",
       "    </tr>\n",
       "    <tr>\n",
       "      <td>2</td>\n",
       "      <td>14</td>\n",
       "      <td>01:01</td>\n",
       "      <td>03:01</td>\n",
       "      <td>03:02</td>\n",
       "      <td>05:01</td>\n",
       "      <td>False</td>\n",
       "      <td>False</td>\n",
       "      <td>False</td>\n",
       "      <td>False</td>\n",
       "      <td>False</td>\n",
       "      <td>False</td>\n",
       "      <td>False</td>\n",
       "      <td>False</td>\n",
       "      <td>TRAJ11</td>\n",
       "      <td>0.010648</td>\n",
       "    </tr>\n",
       "    <tr>\n",
       "      <td>3</td>\n",
       "      <td>14</td>\n",
       "      <td>01:01</td>\n",
       "      <td>03:01</td>\n",
       "      <td>03:02</td>\n",
       "      <td>05:01</td>\n",
       "      <td>False</td>\n",
       "      <td>False</td>\n",
       "      <td>False</td>\n",
       "      <td>False</td>\n",
       "      <td>False</td>\n",
       "      <td>False</td>\n",
       "      <td>False</td>\n",
       "      <td>False</td>\n",
       "      <td>TRAJ12</td>\n",
       "      <td>0.019521</td>\n",
       "    </tr>\n",
       "    <tr>\n",
       "      <td>4</td>\n",
       "      <td>14</td>\n",
       "      <td>01:01</td>\n",
       "      <td>03:01</td>\n",
       "      <td>03:02</td>\n",
       "      <td>05:01</td>\n",
       "      <td>False</td>\n",
       "      <td>False</td>\n",
       "      <td>False</td>\n",
       "      <td>False</td>\n",
       "      <td>False</td>\n",
       "      <td>False</td>\n",
       "      <td>False</td>\n",
       "      <td>False</td>\n",
       "      <td>TRAJ13</td>\n",
       "      <td>0.028394</td>\n",
       "    </tr>\n",
       "    <tr>\n",
       "      <td>...</td>\n",
       "      <td>...</td>\n",
       "      <td>...</td>\n",
       "      <td>...</td>\n",
       "      <td>...</td>\n",
       "      <td>...</td>\n",
       "      <td>...</td>\n",
       "      <td>...</td>\n",
       "      <td>...</td>\n",
       "      <td>...</td>\n",
       "      <td>...</td>\n",
       "      <td>...</td>\n",
       "      <td>...</td>\n",
       "      <td>...</td>\n",
       "      <td>...</td>\n",
       "      <td>...</td>\n",
       "    </tr>\n",
       "    <tr>\n",
       "      <td>93826</td>\n",
       "      <td>102</td>\n",
       "      <td>01:02</td>\n",
       "      <td>05:05</td>\n",
       "      <td>03:01</td>\n",
       "      <td>06:02</td>\n",
       "      <td>True</td>\n",
       "      <td>True</td>\n",
       "      <td>True</td>\n",
       "      <td>False</td>\n",
       "      <td>False</td>\n",
       "      <td>False</td>\n",
       "      <td>True</td>\n",
       "      <td>False</td>\n",
       "      <td>TRAV8-3</td>\n",
       "      <td>0.012676</td>\n",
       "    </tr>\n",
       "    <tr>\n",
       "      <td>93827</td>\n",
       "      <td>102</td>\n",
       "      <td>01:02</td>\n",
       "      <td>05:05</td>\n",
       "      <td>03:01</td>\n",
       "      <td>06:02</td>\n",
       "      <td>True</td>\n",
       "      <td>True</td>\n",
       "      <td>True</td>\n",
       "      <td>False</td>\n",
       "      <td>False</td>\n",
       "      <td>False</td>\n",
       "      <td>True</td>\n",
       "      <td>False</td>\n",
       "      <td>TRAV8-4</td>\n",
       "      <td>0.011972</td>\n",
       "    </tr>\n",
       "    <tr>\n",
       "      <td>93828</td>\n",
       "      <td>102</td>\n",
       "      <td>01:02</td>\n",
       "      <td>05:05</td>\n",
       "      <td>03:01</td>\n",
       "      <td>06:02</td>\n",
       "      <td>True</td>\n",
       "      <td>True</td>\n",
       "      <td>True</td>\n",
       "      <td>False</td>\n",
       "      <td>False</td>\n",
       "      <td>False</td>\n",
       "      <td>True</td>\n",
       "      <td>False</td>\n",
       "      <td>TRAV8-5</td>\n",
       "      <td>0.451408</td>\n",
       "    </tr>\n",
       "    <tr>\n",
       "      <td>93829</td>\n",
       "      <td>102</td>\n",
       "      <td>01:02</td>\n",
       "      <td>05:05</td>\n",
       "      <td>03:01</td>\n",
       "      <td>06:02</td>\n",
       "      <td>True</td>\n",
       "      <td>True</td>\n",
       "      <td>True</td>\n",
       "      <td>False</td>\n",
       "      <td>False</td>\n",
       "      <td>False</td>\n",
       "      <td>True</td>\n",
       "      <td>False</td>\n",
       "      <td>TRAV8-6</td>\n",
       "      <td>0.009155</td>\n",
       "    </tr>\n",
       "    <tr>\n",
       "      <td>93830</td>\n",
       "      <td>102</td>\n",
       "      <td>01:02</td>\n",
       "      <td>05:05</td>\n",
       "      <td>03:01</td>\n",
       "      <td>06:02</td>\n",
       "      <td>True</td>\n",
       "      <td>True</td>\n",
       "      <td>True</td>\n",
       "      <td>False</td>\n",
       "      <td>False</td>\n",
       "      <td>False</td>\n",
       "      <td>True</td>\n",
       "      <td>False</td>\n",
       "      <td>TRAV9-2</td>\n",
       "      <td>0.023944</td>\n",
       "    </tr>\n",
       "  </tbody>\n",
       "</table>\n",
       "<p>93831 rows × 15 columns</p>\n",
       "</div>"
      ],
      "text/plain": [
       "       patid HLA_DQA1_A1 HLA_DQA1_A2 HLA_DQB1_A1 HLA_DQB1_A2  \\\n",
       "0         14       01:01       03:01       03:02       05:01   \n",
       "1         14       01:01       03:01       03:02       05:01   \n",
       "2         14       01:01       03:01       03:02       05:01   \n",
       "3         14       01:01       03:01       03:02       05:01   \n",
       "4         14       01:01       03:01       03:02       05:01   \n",
       "...      ...         ...         ...         ...         ...   \n",
       "93826    102       01:02       05:05       03:01       06:02   \n",
       "93827    102       01:02       05:05       03:01       06:02   \n",
       "93828    102       01:02       05:05       03:01       06:02   \n",
       "93829    102       01:02       05:05       03:01       06:02   \n",
       "93830    102       01:02       05:05       03:01       06:02   \n",
       "\n",
       "       DQB10301_present  DQB10602_present  DQB10301_0602_present  \\\n",
       "0                 False             False                  False   \n",
       "1                 False             False                  False   \n",
       "2                 False             False                  False   \n",
       "3                 False             False                  False   \n",
       "4                 False             False                  False   \n",
       "...                 ...               ...                    ...   \n",
       "93826              True              True                   True   \n",
       "93827              True              True                   True   \n",
       "93828              True              True                   True   \n",
       "93829              True              True                   True   \n",
       "93830              True              True                   True   \n",
       "\n",
       "       DQA10302_present  DQA10303_present  DQA10401_present  DQA10505_present  \\\n",
       "0                 False             False             False             False   \n",
       "1                 False             False             False             False   \n",
       "2                 False             False             False             False   \n",
       "3                 False             False             False             False   \n",
       "4                 False             False             False             False   \n",
       "...                 ...               ...               ...               ...   \n",
       "93826             False             False             False              True   \n",
       "93827             False             False             False              True   \n",
       "93828             False             False             False              True   \n",
       "93829             False             False             False              True   \n",
       "93830             False             False             False              True   \n",
       "\n",
       "       DQA10601_present   family  usage_ratio  \n",
       "0                 False    TRAJ1     0.002662  \n",
       "1                 False   TRAJ10     0.023957  \n",
       "2                 False   TRAJ11     0.010648  \n",
       "3                 False   TRAJ12     0.019521  \n",
       "4                 False   TRAJ13     0.028394  \n",
       "...                 ...      ...          ...  \n",
       "93826             False  TRAV8-3     0.012676  \n",
       "93827             False  TRAV8-4     0.011972  \n",
       "93828             False  TRAV8-5     0.451408  \n",
       "93829             False  TRAV8-6     0.009155  \n",
       "93830             False  TRAV9-2     0.023944  \n",
       "\n",
       "[93831 rows x 15 columns]"
      ]
     },
     "execution_count": 44,
     "metadata": {},
     "output_type": "execute_result"
    }
   ],
   "source": [
    "VDJ_HLA_df"
   ]
  },
  {
   "cell_type": "markdown",
   "metadata": {},
   "source": [
    "#### Let's compute correlation between DQB10301_present\t(True/False) and the usage_ratios of each family"
   ]
  },
  {
   "cell_type": "code",
   "execution_count": 45,
   "metadata": {},
   "outputs": [],
   "source": [
    "TEST_GENOTYPE = '0301_0602' # '0301'\n",
    "\n",
    "corr_df = VDJ_HLA_df[['patid', 'DQB1{}_present'.format(TEST_GENOTYPE), 'family', 'usage_ratio']]"
   ]
  },
  {
   "cell_type": "code",
   "execution_count": 46,
   "metadata": {},
   "outputs": [],
   "source": [
    "import statsmodels.stats.multitest as sm\n",
    "family_pvalue_dict = dict()\n",
    "family_corrcoef_dict = dict()\n",
    "for family in corr_df['family'].unique():\n",
    "    try:\n",
    "        family_df = corr_df[corr_df['family'] == family]\n",
    "        dosage, usage_ratio = family_df['DQB1{}_present'.format(TEST_GENOTYPE)].values.astype(\"int\"), family_df[\"usage_ratio\"].values\n",
    "        corrcoef, pvalue = scipy.stats.pearsonr(dosage, usage_ratio)\n",
    "        family_corrcoef_dict[family] = (len(family_df), corrcoef, pvalue)\n",
    "    except:\n",
    "        print(\"skipped {} due to error\".format(family))\n",
    "        continue\n",
    "\n",
    "ranked_families_corrcoef = sorted(family_corrcoef_dict, key=lambda x: -abs(family_corrcoef_dict[x][1]))\n",
    "\n",
    "ns = []\n",
    "families = []\n",
    "corrcoefs = []\n",
    "pvalues = []\n",
    "for family in ranked_families_corrcoef:\n",
    "    n, corrcoef, pvalue = family_corrcoef_dict[family]\n",
    "    ns.append(n)\n",
    "    families.append(family)\n",
    "    corrcoefs.append(corrcoef)\n",
    "    pvalues.append(pvalue)\n",
    "# get 5% FDR corrected p-values\n",
    "rejected, corrected_pvalues = sm.fdrcorrection(pvalues)\n",
    "\n",
    "out_file = open(\"dqb1_{}_vdj_usage_correlation_results.csv\".format(TEST_GENOTYPE), \"w\")\n",
    "out_file.write(\"index,family,n,pearsons_R,pvalue,5%FDR_corrected_pvalue,rejected\\n\")\n",
    "\n",
    "for i in range(len(families)):\n",
    "    if rejected[i]:\n",
    "        sig = \"*\"\n",
    "    else:\n",
    "        sig = \"\"\n",
    "    out_file.write(\"{},{},{},{:.2e},{:.2e},{:.2e},{}\\n\".format(i+1,families[i],ns[i],corrcoefs[i],pvalues[i],corrected_pvalues[i],sig))\n",
    "out_file.close()"
   ]
  },
  {
   "cell_type": "code",
   "execution_count": 47,
   "metadata": {},
   "outputs": [],
   "source": [
    "path = \"dqb1_{}_vdj_usage_correlation_results.csv\".format(TEST_GENOTYPE)\n",
    "df = pd.read_csv(path, index_col=0)\n",
    "df = df[df[\"rejected\"] == \"*\"]\n",
    "df = df[['family','pearsons_R']]"
   ]
  },
  {
   "cell_type": "code",
   "execution_count": 48,
   "metadata": {},
   "outputs": [
    {
     "data": {
      "text/html": [
       "<div>\n",
       "<style scoped>\n",
       "    .dataframe tbody tr th:only-of-type {\n",
       "        vertical-align: middle;\n",
       "    }\n",
       "\n",
       "    .dataframe tbody tr th {\n",
       "        vertical-align: top;\n",
       "    }\n",
       "\n",
       "    .dataframe thead th {\n",
       "        text-align: right;\n",
       "    }\n",
       "</style>\n",
       "<table border=\"1\" class=\"dataframe\">\n",
       "  <thead>\n",
       "    <tr style=\"text-align: right;\">\n",
       "      <th></th>\n",
       "      <th>family</th>\n",
       "      <th>pearsons_R</th>\n",
       "    </tr>\n",
       "    <tr>\n",
       "      <th>index</th>\n",
       "      <th></th>\n",
       "      <th></th>\n",
       "    </tr>\n",
       "  </thead>\n",
       "  <tbody>\n",
       "    <tr>\n",
       "      <td>2</td>\n",
       "      <td>TRAV23/DV6</td>\n",
       "      <td>0.157</td>\n",
       "    </tr>\n",
       "    <tr>\n",
       "      <td>4</td>\n",
       "      <td>TRAJ17</td>\n",
       "      <td>0.130</td>\n",
       "    </tr>\n",
       "  </tbody>\n",
       "</table>\n",
       "</div>"
      ],
      "text/plain": [
       "           family  pearsons_R\n",
       "index                        \n",
       "2      TRAV23/DV6       0.157\n",
       "4          TRAJ17       0.130"
      ]
     },
     "execution_count": 48,
     "metadata": {},
     "output_type": "execute_result"
    }
   ],
   "source": [
    "df # fdr corrected significant associations with 0301 genotype"
   ]
  },
  {
   "cell_type": "code",
   "execution_count": null,
   "metadata": {},
   "outputs": [],
   "source": []
  },
  {
   "cell_type": "code",
   "execution_count": 19,
   "metadata": {},
   "outputs": [
    {
     "data": {
      "text/plain": [
       "922"
      ]
     },
     "execution_count": 19,
     "metadata": {},
     "output_type": "execute_result"
    }
   ],
   "source": [
    "len(VDJ_HLA_df['patid'].unique())"
   ]
  },
  {
   "cell_type": "code",
   "execution_count": 27,
   "metadata": {},
   "outputs": [],
   "source": [
    "VDJ_HLA_df = VDJ_HLA_df.rename(columns={\"family\":\"transcript\"})\n",
    "# even though we are summing over families, retain name \"transcript\" for compatability with below code"
   ]
  },
  {
   "cell_type": "code",
   "execution_count": 210,
   "metadata": {},
   "outputs": [],
   "source": [
    "# VDJ_HLA_df['HLA_DQB1_0301_dose'].unique()"
   ]
  },
  {
   "cell_type": "code",
   "execution_count": 29,
   "metadata": {},
   "outputs": [],
   "source": [
    "def get_transcript_df(transcript, remove_outliers=False):\n",
    "    transcript_df = VDJ_HLA_df[VDJ_HLA_df['transcript'] == transcript]\n",
    "    if remove_outliers:\n",
    "        quantile_low, quantile_high = transcript_df[\"usage_ratio\"].quantile([0.025, 0.975]).values\n",
    "        transcript_df = transcript_df[(transcript_df[\"usage_ratio\"] > quantile_low) & (transcript_df[\"usage_ratio\"] < quantile_high)]\n",
    "    return transcript_df"
   ]
  },
  {
   "cell_type": "markdown",
   "metadata": {},
   "source": [
    "### Code for OLS Regression & Plot (treating 03:01 as dose - 0, 1, 2)"
   ]
  },
  {
   "cell_type": "code",
   "execution_count": 212,
   "metadata": {},
   "outputs": [],
   "source": [
    "# def reg_plot_df(transcript_df, plot_column_name):\n",
    "#     fig, ax = plt.subplots()\n",
    "#     sns.violinplot(x=\"HLA_DQB1_0301_dose\", y=plot_column_name, data=transcript_df, ax=ax)\n",
    "#     sns.regplot(x=\"HLA_DQB1_0301_dose\", y=plot_column_name, data=transcript_df, x_estimator=np.median, color=\"yellow\", ax=ax, label=\"Median Estimator\")\n",
    "#     plt.title(transcript_df['transcript'].unique()[0])\n",
    "#     plt.legend()"
   ]
  },
  {
   "cell_type": "code",
   "execution_count": 213,
   "metadata": {},
   "outputs": [],
   "source": [
    "# covariate_column_names = [\"DQA1_{}\".format(allele) for allele in DQA1_unique_alleles]"
   ]
  },
  {
   "cell_type": "code",
   "execution_count": 214,
   "metadata": {},
   "outputs": [],
   "source": [
    "# def regress_get_pvalue(transcript_df, plot_column_name, covariates=True, covariate_column_names=None):\n",
    "#     if covariates:\n",
    "#         X = transcript_df.loc[:, [\"HLA_DQB1_0301_dose\"]+covariate_column_names].values\n",
    "#     else:\n",
    "#         X = transcript_df.loc[:, [\"HLA_DQB1_0301_dose\"]].values\n",
    "#     y = transcript_df[plot_column_name].values\n",
    "#     XX = sm.add_constant(X)\n",
    "#     mod = sm.OLS(y, XX)\n",
    "#     res = mod.fit()\n",
    "#     return res.params[1], res.pvalues[1] # p-value of coefficient, coefficient"
   ]
  },
  {
   "cell_type": "markdown",
   "metadata": {},
   "source": [
    "### Code for T test & Distribution Plotting (treating 03:01 as binary - 0, 1)"
   ]
  },
  {
   "cell_type": "code",
   "execution_count": 39,
   "metadata": {},
   "outputs": [],
   "source": [
    "def dist_plot_df(experiment_group_df, control_group_df, plot_column_name):\n",
    "    present = experimental_group_df[plot_column_name].values\n",
    "    absent = control_group_df[plot_column_name].values\n",
    "    sns.distplot(present, bins=30, label=\"experiment group\")\n",
    "    sns.distplot(absent, bins=30, label=\"control group\")\n",
    "    plt.title(transcript_df['transcript'].unique()[0])\n",
    "    plt.legend()\n",
    "    plt.show()"
   ]
  },
  {
   "cell_type": "code",
   "execution_count": 40,
   "metadata": {},
   "outputs": [],
   "source": [
    "def ttest_get_pvalue(experimental_group_df, control_group_df, plot_column_name):\n",
    "    present = experimental_group_df[plot_column_name].values\n",
    "    absent = control_group_df[plot_column_name].values\n",
    "    #np.var(present), np.var(absent) # check variance\n",
    "    t, p = scipy.stats.ttest_ind(present, absent)\n",
    "    return np.mean(present), np.mean(absent), t, p"
   ]
  },
  {
   "cell_type": "code",
   "execution_count": 77,
   "metadata": {},
   "outputs": [
    {
     "name": "stdout",
     "output_type": "stream",
     "text": [
      "TRAJ1 92 490\n",
      "TRAJ10 108 606\n",
      "TRAJ11 108 604\n",
      "TRAJ12 108 602\n",
      "TRAJ13 108 603\n",
      "TRAJ14 39 230\n",
      "TRAJ15 108 605\n",
      "TRAJ16 107 606\n",
      "TRAJ17 108 605\n",
      "TRAJ18 108 606\n",
      "TRAJ2 90 492\n",
      "TRAJ20 108 607\n",
      "TRAJ21 108 604\n",
      "TRAJ22 108 605\n",
      "TRAJ23 108 605\n",
      "TRAJ24 108 605\n",
      "TRAJ26 108 604\n",
      "TRAJ27 108 606\n",
      "TRAJ28 108 607\n",
      "TRAJ29 108 605\n",
      "TRAJ3 108 605\n",
      "TRAJ30 108 606\n",
      "TRAJ31 108 605\n",
      "TRAJ32 108 605\n",
      "TRAJ33 108 607\n",
      "TRAJ34 108 607\n",
      "TRAJ35 108 597\n",
      "TRAJ36 108 604\n",
      "TRAJ37 108 606\n",
      "TRAJ38 106 602\n",
      "TRAJ39 108 603\n",
      "TRAJ4 108 607\n",
      "TRAJ40 108 604\n",
      "TRAJ41 107 600\n",
      "TRAJ42 108 607\n",
      "TRAJ43 108 602\n",
      "TRAJ44 108 605\n",
      "TRAJ45 108 607\n",
      "TRAJ46 90 501\n",
      "TRAJ47 108 598\n",
      "TRAJ48 108 603\n",
      "TRAJ49 108 607\n",
      "TRAJ5 108 606\n",
      "TRAJ50 108 593\n",
      "TRAJ52 108 606\n",
      "TRAJ53 108 606\n",
      "TRAJ54 108 607\n",
      "TRAJ56 103 596\n",
      "TRAJ57 108 603\n",
      "TRAJ58 108 599\n",
      "TRAJ6 108 605\n",
      "TRAJ7 107 598\n",
      "TRAJ8 108 604\n",
      "TRAJ9 108 607\n",
      "TRAV1-1 108 606\n",
      "TRAV1-2 108 607\n",
      "TRAV10 108 606\n",
      "TRAV12-1 108 607\n",
      "TRAV12-2 108 607\n",
      "TRAV12-3 108 607\n",
      "TRAV13-1 108 607\n",
      "TRAV13-2 108 607\n",
      "TRAV14/DV4 108 607\n",
      "TRAV16 108 607\n",
      "TRAV17 108 607\n",
      "TRAV18 107 603\n",
      "TRAV19 108 607\n",
      "TRAV2 108 607\n",
      "TRAV20 108 606\n",
      "TRAV21 108 607\n",
      "TRAV22 108 607\n",
      "TRAV23/DV6 108 607\n",
      "TRAV24 108 606\n",
      "TRAV25 108 607\n",
      "TRAV26-1 108 607\n",
      "TRAV26-2 108 607\n",
      "TRAV27 108 607\n",
      "TRAV29/DV5 108 607\n",
      "TRAV3 108 607\n",
      "TRAV30 108 606\n",
      "TRAV34 108 603\n",
      "TRAV35 108 607\n",
      "TRAV36/DV7 108 607\n",
      "TRAV38-1 108 606\n",
      "TRAV38-2/DV8 108 607\n",
      "TRAV39 108 607\n",
      "TRAV4 108 607\n",
      "TRAV40 108 595\n",
      "TRAV41 108 607\n",
      "TRAV5 108 607\n",
      "TRAV6 108 607\n",
      "TRAV8-1 108 607\n",
      "TRAV8-2 108 607\n",
      "TRAV8-3 108 607\n",
      "TRAV8-4 108 607\n",
      "TRAV8-5 108 607\n",
      "TRAV8-6 108 607\n",
      "TRAV9-1 50 253\n",
      "TRAV9-2 108 607\n",
      "TRAJ19 48 246\n",
      "TRAJ25 46 258\n",
      "TRAV11 52 255\n",
      "TRAV15 47 224\n",
      "TRAV8-7 88 449\n",
      "TRAV31 8 21\n",
      "TRAV37 26 155\n",
      "TRAJ59 28 137\n",
      "TRAJ60 23 133\n",
      "TRAV33 32 193\n",
      "TRAV7 28 122\n",
      "TRAJ61 60 372\n",
      "TRAV28 27 123\n",
      "TRAJ55 10 99\n",
      "TRAJ51 15 87\n",
      "TRAV32 4 11\n"
     ]
    }
   ],
   "source": [
    "transcript_pvalue_dict = dict()\n",
    "for transcript in VDJ_HLA_df['transcript'].unique():\n",
    "    try:\n",
    "        transcript_df = get_transcript_df(transcript, remove_outliers=False)\n",
    "        experimental_group_df = transcript_df[(transcript_df['DQB10301_present'] == True) & (transcript_df['DQA10303_present'] == True)]\n",
    "        if len(experimental_group_df) == 0:\n",
    "            print(\"skipped {} due to no subjects in experiment group\".format(transcript))\n",
    "        control_group_df = transcript_df[transcript_df['DQB10301_present'] == False]\n",
    "        print(transcript, len(experimental_group_df), len(control_group_df))\n",
    "        # visual inspection suggests similar variance across two groups\n",
    "        ## TWO GROUP T TEST\n",
    "        #dist_plot_df(transcript_df, \"usage_ratio\") # plot overlapping histograms\n",
    "        present_mean, absent_mean, t, p = ttest_get_pvalue(experimental_group_df, control_group_df, \"usage_ratio\")\n",
    "        transcript_pvalue_dict[transcript] = (len(experimental_group_df), len(control_group_df), present_mean, absent_mean, t, p)\n",
    "        \n",
    "        ## REGRESSION\n",
    "        #slope, slope_p = regress_get_pvalue(transcript_df, \"usage_ratio\", covariates=True, covariate_column_names=covariate_column_names)\n",
    "        #transcript_pvalue_dict[transcript] = (len(transcript_df), slope, slope_p)\n",
    "    except:\n",
    "        print(\"skipped {} due to error\".format(transcript))\n",
    "        continue"
   ]
  },
  {
   "cell_type": "code",
   "execution_count": 78,
   "metadata": {},
   "outputs": [
    {
     "data": {
      "text/plain": [
       "115"
      ]
     },
     "execution_count": 78,
     "metadata": {},
     "output_type": "execute_result"
    }
   ],
   "source": [
    "len(transcript_pvalue_dict) # how many tests did we do"
   ]
  },
  {
   "cell_type": "code",
   "execution_count": 79,
   "metadata": {},
   "outputs": [],
   "source": [
    "ranked_transcripts = sorted(transcript_pvalue_dict, key=lambda x: transcript_pvalue_dict[x][-1])"
   ]
  },
  {
   "cell_type": "code",
   "execution_count": 80,
   "metadata": {},
   "outputs": [],
   "source": [
    "# # REGRESSION\n",
    "\n",
    "# out_file = open(\"vdj_usage_dqb10301_by_family_dqa1controlled_ols_results.csv\", \"w\")\n",
    "# out_file.write(\"index,transcript,n,OLS slope coefficient,coefficient p-value\\n\")\n",
    "# for i, transcript in enumerate(ranked_transcripts):\n",
    "#     n, slope, p = transcript_pvalue_dict[transcript]\n",
    "#     out_file.write(\"{},{},{},{:.8f},{:.8f}\\n\".format(i+1, transcript, n, slope, p))\n",
    "# out_file.close()"
   ]
  },
  {
   "cell_type": "code",
   "execution_count": 81,
   "metadata": {},
   "outputs": [],
   "source": [
    "# T Test \n",
    "\n",
    "out_file = open(\"vdj_usage_dqb10301_dqa10303_ttest_results.csv\", \"w\")\n",
    "out_file.write(\"index,transcript,present_n,absent_n,0303+0301_present_mean, 0301_absent_mean, mean_diff(pres-abs), t-stat, p-value\\n\")\n",
    "for i, transcript in enumerate(ranked_transcripts):\n",
    "    n1, n2, present_mean, absent_mean, t, p = transcript_pvalue_dict[transcript]\n",
    "    out_file.write(\"{},{},{},{},{:.4f},{:.4f},{:.4f},{:.8f},{:.8f}\\n\".format(i+1, transcript, n1, n2, present_mean, absent_mean, present_mean-absent_mean, t, p))\n",
    "out_file.close()"
   ]
  },
  {
   "cell_type": "code",
   "execution_count": null,
   "metadata": {},
   "outputs": [],
   "source": []
  },
  {
   "cell_type": "code",
   "execution_count": 140,
   "metadata": {},
   "outputs": [],
   "source": []
  },
  {
   "cell_type": "code",
   "execution_count": 174,
   "metadata": {},
   "outputs": [
    {
     "data": {
      "image/png": "[encoded data removed]",
      "text/plain": [
       "<Figure size 432x288 with 1 Axes>"
      ]
     },
     "metadata": {
      "needs_background": "light"
     },
     "output_type": "display_data"
    }
   ],
   "source": [
    "transcript_df = get_transcript_df(\"TRAV9-2\", remove_outliers=True)\n",
    "dist_plot_df(transcript_df, \"usage_ratio\")"
   ]
  },
  {
   "cell_type": "code",
   "execution_count": null,
   "metadata": {},
   "outputs": [],
   "source": []
  },
  {
   "cell_type": "code",
   "execution_count": null,
   "metadata": {},
   "outputs": [],
   "source": [
    "plot_df(get_transcript_df(\"TRAV20\", remove_outliers=True), \"usage_ratio\")"
   ]
  },
  {
   "cell_type": "code",
   "execution_count": null,
   "metadata": {},
   "outputs": [],
   "source": [
    "plot_df(get_transcript_df(\"TRAV20\", remove_outliers=False), \"usage_ratio\")"
   ]
  }
 ],
 "metadata": {
  "kernelspec": {
   "display_name": "Python 3",
   "language": "python",
   "name": "python3"
  },
  "language_info": {
   "codemirror_mode": {
    "name": "ipython",
    "version": 3
   },
   "file_extension": ".py",
   "mimetype": "text/x-python",
   "name": "python",
   "nbconvert_exporter": "python",
   "pygments_lexer": "ipython3",
   "version": "3.6.8"
  }
 },
 "nbformat": 4,
 "nbformat_minor": 2
}

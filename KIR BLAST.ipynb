{
 "cells": [
  {
   "cell_type": "markdown",
   "metadata": {},
   "source": [
    "# Get BLAST outputs"
   ]
  },
  {
   "cell_type": "code",
   "execution_count": 4,
   "metadata": {},
   "outputs": [],
   "source": [
    "import os"
   ]
  },
  {
   "cell_type": "code",
   "execution_count": 5,
   "metadata": {},
   "outputs": [],
   "source": [
    "write_root = \"/labs/mignot/KIR_BLAST_OUT\"\n",
    "read_root = \"/labs/mignot/10xGenomics/5k_pbmc_v3_fastqs\"\n",
    "blastdb_path = \"/home/ashteng/blastdb/KIR.fasta\""
   ]
  },
  {
   "cell_type": "code",
   "execution_count": 6,
   "metadata": {},
   "outputs": [
    {
     "data": {
      "text/plain": [
       "'5k_pbmc_v3_S1_L003_R1_001.fastq.gz'"
      ]
     },
     "execution_count": 6,
     "metadata": {},
     "output_type": "execute_result"
    }
   ],
   "source": [
    "os.path.basename(os.listdir(read_root)[0])"
   ]
  },
  {
   "cell_type": "code",
   "execution_count": 7,
   "metadata": {},
   "outputs": [
    {
     "name": "stdout",
     "output_type": "stream",
     "text": [
      "5k_pbmc_v3_S1_L003_R1_001.fastq.gz\n",
      "5k_pbmc_v3_S1_L002_R2_001.fastq.gz\n",
      "5k_pbmc_v3_S1_L001_R2_001.fastq.gz\n",
      "5k_pbmc_v3_S1_L002_I1_001.fastq.gz\n",
      "5k_pbmc_v3_S1_L003_I1_001.fastq.gz\n",
      "5k_pbmc_v3_S1_L004_I1_001.fastq.gz\n",
      "5k_pbmc_v3_S1_L004_R2_001.fastq.gz\n",
      "5k_pbmc_v3_S1_L002_R1_001.fastq.gz\n",
      "5k_pbmc_v3_S1_L001_I1_001.fastq.gz\n",
      "5k_pbmc_v3_S1_L001_R1_001.fastq.gz\n",
      "5k_pbmc_v3_S1_L004_R1_001.fastq.gz\n",
      "5k_pbmc_v3_S1_L003_R2_001.fastq.gz\n"
     ]
    }
   ],
   "source": [
    "for filepath in os.listdir(read_root):\n",
    "    print(filepath)\n",
    "    basename = filepath.split(\".\")[0]\n",
    "    save_path = os.path.join(write_root, basename)\n",
    "    with open(\"{}.sh\".format(basename), \"w\") as f:\n",
    "        f.write(\"#!/bin/bash\\n#SBATCH --job-name=default\\n#SBATCH --nodes=1\\n#SBATCH --ntasks=1\\n#SBATCH --cpus-per-task=8\\n#SBATCH --partition=batch\\n#SBATCH --account=mignot\\n#SBATCH --time=10:00:00\\n\")    \n",
    "        #command1 = \"gunzip < {} > {}.fastq\\n\".format(os.path.join(read_root, filepath), os.path.join(write_root, save_path))\n",
    "        #f.write(command1)\n",
    "        #command2 = \"paste - - - - < {}.fastq | cut -f 1,2 | sed 's/^@/>/' | tr '\\t' '\\n' > {}.fasta\\n\".format(save_path, save_path)\n",
    "        #f.write(command2)\n",
    "    #     command3 = \"rm {}.fastq\\n\".format(save_path)\n",
    "    #     f.write(command3)\n",
    "        command4 = \"blastn -num_threads 8 -db {} -query {}.fasta -outfmt 6 -out {}.out\\n\".format(blastdb_path, save_path, save_path)\n",
    "        f.write(command4)\n",
    "#         command5 = \"rm {}.fasta\\n\".format(save_path)\n",
    "#         f.write(command5)"
   ]
  },
  {
   "cell_type": "code",
   "execution_count": 8,
   "metadata": {},
   "outputs": [
    {
     "name": "stdout",
     "output_type": "stream",
     "text": [
      "5k_pbmc_v3_S1_L004_R1_001.sh\n",
      "Submitted batch job 12663388\n",
      "5k_pbmc_v3_S1_L003_R2_001.sh\n",
      "Submitted batch job 12663389\n",
      "5k_pbmc_v3_S1_L003_R1_001.sh\n",
      "Submitted batch job 12663390\n",
      "5k_pbmc_v3_S1_L004_R2_001.sh\n",
      "Submitted batch job 12663391\n",
      "5k_pbmc_v3_S1_L004_I1_001.sh\n",
      "Submitted batch job 12663392\n",
      "5k_pbmc_v3_S1_L003_I1_001.sh\n",
      "Submitted batch job 12663393\n",
      "5k_pbmc_v3_S1_L001_R1_001.sh\n",
      "Submitted batch job 12663394\n",
      "5k_pbmc_v3_S1_L001_R2_001.sh\n",
      "Submitted batch job 12663395\n",
      "5k_pbmc_v3_S1_L002_R2_001.sh\n",
      "Submitted batch job 12663396\n",
      "5k_pbmc_v3_S1_L002_I1_001.sh\n",
      "Submitted batch job 12663397\n",
      "5k_pbmc_v3_S1_L001_I1_001.sh\n",
      "Submitted batch job 12663398\n",
      "5k_pbmc_v3_S1_L002_R1_001.sh\n",
      "Submitted batch job 12663399\n"
     ]
    }
   ],
   "source": [
    "for filepath in os.listdir(\".\"):\n",
    "    if filepath[-3:] == \".sh\":\n",
    "        basename, _ = filepath.split(\".\")\n",
    "        script = \"{}.sh\".format(os.path.join(basename))\n",
    "        print(script)\n",
    "        !sbatch {script}"
   ]
  },
  {
   "cell_type": "markdown",
   "metadata": {},
   "source": [
    "# Generate Dataframe"
   ]
  },
  {
   "cell_type": "code",
   "execution_count": 45,
   "metadata": {},
   "outputs": [],
   "source": [
    "import pandas as pd\n",
    "import numpy as np"
   ]
  },
  {
   "cell_type": "code",
   "execution_count": 46,
   "metadata": {},
   "outputs": [],
   "source": [
    "root = \"/labs/mignot/KIR_BLAST_OUT\""
   ]
  },
  {
   "cell_type": "code",
   "execution_count": null,
   "metadata": {},
   "outputs": [],
   "source": [
    "df = pd.DataFrame(columns=[\"patid\", \"genotype\", \"dose\", \"transcript\", \"count\"])\n",
    "for file in os.listdir(root):\n",
    "    patid, extension = file[:-4], file[-4:]\n",
    "    if extension == \".out\":\n",
    "        filepath = os.path.join(root, file)\n",
    "        # load each person's .out file into a separate dataframe\n",
    "        raw_df = pd.read_csv(filepath, delimiter=\"\\t\", names=['qseqid', 'sseqid', 'pident', 'length', 'mismatch', 'gapopen', 'qstart', 'qend', 'sstart', 'send', 'evalue', 'bitscore'])\n",
    "        # group by read id and only extract the maximum score read across families\n",
    "        # raw_df = raw_df.loc[raw_df.groupby([\"qseqid\"], sort=False)[\"pident\"].idxmax()] \n",
    "        for j_code in all_j_codes_dict:\n",
    "            df = df.append({\"patid\": patid, \"genotype\": genotype, \"dose\": genotype_name_dose_dict[genotype], \"transcript\": j_code, \"count\": all_j_codes_dict[j_code]}, ignore_index=True)"
   ]
  }
 ],
 "metadata": {
  "kernelspec": {
   "display_name": "Python 3",
   "language": "python",
   "name": "python3"
  },
  "language_info": {
   "codemirror_mode": {
    "name": "ipython",
    "version": 3
   },
   "file_extension": ".py",
   "mimetype": "text/x-python",
   "name": "python",
   "nbconvert_exporter": "python",
   "pygments_lexer": "ipython3",
   "version": "3.6.8"
  }
 },
 "nbformat": 4,
 "nbformat_minor": 2
}

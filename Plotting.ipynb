{
 "cells": [
  {
   "cell_type": "code",
   "execution_count": 28,
   "metadata": {},
   "outputs": [],
   "source": [
    "import os\n",
    "import matplotlib.pyplot as plt\n",
    "import seaborn as sns\n",
    "import pandas as pd\n",
    "import numpy as np\n",
    "import statsmodels.api as sm\n",
    "import pickle\n",
    "%matplotlib inline"
   ]
  },
  {
   "cell_type": "code",
   "execution_count": 2,
   "metadata": {},
   "outputs": [],
   "source": [
    "path = \"/labs/mignot/DGN/BLAST\"\n",
    "zero_path = os.path.join(path, \"zero\")\n",
    "one_path = os.path.join(path, \"one\")\n",
    "two_path = os.path.join(path, \"two\")\n",
    "J24_2 = \"TRAJ24*02\" # \"TRAJ28*01\"\n",
    "J24_3 = \"TRAJ24*03\""
   ]
  },
  {
   "cell_type": "code",
   "execution_count": 3,
   "metadata": {},
   "outputs": [],
   "source": [
    "f = open(\"/home/ashteng/allJCodes.txt\", \"r\")\n",
    "all_j_codes = set([x.strip() for x in f.readlines()])"
   ]
  },
  {
   "cell_type": "code",
   "execution_count": 4,
   "metadata": {},
   "outputs": [],
   "source": [
    "genotype_name_path_dict = {\"GG\": zero_path, \"GC\": one_path, \"CC\": two_path}\n",
    "genotype_name_dose_dict = {\"GG\": 0, \"GC\": 1, \"CC\": 2}"
   ]
  },
  {
   "cell_type": "code",
   "execution_count": 5,
   "metadata": {},
   "outputs": [],
   "source": [
    "df = pd.DataFrame(columns=[\"patid\", \"genotype\", \"dose\", \"transcript\", \"count\"])\n",
    "for genotype in genotype_name_path_dict.keys(): # zero, one, two\n",
    "    genotype_path = genotype_name_path_dict[genotype]\n",
    "    for file in os.listdir(genotype_path): # for each person\n",
    "        patid, extension = file[:-4], file[-4:]\n",
    "        if extension == \".out\":\n",
    "            filepath = os.path.join(genotype_path, file)\n",
    "            with open(filepath, \"r\") as f:\n",
    "                all_j_codes_dict = {x:0 for x in all_j_codes} # each person has a counts distribution over all J codes\n",
    "                for line in f:\n",
    "                    match = line.split()[1]\n",
    "                    if match in all_j_codes_dict:\n",
    "                        all_j_codes_dict[match] += 1\n",
    "                    else:\n",
    "                        print(\"Error: unknown match {} from {}.\".format(match, filepath))\n",
    "                for j_code in all_j_codes_dict:\n",
    "                    df = df.append({\"patid\": patid, \"genotype\": genotype, \"dose\": genotype_name_dose_dict[genotype], \"transcript\": j_code, \"count\": all_j_codes_dict[j_code]}, ignore_index=True)"
   ]
  },
  {
   "cell_type": "code",
   "execution_count": 6,
   "metadata": {},
   "outputs": [],
   "source": [
    "assert len(all_j_codes_dict) == len(df['transcript'].unique()) == len(df[df['patid'] == 'LD0420'])\n",
    "df.to_csv(\"allJCounts.txt\")"
   ]
  },
  {
   "cell_type": "code",
   "execution_count": 7,
   "metadata": {},
   "outputs": [],
   "source": [
    "df = pd.read_csv(\"allJCounts.txt\", index_col=0)"
   ]
  },
  {
   "cell_type": "code",
   "execution_count": 8,
   "metadata": {},
   "outputs": [],
   "source": [
    "transcript_family_subtype_df = df[\"transcript\"].str.split(\"*\", n = 1, expand = True).rename(columns={0:\"family\", 1:\"subtype\"})"
   ]
  },
  {
   "cell_type": "code",
   "execution_count": 9,
   "metadata": {},
   "outputs": [],
   "source": [
    "df[\"family\"] = transcript_family_subtype_df[\"family\"]\n",
    "df[\"subtype\"] = transcript_family_subtype_df[\"subtype\"]"
   ]
  },
  {
   "cell_type": "code",
   "execution_count": 10,
   "metadata": {},
   "outputs": [
    {
     "data": {
      "text/html": [
       "<div>\n",
       "<style scoped>\n",
       "    .dataframe tbody tr th:only-of-type {\n",
       "        vertical-align: middle;\n",
       "    }\n",
       "\n",
       "    .dataframe tbody tr th {\n",
       "        vertical-align: top;\n",
       "    }\n",
       "\n",
       "    .dataframe thead th {\n",
       "        text-align: right;\n",
       "    }\n",
       "</style>\n",
       "<table border=\"1\" class=\"dataframe\">\n",
       "  <thead>\n",
       "    <tr style=\"text-align: right;\">\n",
       "      <th></th>\n",
       "      <th>patid</th>\n",
       "      <th>genotype</th>\n",
       "      <th>dose</th>\n",
       "      <th>transcript</th>\n",
       "      <th>count</th>\n",
       "      <th>family</th>\n",
       "      <th>subtype</th>\n",
       "    </tr>\n",
       "  </thead>\n",
       "  <tbody>\n",
       "    <tr>\n",
       "      <td>0</td>\n",
       "      <td>LD0176</td>\n",
       "      <td>GG</td>\n",
       "      <td>0</td>\n",
       "      <td>TRBJ2-4*01</td>\n",
       "      <td>52</td>\n",
       "      <td>TRBJ2-4</td>\n",
       "      <td>01</td>\n",
       "    </tr>\n",
       "    <tr>\n",
       "      <td>1</td>\n",
       "      <td>LD0176</td>\n",
       "      <td>GG</td>\n",
       "      <td>0</td>\n",
       "      <td>TRAJ07*01</td>\n",
       "      <td>10</td>\n",
       "      <td>TRAJ07</td>\n",
       "      <td>01</td>\n",
       "    </tr>\n",
       "    <tr>\n",
       "      <td>2</td>\n",
       "      <td>LD0176</td>\n",
       "      <td>GG</td>\n",
       "      <td>0</td>\n",
       "      <td>TRAJ43*01</td>\n",
       "      <td>14</td>\n",
       "      <td>TRAJ43</td>\n",
       "      <td>01</td>\n",
       "    </tr>\n",
       "    <tr>\n",
       "      <td>3</td>\n",
       "      <td>LD0176</td>\n",
       "      <td>GG</td>\n",
       "      <td>0</td>\n",
       "      <td>TRAJ16*01</td>\n",
       "      <td>2</td>\n",
       "      <td>TRAJ16</td>\n",
       "      <td>01</td>\n",
       "    </tr>\n",
       "    <tr>\n",
       "      <td>4</td>\n",
       "      <td>LD0176</td>\n",
       "      <td>GG</td>\n",
       "      <td>0</td>\n",
       "      <td>TRAJ19*01</td>\n",
       "      <td>0</td>\n",
       "      <td>TRAJ19</td>\n",
       "      <td>01</td>\n",
       "    </tr>\n",
       "  </tbody>\n",
       "</table>\n",
       "</div>"
      ],
      "text/plain": [
       "    patid genotype  dose  transcript  count   family subtype\n",
       "0  LD0176       GG     0  TRBJ2-4*01     52  TRBJ2-4      01\n",
       "1  LD0176       GG     0   TRAJ07*01     10   TRAJ07      01\n",
       "2  LD0176       GG     0   TRAJ43*01     14   TRAJ43      01\n",
       "3  LD0176       GG     0   TRAJ16*01      2   TRAJ16      01\n",
       "4  LD0176       GG     0   TRAJ19*01      0   TRAJ19      01"
      ]
     },
     "execution_count": 10,
     "metadata": {},
     "output_type": "execute_result"
    }
   ],
   "source": [
    "df.head()"
   ]
  },
  {
   "cell_type": "code",
   "execution_count": 12,
   "metadata": {},
   "outputs": [],
   "source": [
    "patid_genotype_df = df[['patid', 'genotype', 'dose']].drop_duplicates()\n",
    "patid_genotype_df.head()\n",
    "patid_genotype_df.to_csv(\"patid_genotype.csv\")"
   ]
  },
  {
   "cell_type": "code",
   "execution_count": 13,
   "metadata": {},
   "outputs": [
    {
     "data": {
      "text/html": [
       "<div>\n",
       "<style scoped>\n",
       "    .dataframe tbody tr th:only-of-type {\n",
       "        vertical-align: middle;\n",
       "    }\n",
       "\n",
       "    .dataframe tbody tr th {\n",
       "        vertical-align: top;\n",
       "    }\n",
       "\n",
       "    .dataframe thead th {\n",
       "        text-align: right;\n",
       "    }\n",
       "</style>\n",
       "<table border=\"1\" class=\"dataframe\">\n",
       "  <thead>\n",
       "    <tr style=\"text-align: right;\">\n",
       "      <th></th>\n",
       "      <th>patid</th>\n",
       "      <th>total_J_count</th>\n",
       "    </tr>\n",
       "  </thead>\n",
       "  <tbody>\n",
       "    <tr>\n",
       "      <td>0</td>\n",
       "      <td>LD0002</td>\n",
       "      <td>2979</td>\n",
       "    </tr>\n",
       "    <tr>\n",
       "      <td>1</td>\n",
       "      <td>LD0003</td>\n",
       "      <td>2399</td>\n",
       "    </tr>\n",
       "    <tr>\n",
       "      <td>2</td>\n",
       "      <td>LD0006</td>\n",
       "      <td>3086</td>\n",
       "    </tr>\n",
       "    <tr>\n",
       "      <td>3</td>\n",
       "      <td>LD0007</td>\n",
       "      <td>3353</td>\n",
       "    </tr>\n",
       "    <tr>\n",
       "      <td>4</td>\n",
       "      <td>LD0008</td>\n",
       "      <td>2871</td>\n",
       "    </tr>\n",
       "  </tbody>\n",
       "</table>\n",
       "</div>"
      ],
      "text/plain": [
       "    patid  total_J_count\n",
       "0  LD0002           2979\n",
       "1  LD0003           2399\n",
       "2  LD0006           3086\n",
       "3  LD0007           3353\n",
       "4  LD0008           2871"
      ]
     },
     "execution_count": 13,
     "metadata": {},
     "output_type": "execute_result"
    }
   ],
   "source": [
    "total_j_count_df = df[[\"patid\", \"count\"]].groupby(\"patid\").sum().rename(columns={\"count\":\"total_J_count\"}).reset_index()\n",
    "total_j_count_df.head()"
   ]
  },
  {
   "cell_type": "code",
   "execution_count": 14,
   "metadata": {},
   "outputs": [],
   "source": [
    "df_with_total = pd.merge(df, total_j_count_df, how=\"inner\", on=\"patid\")\n",
    "df_with_total[\"ratio\"] = df_with_total[\"count\"]/df_with_total[\"total_J_count\"]"
   ]
  },
  {
   "cell_type": "code",
   "execution_count": 41,
   "metadata": {},
   "outputs": [],
   "source": [
    "def drawFamilyBoxPlots(query_transcripts, plot_column=\"ratio\"):\n",
    "    # query_transcripts can be single, or list of multiple, which will be summed together\n",
    "    summed_plot_column = \"summed_{}\".format(plot_column)\n",
    "    \n",
    "    # filter out rows that match query_transcripts\n",
    "    filtered_transcripts_df = df_with_total[df_with_total['transcript'].isin(query_transcripts)]\n",
    "    \n",
    "    # sum up all row values by groupby patid\n",
    "    summed_filtered_transcripts_df = filtered_transcripts_df[['patid', plot_column]].groupby('patid').sum().reset_index().rename(columns={plot_column:summed_plot_column})\n",
    "    \n",
    "    # add metadata about genotypes and dose\n",
    "    plot_df = pd.merge(summed_filtered_transcripts_df, patid_genotype_df)\n",
    "\n",
    "    fig, ax = plt.subplots()\n",
    "    sns.boxplot(x=\"genotype\", y=summed_plot_column, data=plot_df, order=[\"GG\", \"GC\", \"CC\"], ax=ax)\n",
    "    sns.regplot(x=\"dose\", y=summed_plot_column, data=plot_df, x_estimator=np.mean, color=\"yellow\", ax=ax, label=\"Mean Estimator\")\n",
    "    #sns.scatterplot(x=\"dose\", y=summed_plot_column, data=plot_df)\n",
    "    X = plot_df['dose'].values\n",
    "    y = plot_df[summed_plot_column].values\n",
    "    XX = sm.add_constant(X.flatten())\n",
    "    mod = sm.OLS(y, XX)\n",
    "    res = mod.fit()\n",
    "    print('Parameters: ', res.params)\n",
    "    print('R2: ', res.rsquared)\n",
    "    print('p values:', res.pvalues)\n",
    "    print(res.summary())\n",
    "    \n",
    "    plt.legend()\n",
    "    plt.title(\"BLAST {} {}\".format(query_transcripts, summed_plot_column))"
   ]
  },
  {
   "cell_type": "code",
   "execution_count": 42,
   "metadata": {},
   "outputs": [
    {
     "name": "stdout",
     "output_type": "stream",
     "text": [
      "Parameters:  [11.82934387 -1.25160741]\n",
      "R2:  0.009643759381564032\n",
      "p values: [1.45116876e-109 2.07895234e-002]\n",
      "                            OLS Regression Results                            \n",
      "==============================================================================\n",
      "Dep. Variable:                      y   R-squared:                       0.010\n",
      "Model:                            OLS   Adj. R-squared:                  0.008\n",
      "Method:                 Least Squares   F-statistic:                     5.375\n",
      "Date:                Mon, 21 Oct 2019   Prob (F-statistic):             0.0208\n",
      "Time:                        10:24:59   Log-Likelihood:                -1891.7\n",
      "No. Observations:                 554   AIC:                             3787.\n",
      "Df Residuals:                     552   BIC:                             3796.\n",
      "Df Model:                           1                                         \n",
      "Covariance Type:            nonrobust                                         \n",
      "==============================================================================\n",
      "                 coef    std err          t      P>|t|      [0.025      0.975]\n",
      "------------------------------------------------------------------------------\n",
      "const         11.8293      0.418     28.306      0.000      11.008      12.650\n",
      "x1            -1.2516      0.540     -2.318      0.021      -2.312      -0.191\n",
      "==============================================================================\n",
      "Omnibus:                      370.229   Durbin-Watson:                   1.881\n",
      "Prob(Omnibus):                  0.000   Jarque-Bera (JB):             5903.690\n",
      "Skew:                           2.702   Prob(JB):                         0.00\n",
      "Kurtosis:                      18.052   Cond. No.                         2.33\n",
      "==============================================================================\n",
      "\n",
      "Warnings:\n",
      "[1] Standard Errors assume that the covariance matrix of the errors is correctly specified.\n"
     ]
    },
    {
     "data": {
      "image/png": "[encoded data removed]",
      "text/plain": [
       "<Figure size 432x288 with 1 Axes>"
      ]
     },
     "metadata": {
      "needs_background": "light"
     },
     "output_type": "display_data"
    }
   ],
   "source": [
    "drawFamilyBoxPlots([\"TRAJ24*01\"], \"count\")"
   ]
  },
  {
   "cell_type": "code",
   "execution_count": 19,
   "metadata": {},
   "outputs": [
    {
     "data": {
      "image/png": "[encoded data removed]",
      "text/plain": [
       "<Figure size 432x288 with 1 Axes>"
      ]
     },
     "metadata": {
      "needs_background": "light"
     },
     "output_type": "display_data"
    }
   ],
   "source": [
    "drawFamilyBoxPlots([\"TRAJ24*01\"], \"ratio\")"
   ]
  },
  {
   "cell_type": "code",
   "execution_count": 17,
   "metadata": {},
   "outputs": [
    {
     "data": {
      "image/png": "[encoded data removed]",
      "text/plain": [
       "<Figure size 432x288 with 1 Axes>"
      ]
     },
     "metadata": {
      "needs_background": "light"
     },
     "output_type": "display_data"
    }
   ],
   "source": [
    "drawFamilyBoxPlots([\"TRAJ28*01\"], \"count\")"
   ]
  },
  {
   "cell_type": "code",
   "execution_count": null,
   "metadata": {},
   "outputs": [],
   "source": []
  },
  {
   "cell_type": "code",
   "execution_count": null,
   "metadata": {},
   "outputs": [],
   "source": []
  },
  {
   "cell_type": "code",
   "execution_count": null,
   "metadata": {},
   "outputs": [],
   "source": []
  },
  {
   "cell_type": "code",
   "execution_count": null,
   "metadata": {},
   "outputs": [],
   "source": []
  },
  {
   "cell_type": "code",
   "execution_count": null,
   "metadata": {},
   "outputs": [],
   "source": []
  },
  {
   "cell_type": "markdown",
   "metadata": {},
   "source": [
    "### Old Code"
   ]
  },
  {
   "cell_type": "code",
   "execution_count": null,
   "metadata": {},
   "outputs": [],
   "source": [
    "# # transform into wide-form to compare with Sharon's counts\n",
    "\n",
    "# patid_family_counts_df = df[['patid', 'family', 'count']].groupby(['patid', 'family']).sum().reset_index()\n",
    "# sampled_people = patid_family_counts_df.patid.unique()\n",
    "# patid_family_counts_df = patid_family_counts_df.pivot(index='family', columns='patid', values='count')\n",
    "# patid_family_count_dict = patid_family_counts_df.to_dict()\n",
    "# pickle.dump(patid_family_count_dict, open(\"patid_family_count_dict.pkl\", \"wb\"))"
   ]
  },
  {
   "cell_type": "code",
   "execution_count": null,
   "metadata": {},
   "outputs": [],
   "source": []
  },
  {
   "cell_type": "code",
   "execution_count": null,
   "metadata": {},
   "outputs": [],
   "source": [
    "J24_2_count_df = df[df['transcript'] == J24_2][[\"patid\", \"count\"]].set_index(\"patid\").rename(columns={\"count\": \"J24_2_count\"})\n",
    "J24_2_count_df.head()"
   ]
  },
  {
   "cell_type": "code",
   "execution_count": null,
   "metadata": {},
   "outputs": [],
   "source": [
    "J24_3_count_df = df[df['transcript'] == J24_3][[\"patid\", \"count\"]].set_index(\"patid\").rename(columns={\"count\": \"J24_3_count\"})\n",
    "J24_3_count_df.head()"
   ]
  },
  {
   "cell_type": "code",
   "execution_count": null,
   "metadata": {},
   "outputs": [],
   "source": [
    "metadata_df = df[['patid', 'genotype', 'dose']].drop_duplicates().set_index(\"patid\")\n",
    "metadata_df.head()"
   ]
  },
  {
   "cell_type": "code",
   "execution_count": null,
   "metadata": {},
   "outputs": [],
   "source": [
    "final_df = metadata_df.join([total_j_count_df, J24_2_count_df, J24_3_count_df])\n",
    "final_df.head()"
   ]
  },
  {
   "cell_type": "code",
   "execution_count": null,
   "metadata": {},
   "outputs": [],
   "source": [
    "final_df['J24_count'] = final_df['J24_2_count'] + final_df['J24_3_count']\n",
    "final_df['J24_ratio'] = final_df['J24_count'] / final_df['count']\n",
    "final_df['J24_2_ratio'] = final_df['J24_2_count'] / final_df['count']\n",
    "#final_df['J24_2_ratio'] = (final_df['J24_2_ratio'] - np.mean(final_df['J24_2_ratio'])) / np.std(final_df['J24_2_ratio'])\n",
    "final_df['J24_3_ratio'] = final_df['J24_3_count'] / final_df['count']\n",
    "final_df.head()"
   ]
  },
  {
   "cell_type": "code",
   "execution_count": null,
   "metadata": {},
   "outputs": [],
   "source": [
    "ax = sns.boxplot(x=\"genotype\", y=\"J24_2_ratio\", data=final_df)\n",
    "plt.title(J24_2 + \" Ratio\")"
   ]
  },
  {
   "cell_type": "code",
   "execution_count": null,
   "metadata": {},
   "outputs": [],
   "source": [
    "ax = sns.boxplot(x=\"genotype\", y=\"J24_3_ratio\", data=final_df)\n",
    "plt.title(J24_3 + \" Ratio\")"
   ]
  },
  {
   "cell_type": "code",
   "execution_count": null,
   "metadata": {},
   "outputs": [],
   "source": [
    "ax = sns.boxplot(x=\"genotype\", y=\"J24_ratio\", data=final_df)\n",
    "plt.title(\"All J24 Ratio\")"
   ]
  },
  {
   "cell_type": "code",
   "execution_count": null,
   "metadata": {},
   "outputs": [],
   "source": [
    "import numpy as np\n",
    "from sklearn.linear_model import LinearRegression\n",
    "X, y = final_df[\"dose\"].to_numpy().reshape(-1, 1), final_df[\"J24_ratio\"]\n",
    "reg = LinearRegression().fit(X, y)"
   ]
  },
  {
   "cell_type": "code",
   "execution_count": null,
   "metadata": {
    "scrolled": true
   },
   "outputs": [],
   "source": [
    "reg.score(X, y) #R^2"
   ]
  },
  {
   "cell_type": "code",
   "execution_count": null,
   "metadata": {},
   "outputs": [],
   "source": [
    "reg.coef_, reg.intercept_ "
   ]
  },
  {
   "cell_type": "code",
   "execution_count": null,
   "metadata": {},
   "outputs": [],
   "source": [
    "pred_y = reg.predict(X)"
   ]
  },
  {
   "cell_type": "code",
   "execution_count": null,
   "metadata": {},
   "outputs": [],
   "source": [
    "ax = sns.lmplot(x=\"dose\", y=\"J24_ratio\", data=final_df, x_estimator=np.mean)"
   ]
  },
  {
   "cell_type": "code",
   "execution_count": null,
   "metadata": {},
   "outputs": [],
   "source": [
    "# ax = sns.lmplot(x=\"dose\", y=\"count\", hue=\"transcript\", data=df, x_estimator=np.mean)\n",
    "# plt.title(\"Relationship between C allele dose and J24 subtype transcript counts\")"
   ]
  },
  {
   "cell_type": "code",
   "execution_count": null,
   "metadata": {},
   "outputs": [],
   "source": [
    "import sklearn\n",
    "from sklearn import feature_selection\n",
    "sklearn.feature_selection.f_regression(X, y)\n",
    "XX = sm.add_constant(X.flatten())\n",
    "mod = sm.OLS(y, XX)\n",
    "res = mod.fit()"
   ]
  },
  {
   "cell_type": "code",
   "execution_count": null,
   "metadata": {},
   "outputs": [],
   "source": []
  },
  {
   "cell_type": "code",
   "execution_count": null,
   "metadata": {},
   "outputs": [],
   "source": [
    "res.pvalues"
   ]
  },
  {
   "cell_type": "code",
   "execution_count": null,
   "metadata": {},
   "outputs": [],
   "source": [
    "print(res.summary())"
   ]
  },
  {
   "cell_type": "code",
   "execution_count": null,
   "metadata": {},
   "outputs": [],
   "source": []
  }
 ],
 "metadata": {
  "kernelspec": {
   "display_name": "Python 3",
   "language": "python",
   "name": "python3"
  },
  "language_info": {
   "codemirror_mode": {
    "name": "ipython",
    "version": 3
   },
   "file_extension": ".py",
   "mimetype": "text/x-python",
   "name": "python",
   "nbconvert_exporter": "python",
   "pygments_lexer": "ipython3",
   "version": "3.6.8"
  }
 },
 "nbformat": 4,
 "nbformat_minor": 2
}

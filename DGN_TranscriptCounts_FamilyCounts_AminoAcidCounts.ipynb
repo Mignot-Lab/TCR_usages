{
 "cells": [
  {
   "cell_type": "code",
   "execution_count": 1,
   "metadata": {},
   "outputs": [],
   "source": [
    "import pandas as pd\n",
    "import numpy as np"
   ]
  },
  {
   "cell_type": "markdown",
   "metadata": {},
   "source": [
    "## Transcript Counts to Family Counts"
   ]
  },
  {
   "cell_type": "code",
   "execution_count": 2,
   "metadata": {},
   "outputs": [],
   "source": [
    "counts_df = pd.read_csv(\"DGN_transcript_counts_df.csv\", index_col=0, low_memory=False)\n",
    "\n",
    "# doesn't do anything now but could be used to extract only TRA, for example\n",
    "df = counts_df[counts_df['transcript'].str.startswith(\"TR\")]\n",
    "\n",
    "# split transcripts names (TRAJ24*01) into family (TRAJ24) and subtype (01)\n",
    "transcript_family_subtype_df = df[\"transcript\"].str.split(\"*\", n = 1, expand = True).rename(columns={0:\"family\", 1:\"subtype\"})\n",
    "df = df.copy()\n",
    "df.loc[:,'count'] = df['count'].astype(int)\n",
    "df.loc[:,\"family\"] = transcript_family_subtype_df[\"family\"]\n",
    "df.loc[:,\"subtype\"] = transcript_family_subtype_df[\"subtype\"]\n",
    "df = df.reset_index()\n",
    "df = df[['patid', 'family', 'subtype', 'transcript', 'count']] # we don't need to the genotype information for now\n",
    "# get total counts for every patient, every family (adding subtype counts together)\n",
    "family_count_df = df.groupby([\"patid\", \"family\"]).sum().reset_index()#.rename(columns={\"count\":\"family_count\"})\n",
    "\n",
    "# Filter out pseudogenes and non-functional genes\n",
    "valid_TCR_genes = set()\n",
    "with open(\"valid_TCR_genes.txt\", \"r\") as f:\n",
    "    for line in f:\n",
    "        valid_TCR_genes.add(line.strip())\n",
    "family_count_df = family_count_df[family_count_df['family'].isin(valid_TCR_genes)]\n",
    "\n",
    "# only want patids in Sharon's paper, N=895, due to quality control\n",
    "sharon_counts_df = pd.read_csv(\"gene_counts.tsv\", delimiter=\"\\t\")\n",
    "sharon_counts_df = sharon_counts_df.reset_index()\n",
    "sharon_ids = set(sharon_counts_df.columns[1:])\n",
    "family_count_df = family_count_df[family_count_df['patid'].isin(sharon_ids)]\n",
    "\n",
    "family_count_df.to_csv(\"DGN_family_counts_df.csv\", index=None)\n",
    "\n",
    "family_counts_table = family_count_df.pivot(index=\"patid\", columns=\"family\", values=\"count\").fillna(0.0)\n",
    "\n",
    "family_counts_table.to_csv(\"DGN_family_counts_table.csv\")"
   ]
  },
  {
   "cell_type": "markdown",
   "metadata": {},
   "source": [
    "## Amino Acid Position Counts"
   ]
  },
  {
   "cell_type": "code",
   "execution_count": 39,
   "metadata": {},
   "outputs": [],
   "source": [
    "TRV = \"TRBV\" # \"TRAV\""
   ]
  },
  {
   "cell_type": "code",
   "execution_count": 40,
   "metadata": {},
   "outputs": [],
   "source": [
    "family_counts_table = pd.read_csv(\"DGN_family_counts_table.csv\").set_index(\"patid\")\n",
    "\n",
    "AA_seq_df = pd.read_csv(\"{}_AA_sequences.csv\".format(TRV))[['family', 'CDR1_sequence', 'CDR2_sequence']]\n",
    "\n",
    "AA_seq_df['CDR_seq'] = (AA_seq_df['CDR1_sequence'] + AA_seq_df['CDR2_sequence']).apply(lambda x: list(x))\n",
    "\n",
    "CDR_NUM_AA = 22 # 22 positions, first 12 are CDR1, then 10 are CDR2\n",
    "DGN_NUM_PATIENTS = 895\n",
    "\n",
    "family_sequence_dict = dict()\n",
    "for index, row in AA_seq_df.iterrows():\n",
    "    family_sequence_dict[row['family']] = row['CDR_seq']\n",
    "\n",
    "normalize_by_total = False\n",
    "patid_total_counts = family_counts_table.sum(axis=1).to_dict()\n",
    "patid_position_AA_dict = dict()\n",
    "for i in range(DGN_NUM_PATIENTS):\n",
    "    family_counts = family_counts_table.iloc[i]\n",
    "    patid = family_counts.name\n",
    "    patid_total_count = patid_total_counts[patid]\n",
    "    position_AA_dict = dict()\n",
    "    for family, count in family_counts.iteritems(): # this patient's count for each family\n",
    "        if family in family_sequence_dict: # if we have the AA sequence from IMGT for this family\n",
    "            if not np.isnan(count): # if counts are not null\n",
    "                for pos, AA in enumerate(family_sequence_dict[family]): # for CDR AA at each position\n",
    "                    if pos not in position_AA_dict:\n",
    "                        position_AA_dict[pos] = dict()\n",
    "                    if AA not in position_AA_dict[pos]:\n",
    "                        position_AA_dict[pos][AA] = 0\n",
    "                    if normalize_by_total:\n",
    "                        position_AA_dict[pos][AA] += count / patid_total_count\n",
    "                    else:\n",
    "                        position_AA_dict[pos][AA] += count\n",
    "    patid_position_AA_dict[patid] = position_AA_dict\n",
    "\n",
    "\"\"\"\n",
    "position_AA_dict structure for each patid: 22 positions, different AA counts at each position\n",
    "{0: {'T': 1278.0,\n",
    "  'V': 629.0,\n",
    "  'N': 1146.0,\n",
    "  'D': 1102.0,\n",
    "  'Y': 366.0,\n",
    "  'S': 776.0,\n",
    "  'K': 44.0,\n",
    "  'A': 409.0},\n",
    " 1: {'S': 3398.0,\n",
    "  'R': 507.0,\n",
    "  'T': 752.0,\n",
    "  'I': 506.0,\n",
    "  'V': 106.0,\n",
    "  'A': 27.0,\n",
    "  'G': 376.0,\n",
    "  'Y': 78.0},\n",
    "...}\n",
    "\"\"\"\n",
    "\n",
    "position_lists = [[] for _ in range(CDR_NUM_AA)]\n",
    "for patid in patid_position_AA_dict:\n",
    "    patid_df = pd.DataFrame.from_dict(patid_position_AA_dict[patid]) # get the above dict for each patient\n",
    "    for position in range(CDR_NUM_AA):\n",
    "        series = patid_df[position]\n",
    "        series.name = patid\n",
    "        position_lists[position].append(series)\n",
    "position_dfs = [pd.concat(position_list, axis=1, sort=True) for position_list in position_lists]\n",
    "\n",
    "\n",
    "\n",
    "for i in range(CDR_NUM_AA):\n",
    "    position_dfs[i] = position_dfs[i][position_dfs[i].isnull().sum(axis=1) < DGN_NUM_PATIENTS].fillna(0.0).transpose()\n",
    "    position_dfs[i].index.name = \"patid\"\n",
    "\n",
    "for i in range(CDR_NUM_AA):\n",
    "    position_dfs[i].to_csv(\"DGN_{}_CDR1_CDR2_position_{}_AA_counts_table.csv\".format(TRV, i))"
   ]
  },
  {
   "cell_type": "code",
   "execution_count": null,
   "metadata": {},
   "outputs": [],
   "source": []
  }
 ],
 "metadata": {
  "kernelspec": {
   "display_name": "Python 3",
   "language": "python",
   "name": "python3"
  },
  "language_info": {
   "codemirror_mode": {
    "name": "ipython",
    "version": 3
   },
   "file_extension": ".py",
   "mimetype": "text/x-python",
   "name": "python",
   "nbconvert_exporter": "python",
   "pygments_lexer": "ipython3",
   "version": "3.6.8"
  }
 },
 "nbformat": 4,
 "nbformat_minor": 2
}

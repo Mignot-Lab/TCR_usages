{
 "cells": [
  {
   "cell_type": "markdown",
   "metadata": {},
   "source": [
    "## Does the presence of the HLA-DQB03:01 allele show differences in J24 Usage?"
   ]
  },
  {
   "cell_type": "code",
   "execution_count": 1,
   "metadata": {},
   "outputs": [],
   "source": [
    "import pandas as pd\n",
    "import numpy as np\n",
    "import matplotlib.pyplot as plt\n",
    "import seaborn as sns\n",
    "import scipy\n",
    "import statsmodels.api as sm"
   ]
  },
  {
   "cell_type": "markdown",
   "metadata": {},
   "source": [
    "### Look at all subjects' HLA alleles"
   ]
  },
  {
   "cell_type": "code",
   "execution_count": 2,
   "metadata": {},
   "outputs": [],
   "source": [
    "HLA_path = \"/labs/mignot/DGN_HLA_CALLS_OCT2019.txt\""
   ]
  },
  {
   "cell_type": "code",
   "execution_count": 3,
   "metadata": {},
   "outputs": [],
   "source": [
    "HLA_df = pd.read_csv(HLA_path)"
   ]
  },
  {
   "cell_type": "code",
   "execution_count": 4,
   "metadata": {},
   "outputs": [
    {
     "data": {
      "text/html": [
       "<div>\n",
       "<style scoped>\n",
       "    .dataframe tbody tr th:only-of-type {\n",
       "        vertical-align: middle;\n",
       "    }\n",
       "\n",
       "    .dataframe tbody tr th {\n",
       "        vertical-align: top;\n",
       "    }\n",
       "\n",
       "    .dataframe thead th {\n",
       "        text-align: right;\n",
       "    }\n",
       "</style>\n",
       "<table border=\"1\" class=\"dataframe\">\n",
       "  <thead>\n",
       "    <tr style=\"text-align: right;\">\n",
       "      <th></th>\n",
       "      <th>HLA_A_A1</th>\n",
       "      <th>HLA_A_A2</th>\n",
       "      <th>HLA_A_PROB</th>\n",
       "      <th>HLA_B_A1</th>\n",
       "      <th>HLA_B_A2</th>\n",
       "      <th>HLA_B_PROB</th>\n",
       "      <th>HLA_C_A1</th>\n",
       "      <th>HLA_C_A2</th>\n",
       "      <th>HLA_C_PROB</th>\n",
       "      <th>HLA_DPB1_A1</th>\n",
       "      <th>...</th>\n",
       "      <th>HLA_DPB1_PROB</th>\n",
       "      <th>HLA_DQA1_A1</th>\n",
       "      <th>HLA_DQA1_A2</th>\n",
       "      <th>HLA_DQA1_PROB</th>\n",
       "      <th>HLA_DQB1_A1</th>\n",
       "      <th>HLA_DQB1_A2</th>\n",
       "      <th>HLA_DQB1_PROB</th>\n",
       "      <th>HLA_DRB1_A1</th>\n",
       "      <th>HLA_DRB1_A2</th>\n",
       "      <th>HLA_DRB1_PROB</th>\n",
       "    </tr>\n",
       "    <tr>\n",
       "      <th>patid</th>\n",
       "      <th></th>\n",
       "      <th></th>\n",
       "      <th></th>\n",
       "      <th></th>\n",
       "      <th></th>\n",
       "      <th></th>\n",
       "      <th></th>\n",
       "      <th></th>\n",
       "      <th></th>\n",
       "      <th></th>\n",
       "      <th></th>\n",
       "      <th></th>\n",
       "      <th></th>\n",
       "      <th></th>\n",
       "      <th></th>\n",
       "      <th></th>\n",
       "      <th></th>\n",
       "      <th></th>\n",
       "      <th></th>\n",
       "      <th></th>\n",
       "      <th></th>\n",
       "    </tr>\n",
       "  </thead>\n",
       "  <tbody>\n",
       "    <tr>\n",
       "      <td>14</td>\n",
       "      <td>01:01</td>\n",
       "      <td>31:01</td>\n",
       "      <td>0.998</td>\n",
       "      <td>35:01</td>\n",
       "      <td>44:02</td>\n",
       "      <td>0.935</td>\n",
       "      <td>04:01</td>\n",
       "      <td>05:01</td>\n",
       "      <td>1.000</td>\n",
       "      <td>04:01</td>\n",
       "      <td>...</td>\n",
       "      <td>0.934</td>\n",
       "      <td>01:01</td>\n",
       "      <td>03:01</td>\n",
       "      <td>0.918</td>\n",
       "      <td>03:02</td>\n",
       "      <td>05:01</td>\n",
       "      <td>0.988</td>\n",
       "      <td>01:01</td>\n",
       "      <td>04:01</td>\n",
       "      <td>0.961</td>\n",
       "    </tr>\n",
       "    <tr>\n",
       "      <td>41</td>\n",
       "      <td>25:01</td>\n",
       "      <td>26:01</td>\n",
       "      <td>0.907</td>\n",
       "      <td>18:01</td>\n",
       "      <td>38:01</td>\n",
       "      <td>0.938</td>\n",
       "      <td>12:03</td>\n",
       "      <td>12:03</td>\n",
       "      <td>0.989</td>\n",
       "      <td>04:01</td>\n",
       "      <td>...</td>\n",
       "      <td>0.809</td>\n",
       "      <td>01:02</td>\n",
       "      <td>03:01</td>\n",
       "      <td>0.969</td>\n",
       "      <td>03:02</td>\n",
       "      <td>06:02</td>\n",
       "      <td>0.988</td>\n",
       "      <td>04:02</td>\n",
       "      <td>15:01</td>\n",
       "      <td>0.830</td>\n",
       "    </tr>\n",
       "    <tr>\n",
       "      <td>38</td>\n",
       "      <td>02:06</td>\n",
       "      <td>25:01</td>\n",
       "      <td>0.676</td>\n",
       "      <td>08:01</td>\n",
       "      <td>27:05</td>\n",
       "      <td>0.865</td>\n",
       "      <td>03:03</td>\n",
       "      <td>07:01</td>\n",
       "      <td>0.464</td>\n",
       "      <td>01:01</td>\n",
       "      <td>...</td>\n",
       "      <td>0.984</td>\n",
       "      <td>01:02</td>\n",
       "      <td>05:01</td>\n",
       "      <td>0.988</td>\n",
       "      <td>02:01</td>\n",
       "      <td>06:02</td>\n",
       "      <td>0.977</td>\n",
       "      <td>03:01</td>\n",
       "      <td>15:01</td>\n",
       "      <td>1.000</td>\n",
       "    </tr>\n",
       "    <tr>\n",
       "      <td>84</td>\n",
       "      <td>01:01</td>\n",
       "      <td>03:01</td>\n",
       "      <td>0.992</td>\n",
       "      <td>07:02</td>\n",
       "      <td>52:01</td>\n",
       "      <td>0.995</td>\n",
       "      <td>07:02</td>\n",
       "      <td>12:02</td>\n",
       "      <td>1.000</td>\n",
       "      <td>04:01</td>\n",
       "      <td>...</td>\n",
       "      <td>0.990</td>\n",
       "      <td>01:02</td>\n",
       "      <td>01:03</td>\n",
       "      <td>0.999</td>\n",
       "      <td>06:01</td>\n",
       "      <td>06:02</td>\n",
       "      <td>0.994</td>\n",
       "      <td>15:01</td>\n",
       "      <td>15:02</td>\n",
       "      <td>0.999</td>\n",
       "    </tr>\n",
       "    <tr>\n",
       "      <td>22</td>\n",
       "      <td>01:01</td>\n",
       "      <td>68:01</td>\n",
       "      <td>0.996</td>\n",
       "      <td>08:01</td>\n",
       "      <td>44:02</td>\n",
       "      <td>0.999</td>\n",
       "      <td>07:01</td>\n",
       "      <td>07:04</td>\n",
       "      <td>0.999</td>\n",
       "      <td>04:01</td>\n",
       "      <td>...</td>\n",
       "      <td>0.809</td>\n",
       "      <td>01:01</td>\n",
       "      <td>03:01</td>\n",
       "      <td>0.976</td>\n",
       "      <td>03:02</td>\n",
       "      <td>05:01</td>\n",
       "      <td>0.986</td>\n",
       "      <td>01:01</td>\n",
       "      <td>04:04</td>\n",
       "      <td>0.837</td>\n",
       "    </tr>\n",
       "  </tbody>\n",
       "</table>\n",
       "<p>5 rows × 21 columns</p>\n",
       "</div>"
      ],
      "text/plain": [
       "      HLA_A_A1 HLA_A_A2  HLA_A_PROB HLA_B_A1 HLA_B_A2  HLA_B_PROB HLA_C_A1  \\\n",
       "patid                                                                        \n",
       "14       01:01    31:01       0.998    35:01    44:02       0.935    04:01   \n",
       "41       25:01    26:01       0.907    18:01    38:01       0.938    12:03   \n",
       "38       02:06    25:01       0.676    08:01    27:05       0.865    03:03   \n",
       "84       01:01    03:01       0.992    07:02    52:01       0.995    07:02   \n",
       "22       01:01    68:01       0.996    08:01    44:02       0.999    07:01   \n",
       "\n",
       "      HLA_C_A2  HLA_C_PROB HLA_DPB1_A1  ... HLA_DPB1_PROB  HLA_DQA1_A1  \\\n",
       "patid                                   ...                              \n",
       "14       05:01       1.000       04:01  ...         0.934        01:01   \n",
       "41       12:03       0.989       04:01  ...         0.809        01:02   \n",
       "38       07:01       0.464       01:01  ...         0.984        01:02   \n",
       "84       12:02       1.000       04:01  ...         0.990        01:02   \n",
       "22       07:04       0.999       04:01  ...         0.809        01:01   \n",
       "\n",
       "      HLA_DQA1_A2 HLA_DQA1_PROB  HLA_DQB1_A1 HLA_DQB1_A2 HLA_DQB1_PROB  \\\n",
       "patid                                                                    \n",
       "14          03:01         0.918        03:02       05:01         0.988   \n",
       "41          03:01         0.969        03:02       06:02         0.988   \n",
       "38          05:01         0.988        02:01       06:02         0.977   \n",
       "84          01:03         0.999        06:01       06:02         0.994   \n",
       "22          03:01         0.976        03:02       05:01         0.986   \n",
       "\n",
       "       HLA_DRB1_A1 HLA_DRB1_A2 HLA_DRB1_PROB  \n",
       "patid                                         \n",
       "14           01:01       04:01         0.961  \n",
       "41           04:02       15:01         0.830  \n",
       "38           03:01       15:01         1.000  \n",
       "84           15:01       15:02         0.999  \n",
       "22           01:01       04:04         0.837  \n",
       "\n",
       "[5 rows x 21 columns]"
      ]
     },
     "execution_count": 4,
     "metadata": {},
     "output_type": "execute_result"
    }
   ],
   "source": [
    "HLA_df['patid'] = HLA_df['PLATEID'].apply(lambda x: x.split(\"_\")[-1])\n",
    "HLA_df = HLA_df[HLA_df['patid'].str.startswith(\"LD\")]\n",
    "HLA_df['patid'] = HLA_df['patid'].apply(lambda x: int(x[2:]))\n",
    "HLA_df = HLA_df.drop([\"PLATEID\"], axis=1)\n",
    "HLA_df = HLA_df.set_index(\"patid\")\n",
    "HLA_df.head()"
   ]
  },
  {
   "cell_type": "code",
   "execution_count": 5,
   "metadata": {
    "scrolled": false
   },
   "outputs": [
    {
     "data": {
      "text/html": [
       "<div>\n",
       "<style scoped>\n",
       "    .dataframe tbody tr th:only-of-type {\n",
       "        vertical-align: middle;\n",
       "    }\n",
       "\n",
       "    .dataframe tbody tr th {\n",
       "        vertical-align: top;\n",
       "    }\n",
       "\n",
       "    .dataframe thead th {\n",
       "        text-align: right;\n",
       "    }\n",
       "</style>\n",
       "<table border=\"1\" class=\"dataframe\">\n",
       "  <thead>\n",
       "    <tr style=\"text-align: right;\">\n",
       "      <th></th>\n",
       "      <th>HLA_DQB1_A1</th>\n",
       "      <th>HLA_DQB1_A2</th>\n",
       "      <th>HLA_DQB1_PROB</th>\n",
       "    </tr>\n",
       "    <tr>\n",
       "      <th>patid</th>\n",
       "      <th></th>\n",
       "      <th></th>\n",
       "      <th></th>\n",
       "    </tr>\n",
       "  </thead>\n",
       "  <tbody>\n",
       "    <tr>\n",
       "      <td>14</td>\n",
       "      <td>03:02</td>\n",
       "      <td>05:01</td>\n",
       "      <td>0.988</td>\n",
       "    </tr>\n",
       "    <tr>\n",
       "      <td>41</td>\n",
       "      <td>03:02</td>\n",
       "      <td>06:02</td>\n",
       "      <td>0.988</td>\n",
       "    </tr>\n",
       "    <tr>\n",
       "      <td>38</td>\n",
       "      <td>02:01</td>\n",
       "      <td>06:02</td>\n",
       "      <td>0.977</td>\n",
       "    </tr>\n",
       "    <tr>\n",
       "      <td>84</td>\n",
       "      <td>06:01</td>\n",
       "      <td>06:02</td>\n",
       "      <td>0.994</td>\n",
       "    </tr>\n",
       "    <tr>\n",
       "      <td>22</td>\n",
       "      <td>03:02</td>\n",
       "      <td>05:01</td>\n",
       "      <td>0.986</td>\n",
       "    </tr>\n",
       "    <tr>\n",
       "      <td>...</td>\n",
       "      <td>...</td>\n",
       "      <td>...</td>\n",
       "      <td>...</td>\n",
       "    </tr>\n",
       "    <tr>\n",
       "      <td>1282</td>\n",
       "      <td>03:01</td>\n",
       "      <td>03:01</td>\n",
       "      <td>0.997</td>\n",
       "    </tr>\n",
       "    <tr>\n",
       "      <td>1271</td>\n",
       "      <td>03:03</td>\n",
       "      <td>06:03</td>\n",
       "      <td>0.899</td>\n",
       "    </tr>\n",
       "    <tr>\n",
       "      <td>1252</td>\n",
       "      <td>06:02</td>\n",
       "      <td>06:03</td>\n",
       "      <td>0.966</td>\n",
       "    </tr>\n",
       "    <tr>\n",
       "      <td>165</td>\n",
       "      <td>03:02</td>\n",
       "      <td>06:04</td>\n",
       "      <td>0.982</td>\n",
       "    </tr>\n",
       "    <tr>\n",
       "      <td>102</td>\n",
       "      <td>03:01</td>\n",
       "      <td>06:02</td>\n",
       "      <td>0.984</td>\n",
       "    </tr>\n",
       "  </tbody>\n",
       "</table>\n",
       "<p>937 rows × 3 columns</p>\n",
       "</div>"
      ],
      "text/plain": [
       "      HLA_DQB1_A1 HLA_DQB1_A2  HLA_DQB1_PROB\n",
       "patid                                       \n",
       "14          03:02       05:01          0.988\n",
       "41          03:02       06:02          0.988\n",
       "38          02:01       06:02          0.977\n",
       "84          06:01       06:02          0.994\n",
       "22          03:02       05:01          0.986\n",
       "...           ...         ...            ...\n",
       "1282        03:01       03:01          0.997\n",
       "1271        03:03       06:03          0.899\n",
       "1252        06:02       06:03          0.966\n",
       "165         03:02       06:04          0.982\n",
       "102         03:01       06:02          0.984\n",
       "\n",
       "[937 rows x 3 columns]"
      ]
     },
     "execution_count": 5,
     "metadata": {},
     "output_type": "execute_result"
    }
   ],
   "source": [
    "HLA_DQB1_df = HLA_df[['HLA_DQB1_A1', 'HLA_DQB1_A2', 'HLA_DQB1_PROB']]\n",
    "HLA_DQB1_df"
   ]
  },
  {
   "cell_type": "code",
   "execution_count": 6,
   "metadata": {},
   "outputs": [],
   "source": [
    "# everyone who has one copy of 06:02\n",
    "HLA_DQB1_0602_df = HLA_DQB1_df[(HLA_DQB1_df['HLA_DQB1_A1'] == \"06:02\") | (HLA_DQB1_df['HLA_DQB1_A2'] == \"06:02\")]\n",
    "# remove homozygous 06:02\n",
    "HLA_DQB1_0602_df = HLA_DQB1_0602_df[~((HLA_DQB1_0602_df['HLA_DQB1_A1'] == \"06:02\") & (HLA_DQB1_0602_df['HLA_DQB1_A2'] == \"06:02\"))]"
   ]
  },
  {
   "cell_type": "code",
   "execution_count": 7,
   "metadata": {},
   "outputs": [],
   "source": [
    "HLA_DQB1_0602_df['0301_present'] = (HLA_DQB1_0602_df['HLA_DQB1_A1'] == \"03:01\") | (HLA_DQB1_0602_df['HLA_DQB1_A2'] == \"03:01\")"
   ]
  },
  {
   "cell_type": "code",
   "execution_count": 8,
   "metadata": {},
   "outputs": [
    {
     "data": {
      "text/html": [
       "<div>\n",
       "<style scoped>\n",
       "    .dataframe tbody tr th:only-of-type {\n",
       "        vertical-align: middle;\n",
       "    }\n",
       "\n",
       "    .dataframe tbody tr th {\n",
       "        vertical-align: top;\n",
       "    }\n",
       "\n",
       "    .dataframe thead th {\n",
       "        text-align: right;\n",
       "    }\n",
       "</style>\n",
       "<table border=\"1\" class=\"dataframe\">\n",
       "  <thead>\n",
       "    <tr style=\"text-align: right;\">\n",
       "      <th></th>\n",
       "      <th>HLA_DQB1_A1</th>\n",
       "      <th>HLA_DQB1_A2</th>\n",
       "      <th>HLA_DQB1_PROB</th>\n",
       "      <th>0301_present</th>\n",
       "    </tr>\n",
       "    <tr>\n",
       "      <th>patid</th>\n",
       "      <th></th>\n",
       "      <th></th>\n",
       "      <th></th>\n",
       "      <th></th>\n",
       "    </tr>\n",
       "  </thead>\n",
       "  <tbody>\n",
       "    <tr>\n",
       "      <td>41</td>\n",
       "      <td>03:02</td>\n",
       "      <td>06:02</td>\n",
       "      <td>0.988</td>\n",
       "      <td>False</td>\n",
       "    </tr>\n",
       "    <tr>\n",
       "      <td>38</td>\n",
       "      <td>02:01</td>\n",
       "      <td>06:02</td>\n",
       "      <td>0.977</td>\n",
       "      <td>False</td>\n",
       "    </tr>\n",
       "    <tr>\n",
       "      <td>84</td>\n",
       "      <td>06:01</td>\n",
       "      <td>06:02</td>\n",
       "      <td>0.994</td>\n",
       "      <td>False</td>\n",
       "    </tr>\n",
       "    <tr>\n",
       "      <td>157</td>\n",
       "      <td>05:01</td>\n",
       "      <td>06:02</td>\n",
       "      <td>0.990</td>\n",
       "      <td>False</td>\n",
       "    </tr>\n",
       "    <tr>\n",
       "      <td>11</td>\n",
       "      <td>03:01</td>\n",
       "      <td>06:02</td>\n",
       "      <td>0.980</td>\n",
       "      <td>True</td>\n",
       "    </tr>\n",
       "  </tbody>\n",
       "</table>\n",
       "</div>"
      ],
      "text/plain": [
       "      HLA_DQB1_A1 HLA_DQB1_A2  HLA_DQB1_PROB  0301_present\n",
       "patid                                                     \n",
       "41          03:02       06:02          0.988         False\n",
       "38          02:01       06:02          0.977         False\n",
       "84          06:01       06:02          0.994         False\n",
       "157         05:01       06:02          0.990         False\n",
       "11          03:01       06:02          0.980          True"
      ]
     },
     "execution_count": 8,
     "metadata": {},
     "output_type": "execute_result"
    }
   ],
   "source": [
    "HLA_DQB1_0602_df.head()"
   ]
  },
  {
   "cell_type": "code",
   "execution_count": 9,
   "metadata": {},
   "outputs": [
    {
     "name": "stderr",
     "output_type": "stream",
     "text": [
      "/home/ashteng/36/lib/python3.6/site-packages/ipykernel_launcher.py:1: SettingWithCopyWarning: \n",
      "A value is trying to be set on a copy of a slice from a DataFrame.\n",
      "Try using .loc[row_indexer,col_indexer] = value instead\n",
      "\n",
      "See the caveats in the documentation: http://pandas.pydata.org/pandas-docs/stable/user_guide/indexing.html#returning-a-view-versus-a-copy\n",
      "  \"\"\"Entry point for launching an IPython kernel.\n"
     ]
    }
   ],
   "source": [
    "HLA_DQB1_df['HLA_dose'] = HLA_DQB1_df['HLA_DQB1_A1'].apply(lambda x: 1 if x == \"03:01\" else 0)+HLA_DQB1_df['HLA_DQB1_A2'].apply(lambda x: 1 if x == \"03:01\" else 0)"
   ]
  },
  {
   "cell_type": "code",
   "execution_count": 10,
   "metadata": {
    "scrolled": true
   },
   "outputs": [
    {
     "data": {
      "text/html": [
       "<div>\n",
       "<style scoped>\n",
       "    .dataframe tbody tr th:only-of-type {\n",
       "        vertical-align: middle;\n",
       "    }\n",
       "\n",
       "    .dataframe tbody tr th {\n",
       "        vertical-align: top;\n",
       "    }\n",
       "\n",
       "    .dataframe thead th {\n",
       "        text-align: right;\n",
       "    }\n",
       "</style>\n",
       "<table border=\"1\" class=\"dataframe\">\n",
       "  <thead>\n",
       "    <tr style=\"text-align: right;\">\n",
       "      <th></th>\n",
       "      <th>HLA_DQB1_A1</th>\n",
       "      <th>HLA_DQB1_A2</th>\n",
       "      <th>HLA_DQB1_PROB</th>\n",
       "      <th>HLA_dose</th>\n",
       "    </tr>\n",
       "    <tr>\n",
       "      <th>patid</th>\n",
       "      <th></th>\n",
       "      <th></th>\n",
       "      <th></th>\n",
       "      <th></th>\n",
       "    </tr>\n",
       "  </thead>\n",
       "  <tbody>\n",
       "    <tr>\n",
       "      <td>14</td>\n",
       "      <td>03:02</td>\n",
       "      <td>05:01</td>\n",
       "      <td>0.988</td>\n",
       "      <td>0</td>\n",
       "    </tr>\n",
       "    <tr>\n",
       "      <td>41</td>\n",
       "      <td>03:02</td>\n",
       "      <td>06:02</td>\n",
       "      <td>0.988</td>\n",
       "      <td>0</td>\n",
       "    </tr>\n",
       "    <tr>\n",
       "      <td>38</td>\n",
       "      <td>02:01</td>\n",
       "      <td>06:02</td>\n",
       "      <td>0.977</td>\n",
       "      <td>0</td>\n",
       "    </tr>\n",
       "    <tr>\n",
       "      <td>84</td>\n",
       "      <td>06:01</td>\n",
       "      <td>06:02</td>\n",
       "      <td>0.994</td>\n",
       "      <td>0</td>\n",
       "    </tr>\n",
       "    <tr>\n",
       "      <td>22</td>\n",
       "      <td>03:02</td>\n",
       "      <td>05:01</td>\n",
       "      <td>0.986</td>\n",
       "      <td>0</td>\n",
       "    </tr>\n",
       "  </tbody>\n",
       "</table>\n",
       "</div>"
      ],
      "text/plain": [
       "      HLA_DQB1_A1 HLA_DQB1_A2  HLA_DQB1_PROB  HLA_dose\n",
       "patid                                                 \n",
       "14          03:02       05:01          0.988         0\n",
       "41          03:02       06:02          0.988         0\n",
       "38          02:01       06:02          0.977         0\n",
       "84          06:01       06:02          0.994         0\n",
       "22          03:02       05:01          0.986         0"
      ]
     },
     "execution_count": 10,
     "metadata": {},
     "output_type": "execute_result"
    }
   ],
   "source": [
    "HLA_DQB1_df.head()"
   ]
  },
  {
   "cell_type": "markdown",
   "metadata": {},
   "source": [
    "Confirm that 03:01 is present in some people for both alleles"
   ]
  },
  {
   "cell_type": "code",
   "execution_count": 11,
   "metadata": {
    "scrolled": true
   },
   "outputs": [
    {
     "data": {
      "text/plain": [
       "array(['03:02', '02:01', '06:01', '03:01', '02:02', '05:01', '05:02',\n",
       "       '06:02', '05:03', '06:03', '04:02', '03:03', '06:04', '03:04'],\n",
       "      dtype=object)"
      ]
     },
     "execution_count": 11,
     "metadata": {},
     "output_type": "execute_result"
    }
   ],
   "source": [
    "HLA_DQB1_df['HLA_DQB1_A1'].unique()"
   ]
  },
  {
   "cell_type": "code",
   "execution_count": 12,
   "metadata": {},
   "outputs": [
    {
     "data": {
      "text/plain": [
       "array(['05:01', '06:02', '06:04', '03:01', '05:03', '03:02', '02:01',\n",
       "       '05:04', '03:03', '06:09', '05:02', '02:02', '06:03', '04:02',\n",
       "       '03:04', '06:01', '03:19'], dtype=object)"
      ]
     },
     "execution_count": 12,
     "metadata": {},
     "output_type": "execute_result"
    }
   ],
   "source": [
    "HLA_DQB1_df['HLA_DQB1_A2'].unique()"
   ]
  },
  {
   "cell_type": "markdown",
   "metadata": {},
   "source": [
    "Confirm that most calls are high probability"
   ]
  },
  {
   "cell_type": "code",
   "execution_count": 13,
   "metadata": {},
   "outputs": [
    {
     "data": {
      "text/plain": [
       "<matplotlib.axes._subplots.AxesSubplot at 0x2b0ac4efdc50>"
      ]
     },
     "execution_count": 13,
     "metadata": {},
     "output_type": "execute_result"
    },
    {
     "data": {
      "image/png": "[encoded data removed]",
      "text/plain": [
       "<Figure size 432x288 with 1 Axes>"
      ]
     },
     "metadata": {
      "needs_background": "light"
     },
     "output_type": "display_data"
    }
   ],
   "source": [
    "HLA_DQB1_df['HLA_DQB1_PROB'].hist()"
   ]
  },
  {
   "cell_type": "markdown",
   "metadata": {},
   "source": [
    "### We want to associate HLA genotype to J24 Usage, so load all subjects' J24 usage"
   ]
  },
  {
   "cell_type": "code",
   "execution_count": 14,
   "metadata": {},
   "outputs": [],
   "source": [
    "J_df = pd.read_csv(\"allJRatios.csv\", index_col=0)"
   ]
  },
  {
   "cell_type": "code",
   "execution_count": 15,
   "metadata": {},
   "outputs": [
    {
     "data": {
      "text/html": [
       "<div>\n",
       "<style scoped>\n",
       "    .dataframe tbody tr th:only-of-type {\n",
       "        vertical-align: middle;\n",
       "    }\n",
       "\n",
       "    .dataframe tbody tr th {\n",
       "        vertical-align: top;\n",
       "    }\n",
       "\n",
       "    .dataframe thead th {\n",
       "        text-align: right;\n",
       "    }\n",
       "</style>\n",
       "<table border=\"1\" class=\"dataframe\">\n",
       "  <thead>\n",
       "    <tr style=\"text-align: right;\">\n",
       "      <th></th>\n",
       "      <th>patid</th>\n",
       "      <th>transcript</th>\n",
       "      <th>ratio</th>\n",
       "    </tr>\n",
       "  </thead>\n",
       "  <tbody>\n",
       "    <tr>\n",
       "      <td>0</td>\n",
       "      <td>796</td>\n",
       "      <td>TRAJ09*01</td>\n",
       "      <td>0.026688</td>\n",
       "    </tr>\n",
       "    <tr>\n",
       "      <td>1</td>\n",
       "      <td>796</td>\n",
       "      <td>TRAJ54*01</td>\n",
       "      <td>0.036107</td>\n",
       "    </tr>\n",
       "    <tr>\n",
       "      <td>2</td>\n",
       "      <td>796</td>\n",
       "      <td>TRAJ53*01</td>\n",
       "      <td>0.009419</td>\n",
       "    </tr>\n",
       "    <tr>\n",
       "      <td>3</td>\n",
       "      <td>796</td>\n",
       "      <td>TRAJ52*01</td>\n",
       "      <td>0.031397</td>\n",
       "    </tr>\n",
       "    <tr>\n",
       "      <td>4</td>\n",
       "      <td>796</td>\n",
       "      <td>TRAJ06*01</td>\n",
       "      <td>0.034537</td>\n",
       "    </tr>\n",
       "    <tr>\n",
       "      <td>...</td>\n",
       "      <td>...</td>\n",
       "      <td>...</td>\n",
       "      <td>...</td>\n",
       "    </tr>\n",
       "    <tr>\n",
       "      <td>55315</td>\n",
       "      <td>691</td>\n",
       "      <td>TRAJ34*01</td>\n",
       "      <td>0.025373</td>\n",
       "    </tr>\n",
       "    <tr>\n",
       "      <td>55316</td>\n",
       "      <td>691</td>\n",
       "      <td>TRAJ50*01</td>\n",
       "      <td>0.002985</td>\n",
       "    </tr>\n",
       "    <tr>\n",
       "      <td>55317</td>\n",
       "      <td>691</td>\n",
       "      <td>TRAJ15*02</td>\n",
       "      <td>0.000000</td>\n",
       "    </tr>\n",
       "    <tr>\n",
       "      <td>55318</td>\n",
       "      <td>691</td>\n",
       "      <td>TRAJ07*01</td>\n",
       "      <td>0.025373</td>\n",
       "    </tr>\n",
       "    <tr>\n",
       "      <td>55319</td>\n",
       "      <td>691</td>\n",
       "      <td>TRAJ49*01</td>\n",
       "      <td>0.031343</td>\n",
       "    </tr>\n",
       "  </tbody>\n",
       "</table>\n",
       "<p>55320 rows × 3 columns</p>\n",
       "</div>"
      ],
      "text/plain": [
       "       patid transcript     ratio\n",
       "0        796  TRAJ09*01  0.026688\n",
       "1        796  TRAJ54*01  0.036107\n",
       "2        796  TRAJ53*01  0.009419\n",
       "3        796  TRAJ52*01  0.031397\n",
       "4        796  TRAJ06*01  0.034537\n",
       "...      ...        ...       ...\n",
       "55315    691  TRAJ34*01  0.025373\n",
       "55316    691  TRAJ50*01  0.002985\n",
       "55317    691  TRAJ15*02  0.000000\n",
       "55318    691  TRAJ07*01  0.025373\n",
       "55319    691  TRAJ49*01  0.031343\n",
       "\n",
       "[55320 rows x 3 columns]"
      ]
     },
     "execution_count": 15,
     "metadata": {},
     "output_type": "execute_result"
    }
   ],
   "source": [
    "J_df"
   ]
  },
  {
   "cell_type": "code",
   "execution_count": 16,
   "metadata": {},
   "outputs": [],
   "source": [
    "J_HLA_df = pd.merge(HLA_DQB1_df, J_df, on=\"patid\", how=\"inner\")"
   ]
  },
  {
   "cell_type": "code",
   "execution_count": 19,
   "metadata": {},
   "outputs": [
    {
     "data": {
      "text/html": [
       "<div>\n",
       "<style scoped>\n",
       "    .dataframe tbody tr th:only-of-type {\n",
       "        vertical-align: middle;\n",
       "    }\n",
       "\n",
       "    .dataframe tbody tr th {\n",
       "        vertical-align: top;\n",
       "    }\n",
       "\n",
       "    .dataframe thead th {\n",
       "        text-align: right;\n",
       "    }\n",
       "</style>\n",
       "<table border=\"1\" class=\"dataframe\">\n",
       "  <thead>\n",
       "    <tr style=\"text-align: right;\">\n",
       "      <th></th>\n",
       "      <th>patid</th>\n",
       "      <th>HLA_DQB1_A1</th>\n",
       "      <th>HLA_DQB1_A2</th>\n",
       "      <th>HLA_DQB1_PROB</th>\n",
       "      <th>HLA_dose</th>\n",
       "      <th>transcript</th>\n",
       "      <th>ratio</th>\n",
       "    </tr>\n",
       "  </thead>\n",
       "  <tbody>\n",
       "    <tr>\n",
       "      <td>0</td>\n",
       "      <td>14</td>\n",
       "      <td>03:02</td>\n",
       "      <td>05:01</td>\n",
       "      <td>0.988</td>\n",
       "      <td>0</td>\n",
       "      <td>TRAJ09*01</td>\n",
       "      <td>0.035654</td>\n",
       "    </tr>\n",
       "    <tr>\n",
       "      <td>1</td>\n",
       "      <td>14</td>\n",
       "      <td>03:02</td>\n",
       "      <td>05:01</td>\n",
       "      <td>0.988</td>\n",
       "      <td>0</td>\n",
       "      <td>TRAJ54*01</td>\n",
       "      <td>0.006791</td>\n",
       "    </tr>\n",
       "    <tr>\n",
       "      <td>2</td>\n",
       "      <td>14</td>\n",
       "      <td>03:02</td>\n",
       "      <td>05:01</td>\n",
       "      <td>0.988</td>\n",
       "      <td>0</td>\n",
       "      <td>TRAJ53*01</td>\n",
       "      <td>0.023769</td>\n",
       "    </tr>\n",
       "    <tr>\n",
       "      <td>3</td>\n",
       "      <td>14</td>\n",
       "      <td>03:02</td>\n",
       "      <td>05:01</td>\n",
       "      <td>0.988</td>\n",
       "      <td>0</td>\n",
       "      <td>TRAJ52*01</td>\n",
       "      <td>0.039049</td>\n",
       "    </tr>\n",
       "    <tr>\n",
       "      <td>4</td>\n",
       "      <td>14</td>\n",
       "      <td>03:02</td>\n",
       "      <td>05:01</td>\n",
       "      <td>0.988</td>\n",
       "      <td>0</td>\n",
       "      <td>TRAJ06*01</td>\n",
       "      <td>0.032258</td>\n",
       "    </tr>\n",
       "    <tr>\n",
       "      <td>...</td>\n",
       "      <td>...</td>\n",
       "      <td>...</td>\n",
       "      <td>...</td>\n",
       "      <td>...</td>\n",
       "      <td>...</td>\n",
       "      <td>...</td>\n",
       "      <td>...</td>\n",
       "    </tr>\n",
       "    <tr>\n",
       "      <td>55315</td>\n",
       "      <td>102</td>\n",
       "      <td>03:01</td>\n",
       "      <td>06:02</td>\n",
       "      <td>0.984</td>\n",
       "      <td>1</td>\n",
       "      <td>TRAJ34*01</td>\n",
       "      <td>0.027523</td>\n",
       "    </tr>\n",
       "    <tr>\n",
       "      <td>55316</td>\n",
       "      <td>102</td>\n",
       "      <td>03:01</td>\n",
       "      <td>06:02</td>\n",
       "      <td>0.984</td>\n",
       "      <td>1</td>\n",
       "      <td>TRAJ50*01</td>\n",
       "      <td>0.009174</td>\n",
       "    </tr>\n",
       "    <tr>\n",
       "      <td>55317</td>\n",
       "      <td>102</td>\n",
       "      <td>03:01</td>\n",
       "      <td>06:02</td>\n",
       "      <td>0.984</td>\n",
       "      <td>1</td>\n",
       "      <td>TRAJ15*02</td>\n",
       "      <td>0.000000</td>\n",
       "    </tr>\n",
       "    <tr>\n",
       "      <td>55318</td>\n",
       "      <td>102</td>\n",
       "      <td>03:01</td>\n",
       "      <td>06:02</td>\n",
       "      <td>0.984</td>\n",
       "      <td>1</td>\n",
       "      <td>TRAJ07*01</td>\n",
       "      <td>0.000000</td>\n",
       "    </tr>\n",
       "    <tr>\n",
       "      <td>55319</td>\n",
       "      <td>102</td>\n",
       "      <td>03:01</td>\n",
       "      <td>06:02</td>\n",
       "      <td>0.984</td>\n",
       "      <td>1</td>\n",
       "      <td>TRAJ49*01</td>\n",
       "      <td>0.041284</td>\n",
       "    </tr>\n",
       "  </tbody>\n",
       "</table>\n",
       "<p>55320 rows × 7 columns</p>\n",
       "</div>"
      ],
      "text/plain": [
       "       patid HLA_DQB1_A1 HLA_DQB1_A2  HLA_DQB1_PROB  HLA_dose transcript  \\\n",
       "0         14       03:02       05:01          0.988         0  TRAJ09*01   \n",
       "1         14       03:02       05:01          0.988         0  TRAJ54*01   \n",
       "2         14       03:02       05:01          0.988         0  TRAJ53*01   \n",
       "3         14       03:02       05:01          0.988         0  TRAJ52*01   \n",
       "4         14       03:02       05:01          0.988         0  TRAJ06*01   \n",
       "...      ...         ...         ...            ...       ...        ...   \n",
       "55315    102       03:01       06:02          0.984         1  TRAJ34*01   \n",
       "55316    102       03:01       06:02          0.984         1  TRAJ50*01   \n",
       "55317    102       03:01       06:02          0.984         1  TRAJ15*02   \n",
       "55318    102       03:01       06:02          0.984         1  TRAJ07*01   \n",
       "55319    102       03:01       06:02          0.984         1  TRAJ49*01   \n",
       "\n",
       "          ratio  \n",
       "0      0.035654  \n",
       "1      0.006791  \n",
       "2      0.023769  \n",
       "3      0.039049  \n",
       "4      0.032258  \n",
       "...         ...  \n",
       "55315  0.027523  \n",
       "55316  0.009174  \n",
       "55317  0.000000  \n",
       "55318  0.000000  \n",
       "55319  0.041284  \n",
       "\n",
       "[55320 rows x 7 columns]"
      ]
     },
     "execution_count": 19,
     "metadata": {},
     "output_type": "execute_result"
    }
   ],
   "source": [
    "J_HLA_df"
   ]
  },
  {
   "cell_type": "code",
   "execution_count": null,
   "metadata": {},
   "outputs": [],
   "source": []
  },
  {
   "cell_type": "code",
   "execution_count": 74,
   "metadata": {},
   "outputs": [],
   "source": [
    "def get_transcript_df(transcript):\n",
    "    transcript_df = J_HLA_df[J_HLA_df['transcript'] == transcript]\n",
    "    quantile_low, quantile_high = transcript_df[\"ratio\"].quantile([0.025, 0.975]).values\n",
    "    transcript_df = transcript_df[(transcript_df[\"ratio\"] > quantile_low) & (transcript_df[\"ratio\"] < quantile_high)]\n",
    "    return transcript_df"
   ]
  },
  {
   "cell_type": "code",
   "execution_count": 75,
   "metadata": {},
   "outputs": [],
   "source": [
    "def plot_df(plot_df, plot_column_name):\n",
    "    fig, ax = plt.subplots()\n",
    "    sns.violinplot(x=\"HLA_dose\", y=\"ratio\", data=plot_df, ax=ax)\n",
    "    sns.regplot(x=\"HLA_dose\", y=\"ratio\", data=plot_df, x_estimator=np.median, color=\"yellow\", ax=ax, label=\"Median Estimator\")\n",
    "    plt.title(transcript)\n",
    "    plt.legend()"
   ]
  },
  {
   "cell_type": "code",
   "execution_count": 76,
   "metadata": {},
   "outputs": [],
   "source": [
    "def regress_get_pvalue(plot_df, plot_column_name, covariates=True):\n",
    "    if covariates:\n",
    "        X = plot_df.loc[:, [\"HLA_dose\", \"C1\", \"C2\", \"C3\", \"C4\"]].values\n",
    "    else:\n",
    "        X = plot_df.loc[:, [\"HLA_dose\"]].values\n",
    "    y = plot_df[plot_column_name].values\n",
    "    XX = sm.add_constant(X)\n",
    "    mod = sm.OLS(y, XX)\n",
    "    res = mod.fit()\n",
    "#     print('Parameters: ', res.params)\n",
    "#     print('R2: ', res.rsquared)\n",
    "#     print('p values:', res.pvalues)\n",
    "    return res.pvalues[1]"
   ]
  },
  {
   "cell_type": "code",
   "execution_count": 77,
   "metadata": {},
   "outputs": [
    {
     "name": "stdout",
     "output_type": "stream",
     "text": [
      "TRAJ09*01 0.39288061005702035\n",
      "TRAJ54*01 0.11514544071325318\n",
      "TRAJ53*01 0.42583938013739797\n",
      "TRAJ52*01 0.7415763673660153\n",
      "TRAJ06*01 0.49155234271718196\n",
      "TRAJ29*01 0.161817949541477\n",
      "TRAJ41*01 0.2053830901929211\n",
      "TRAJ37*01 0.39120173386942714\n",
      "TRAJ17*01 0.0038447787676039223 *\n",
      "TRAJ21*01 0.699847802673728\n",
      "TRAJ35*01 0.5992019212749928\n",
      "TRAJ47*01|02 0.6501894901259127\n",
      "TRAJ14*01 0.6938633820049533\n",
      "TRAJ11*01 0.16677864513211993\n",
      "TRAJ15*01 0.35567076661859454\n",
      "TRAJ39*01 0.9549614144077949\n",
      "TRAJ61*01 0.16089865336842368\n",
      "TRAJ16*01 0.000676465542754834 *\n",
      "TRAJ30*01 0.3238565654480511\n",
      "TRAJ12*01 0.7172121079306522\n",
      "TRAJ27*01 0.5511988994897951\n",
      "TRAJ18*01 0.9329801458896587\n",
      "TRAJ33*01 0.729212365355375\n",
      "TRAJ44*01 0.3693364035950937\n",
      "TRAJ13*02 0.6958162819746634\n",
      "TRAJ46*01 0.279921474004516\n",
      "TRAJ22*01 0.3287692626072708\n",
      "TRAJ24*01 0.9046659772659587\n",
      "TRAJ04*01 0.4275164134677306\n",
      "TRAJ40*01 0.6780393247394072\n",
      "TRAJ05*01 0.19758564836519651\n",
      "TRAJ58*01 0.09689057899121245\n",
      "TRAJ43*01 0.48131149318954003\n",
      "TRAJ38*01 0.22400526927085165\n",
      "TRAJ23*01 0.1270706843554582\n",
      "TRAJ19*01 0.8284722487476435\n",
      "TRAJ32*01 0.7843015965683248\n",
      "TRAJ36*01 0.5580204476741777\n",
      "TRAJ01*01 0.981096466009977\n",
      "TRAJ57*01 0.10059865914153467\n",
      "TRAJ48*01 0.0004302652503409168 *\n",
      "TRAJ20*01 0.7197390549487206\n",
      "TRAJ45*01 0.21721283231399513\n",
      "TRAJ25*01 0.8648560716046871\n",
      "TRAJ13*01 0.008693991454947604 *\n",
      "TRAJ42*01 0.8733282452023086\n",
      "TRAJ03*01 0.15909075118602709\n",
      "TRAJ26*01 0.030168824382626205 *\n",
      "TRAJ28*01 0.19834244635499962\n",
      "TRAJ08*01 0.7848862848060257\n",
      "TRAJ10*01 0.5785984943856943\n",
      "TRAJ56*01 0.5361629427776021\n",
      "TRAJ02*01 0.4326406793861114\n",
      "TRAJ31*01 0.8557265396469741\n",
      "TRAJ34*01 0.5446621180005216\n",
      "TRAJ50*01 0.00134525051159294 *\n",
      "TRAJ07*01 0.003844911839389041 *\n",
      "TRAJ49*01 0.037164046060736755 *\n"
     ]
    }
   ],
   "source": [
    "for transcript in J_HLA_df['transcript'].unique():\n",
    "    try:\n",
    "        transcript_df = get_transcript_df(transcript)\n",
    "        p = regress_get_pvalue(transcript_df, \"ratio\", covariates=False)\n",
    "        if p < 0.05:\n",
    "            print(transcript, p, \"*\")\n",
    "        else:\n",
    "            print(transcript, p)\n",
    "    except:\n",
    "        continue"
   ]
  },
  {
   "cell_type": "code",
   "execution_count": null,
   "metadata": {},
   "outputs": [],
   "source": []
  },
  {
   "cell_type": "code",
   "execution_count": null,
   "metadata": {},
   "outputs": [],
   "source": []
  },
  {
   "cell_type": "code",
   "execution_count": null,
   "metadata": {},
   "outputs": [],
   "source": []
  },
  {
   "cell_type": "code",
   "execution_count": 54,
   "metadata": {},
   "outputs": [],
   "source": [
    "# for genotype in [\"GG\", \"CC\", \"GC\"]:\n",
    "#     fig, ax = plt.subplots()\n",
    "#     df = J24_HLA_df[J24_HLA_df[\"genotype\"]==genotype]\n",
    "#     sns.violinplot(x=\"HLA_dose\", y=\"summed_ratio\", data=df, ax=ax)\n",
    "#     sns.regplot(x=\"HLA_dose\", y=\"summed_ratio\", data=df, x_estimator=np.mean, color=\"yellow\", ax=ax, label=\"Median Estimator\")\n",
    "#     #sns.scatterplot(x=\"dose\", y=summed_plot_column, data=plot_df)\n",
    "#     plt.legend()\n",
    "#     plt.xlabel(\"HLA-DQB03:01 dose\")\n",
    "#     plt.ylabel(\"J24 Usage\")\n",
    "#     regression_p_value = regress(df, \"normalized_summed_ratio\", covariates=True)\n",
    "#     plt.title(\"{}, n = {}, p = {}\".format(genotype, len(df), regression_p_value))\n",
    "#     #plt.title(\"BLAST {} {}\".format(query_transcripts, plot_column_name))"
   ]
  },
  {
   "cell_type": "code",
   "execution_count": null,
   "metadata": {},
   "outputs": [],
   "source": [
    "# for genotype in [\"CC\", \"GG\"]:\n",
    "#     fig, ax = plt.subplots()\n",
    "#     df = J24_HLA_df[J24_HLA_df[\"genotype\"]!=genotype]\n",
    "#     sns.violinplot(x=\"HLA_dose\", y=\"summed_ratio\", data=df, ax=ax)\n",
    "#     sns.regplot(x=\"HLA_dose\", y=\"summed_ratio\", data=df, x_estimator=np.mean, color=\"yellow\", ax=ax, label=\"Median Estimator\")\n",
    "#     #sns.scatterplot(x=\"dose\", y=summed_plot_column, data=plot_df)\n",
    "#     plt.legend()\n",
    "#     plt.xlabel(\"HLA-DQB03:01 dose\")\n",
    "#     plt.ylabel(\"J24 Usage\")\n",
    "#     regression_p_value = regress(df, \"normalized_summed_ratio\", covariates=True)\n",
    "#     if genotype == \"CC\":\n",
    "#         plt.title(\"GG+GC, n = {}, p = {}\".format(len(df), regression_p_value))\n",
    "#     else:\n",
    "#         plt.title(\"CC+CG, n = {}, p = {}\".format(len(df), regression_p_value))\n",
    "#     #plt.title(\"BLAST {} {}\".format(query_transcripts, plot_column_name))"
   ]
  },
  {
   "cell_type": "code",
   "execution_count": null,
   "metadata": {},
   "outputs": [],
   "source": [
    "# regress(J24_HLA_df, \"normalized_summed_ratio\")"
   ]
  },
  {
   "cell_type": "code",
   "execution_count": null,
   "metadata": {},
   "outputs": [],
   "source": [
    "# fig, ax = plt.subplots()\n",
    "# sns.violinplot(x=\"HLA_dose\", y=\"summed_ratio\", data=J24_HLA_df)"
   ]
  },
  {
   "cell_type": "code",
   "execution_count": null,
   "metadata": {},
   "outputs": [],
   "source": [
    "# zero_arr = J24_HLA_df[J24_HLA_df['HLA_dose'] == 0]['summed_ratio']\n",
    "# one_arr = J24_HLA_df[J24_HLA_df['HLA_dose'] == 1]['summed_ratio']\n",
    "# two_arr = J24_HLA_df[J24_HLA_df['HLA_dose'] == 2]['summed_ratio']"
   ]
  },
  {
   "cell_type": "code",
   "execution_count": null,
   "metadata": {},
   "outputs": [],
   "source": [
    "# scipy.stats.kruskal(zero_arr, one_arr, two_arr)"
   ]
  },
  {
   "cell_type": "code",
   "execution_count": null,
   "metadata": {},
   "outputs": [],
   "source": [
    "# len(zero_arr), len(one_arr), len(two_arr)"
   ]
  },
  {
   "cell_type": "code",
   "execution_count": null,
   "metadata": {},
   "outputs": [],
   "source": []
  },
  {
   "cell_type": "code",
   "execution_count": null,
   "metadata": {},
   "outputs": [],
   "source": []
  },
  {
   "cell_type": "code",
   "execution_count": null,
   "metadata": {},
   "outputs": [],
   "source": []
  },
  {
   "cell_type": "markdown",
   "metadata": {},
   "source": [
    "### See if the presence of the 0602 allele (not dose), affects J24 usage"
   ]
  },
  {
   "cell_type": "code",
   "execution_count": null,
   "metadata": {},
   "outputs": [],
   "source": [
    "J24_df = pd.read_csv(\"J24_all.txt\", index_col=0)"
   ]
  },
  {
   "cell_type": "code",
   "execution_count": null,
   "metadata": {},
   "outputs": [],
   "source": [
    "J24_HLA_0602_df = pd.merge(HLA_DQB1_0602_df, J24_df, on=\"patid\", how=\"inner\")"
   ]
  },
  {
   "cell_type": "markdown",
   "metadata": {},
   "source": [
    "We only care that we have the HLA_DQB1_A1 and HLA_DQB1_A2 columns, as well as summed_ratio/normalized_summed_ratio"
   ]
  },
  {
   "cell_type": "code",
   "execution_count": null,
   "metadata": {},
   "outputs": [],
   "source": [
    "J24_HLA_0602_df"
   ]
  },
  {
   "cell_type": "code",
   "execution_count": null,
   "metadata": {},
   "outputs": [],
   "source": [
    "fig, ax = plt.subplots(figsize=(8,8))\n",
    "sns.violinplot(x=\"0301_present\", y=\"summed_ratio\", data=J24_HLA_0602_df, ax=ax)\n",
    "sns.regplot(x=\"0301_present\", y=\"summed_ratio\", data=J24_HLA_0602_df, x_estimator=np.median, color=\"yellow\", ax=ax, label=\"Median Estimator\")\n",
    "plt.legend()"
   ]
  },
  {
   "cell_type": "code",
   "execution_count": null,
   "metadata": {},
   "outputs": [],
   "source": [
    "len(HLA_DQB1_0602_df[HLA_DQB1_0602_df[\"0301_present\"] == True])"
   ]
  },
  {
   "cell_type": "code",
   "execution_count": null,
   "metadata": {},
   "outputs": [],
   "source": [
    "len(HLA_DQB1_0602_df[HLA_DQB1_0602_df[\"0301_present\"] == False])"
   ]
  },
  {
   "cell_type": "code",
   "execution_count": null,
   "metadata": {},
   "outputs": [],
   "source": [
    "true = J24_HLA_0602_df[J24_HLA_0602_df[\"0301_present\"] == True]['summed_ratio'].values\n",
    "false = J24_HLA_0602_df[J24_HLA_0602_df[\"0301_present\"] == False]['summed_ratio'].values"
   ]
  },
  {
   "cell_type": "code",
   "execution_count": null,
   "metadata": {},
   "outputs": [],
   "source": [
    "scipy.stats.mannwhitneyu(true, false)"
   ]
  },
  {
   "cell_type": "code",
   "execution_count": null,
   "metadata": {},
   "outputs": [],
   "source": [
    "scipy.stats.ttest_ind(true, false)"
   ]
  }
 ],
 "metadata": {
  "kernelspec": {
   "display_name": "Python 3",
   "language": "python",
   "name": "python3"
  },
  "language_info": {
   "codemirror_mode": {
    "name": "ipython",
    "version": 3
   },
   "file_extension": ".py",
   "mimetype": "text/x-python",
   "name": "python",
   "nbconvert_exporter": "python",
   "pygments_lexer": "ipython3",
   "version": "3.6.8"
  }
 },
 "nbformat": 4,
 "nbformat_minor": 2
}

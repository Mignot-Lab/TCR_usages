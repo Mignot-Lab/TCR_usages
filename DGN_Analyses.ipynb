{
 "cells": [
  {
   "cell_type": "code",
   "execution_count": null,
   "metadata": {},
   "outputs": [],
   "source": [
    "import numpy as np\n",
    "import pandas as pd\n",
    "import matplotlib.pyplot as plt\n",
    "import seaborn as sns\n",
    "import scipy\n",
    "import statsmodels.api as sm"
   ]
  },
  {
   "cell_type": "code",
   "execution_count": 2,
   "metadata": {},
   "outputs": [],
   "source": [
    "HLA_df = pd.read_csv(\"DGN_HLA_df.csv\")\n",
    "vdj_table = pd.read_csv(\"DGN_vdj_usages_table.csv\")\n",
    "cov_df = pd.read_csv(\"DGN_covariates_df.csv\")\n",
    "query = \"TCR\"\n",
    "cov_df[\"lane\"] = cov_df[\"fcid\"] + \"_\" + cov_df[\"lane\"].astype(\"str\") # covariates"
   ]
  },
  {
   "cell_type": "markdown",
   "metadata": {},
   "source": [
    "### Do any cohort filtering before analysis"
   ]
  },
  {
   "cell_type": "code",
   "execution_count": 3,
   "metadata": {},
   "outputs": [],
   "source": [
    "# plt.hist(HLA_df['HLA_DQB1_0301'], bins=50)\n",
    "\n",
    "# DQA1_columns = [x for x in HLA_df.columns if x.startswith(\"HLA_DQA1\")]\n",
    "\n",
    "# for col in DQA1_columns:\n",
    "#     fig, ax = plt.subplots()\n",
    "#     plt.title(col)\n",
    "#     plt.hist(HLA_df[HLA_df['HLA_DQB1_0301']>0.5][col], bins=30)"
   ]
  },
  {
   "cell_type": "code",
   "execution_count": 4,
   "metadata": {},
   "outputs": [],
   "source": [
    "# HLA_df = HLA_df[HLA_df['HLA_DQA1_0501']>0.5] # only look at certain DQA1 groups"
   ]
  },
  {
   "cell_type": "markdown",
   "metadata": {},
   "source": [
    "## setting up all stats stets below"
   ]
  },
  {
   "cell_type": "code",
   "execution_count": 5,
   "metadata": {},
   "outputs": [],
   "source": [
    "pat_info_df = pd.merge(cov_df, HLA_df, on=\"patid\", how=\"inner\")\n",
    "all_df = pd.merge(pat_info_df, vdj_table, on=\"patid\", how=\"inner\")\n",
    "all_df = pd.get_dummies(all_df, columns=['fcid', 'lane'])\n",
    "tcr_columns = [x for x in all_df.columns if x.startswith(\"TR\")]\n",
    "hla_columns = [x for x in all_df.columns if x.startswith(\"HLA\")]\n",
    "fcid_columns = [x for x in all_df.columns if x.startswith(\"fcid\")]\n",
    "lane_columns = [x for x in all_df.columns if x.startswith(\"lane\")]"
   ]
  },
  {
   "cell_type": "markdown",
   "metadata": {},
   "source": [
    "## OLS"
   ]
  },
  {
   "cell_type": "code",
   "execution_count": 6,
   "metadata": {},
   "outputs": [],
   "source": [
    "group_0602 = \"all\" # neg, pos, all"
   ]
  },
  {
   "cell_type": "code",
   "execution_count": 7,
   "metadata": {},
   "outputs": [],
   "source": [
    "ols_df = pd.DataFrame()\n",
    "ols_df[[\"patid\"]] = all_df[[\"patid\"]]\n",
    "ols_df['HLA_DQB1_0301'] = (all_df['HLA_DQB1_0301']>0.5).astype(\"int\")\n",
    "ols_df['HLA_DQB1_0602'] = (all_df['HLA_DQB1_0602']<0.5).astype(\"int\")\n",
    "ols_df[tcr_columns] = all_df[tcr_columns]\n",
    "ols_df[fcid_columns] = all_df[fcid_columns]\n",
    "ols_df[lane_columns] = all_df[lane_columns]"
   ]
  },
  {
   "cell_type": "code",
   "execution_count": 8,
   "metadata": {},
   "outputs": [],
   "source": [
    "if group_0602 == \"pos\":\n",
    "    ols_df = ols_df[ols_df['HLA_DQB1_0602'] == 1]\n",
    "elif group_0602 == \"neg\":\n",
    "    ols_df = ols_df[ols_df['HLA_DQB1_0602'] == 0]"
   ]
  },
  {
   "cell_type": "code",
   "execution_count": 9,
   "metadata": {},
   "outputs": [],
   "source": [
    "# FOUR SEPARATE GROUPS\n",
    "\n",
    "# ols_df['+0602+0301'] = ((ols_df['HLA_DQB1_0602'] == 1) & (ols_df['HLA_DQB1_0301'] == 1)).astype(\"int\")\n",
    "# ols_df['+0602-0301'] = ((ols_df['HLA_DQB1_0602'] == 1) & (ols_df['HLA_DQB1_0301'] == 0)).astype(\"int\")\n",
    "# ols_df['-0602+0301'] = ((ols_df['HLA_DQB1_0602'] == 0) & (ols_df['HLA_DQB1_0301'] == 1)).astype(\"int\")\n",
    "# ols_df['-0602-0301'] = ((ols_df['HLA_DQB1_0602'] == 0) & (ols_df['HLA_DQB1_0301'] == 0)).astype(\"int\")\n",
    "# #ols_df['HLA_DQB1_0602*0301'] = ols_df['HLA_DQB1_0301']*ols_df['HLA_DQB1_0602']\n",
    "# np.sum(ols_df['+0602+0301'].values), np.sum(ols_df['+0602-0301'].values), np.sum(ols_df['-0602+0301'].values), np.sum(ols_df['-0602-0301'].values)"
   ]
  },
  {
   "cell_type": "code",
   "execution_count": 10,
   "metadata": {},
   "outputs": [
    {
     "name": "stdout",
     "output_type": "stream",
     "text": [
      "doing 157 tests\n"
     ]
    },
    {
     "name": "stderr",
     "output_type": "stream",
     "text": [
      "/home/ashteng/36/lib/python3.6/site-packages/numpy/core/fromnumeric.py:2495: FutureWarning: Method .ptp is deprecated and will be removed in a future version. Use numpy.ptp instead.\n",
      "  return ptp(axis=axis, out=out, **kwargs)\n"
     ]
    },
    {
     "data": {
      "text/html": [
       "<div>\n",
       "<style scoped>\n",
       "    .dataframe tbody tr th:only-of-type {\n",
       "        vertical-align: middle;\n",
       "    }\n",
       "\n",
       "    .dataframe tbody tr th {\n",
       "        vertical-align: top;\n",
       "    }\n",
       "\n",
       "    .dataframe thead th {\n",
       "        text-align: right;\n",
       "    }\n",
       "</style>\n",
       "<table border=\"1\" class=\"dataframe\">\n",
       "  <thead>\n",
       "    <tr style=\"text-align: right;\">\n",
       "      <th></th>\n",
       "      <th>coef</th>\n",
       "      <th>se</th>\n",
       "      <th>pvalue</th>\n",
       "      <th>tvalue</th>\n",
       "    </tr>\n",
       "  </thead>\n",
       "  <tbody>\n",
       "    <tr>\n",
       "      <td>TRAJ1</td>\n",
       "      <td>0.000081</td>\n",
       "      <td>0.000135</td>\n",
       "      <td>0.547685</td>\n",
       "      <td>0.601480</td>\n",
       "    </tr>\n",
       "    <tr>\n",
       "      <td>TRAJ10</td>\n",
       "      <td>0.000171</td>\n",
       "      <td>0.000513</td>\n",
       "      <td>0.739422</td>\n",
       "      <td>0.332730</td>\n",
       "    </tr>\n",
       "    <tr>\n",
       "      <td>TRAJ11</td>\n",
       "      <td>0.000212</td>\n",
       "      <td>0.000322</td>\n",
       "      <td>0.509895</td>\n",
       "      <td>0.659286</td>\n",
       "    </tr>\n",
       "    <tr>\n",
       "      <td>TRAJ12</td>\n",
       "      <td>-0.000372</td>\n",
       "      <td>0.000405</td>\n",
       "      <td>0.358894</td>\n",
       "      <td>-0.917984</td>\n",
       "    </tr>\n",
       "    <tr>\n",
       "      <td>TRAJ13</td>\n",
       "      <td>0.001905</td>\n",
       "      <td>0.000544</td>\n",
       "      <td>0.000488</td>\n",
       "      <td>3.501275</td>\n",
       "    </tr>\n",
       "    <tr>\n",
       "      <td>...</td>\n",
       "      <td>...</td>\n",
       "      <td>...</td>\n",
       "      <td>...</td>\n",
       "      <td>...</td>\n",
       "    </tr>\n",
       "    <tr>\n",
       "      <td>TRBV7-6</td>\n",
       "      <td>-0.000126</td>\n",
       "      <td>0.000363</td>\n",
       "      <td>0.728078</td>\n",
       "      <td>-0.347801</td>\n",
       "    </tr>\n",
       "    <tr>\n",
       "      <td>TRBV7-7</td>\n",
       "      <td>0.000175</td>\n",
       "      <td>0.000123</td>\n",
       "      <td>0.155695</td>\n",
       "      <td>1.420993</td>\n",
       "    </tr>\n",
       "    <tr>\n",
       "      <td>TRBV7-8</td>\n",
       "      <td>0.000337</td>\n",
       "      <td>0.000471</td>\n",
       "      <td>0.474919</td>\n",
       "      <td>0.714824</td>\n",
       "    </tr>\n",
       "    <tr>\n",
       "      <td>TRBV7-9</td>\n",
       "      <td>0.002255</td>\n",
       "      <td>0.000940</td>\n",
       "      <td>0.016688</td>\n",
       "      <td>2.398380</td>\n",
       "    </tr>\n",
       "    <tr>\n",
       "      <td>TRBV9</td>\n",
       "      <td>-0.000792</td>\n",
       "      <td>0.000691</td>\n",
       "      <td>0.252045</td>\n",
       "      <td>-1.146196</td>\n",
       "    </tr>\n",
       "  </tbody>\n",
       "</table>\n",
       "<p>157 rows × 4 columns</p>\n",
       "</div>"
      ],
      "text/plain": [
       "             coef        se    pvalue    tvalue\n",
       "TRAJ1    0.000081  0.000135  0.547685  0.601480\n",
       "TRAJ10   0.000171  0.000513  0.739422  0.332730\n",
       "TRAJ11   0.000212  0.000322  0.509895  0.659286\n",
       "TRAJ12  -0.000372  0.000405  0.358894 -0.917984\n",
       "TRAJ13   0.001905  0.000544  0.000488  3.501275\n",
       "...           ...       ...       ...       ...\n",
       "TRBV7-6 -0.000126  0.000363  0.728078 -0.347801\n",
       "TRBV7-7  0.000175  0.000123  0.155695  1.420993\n",
       "TRBV7-8  0.000337  0.000471  0.474919  0.714824\n",
       "TRBV7-9  0.002255  0.000940  0.016688  2.398380\n",
       "TRBV9   -0.000792  0.000691  0.252045 -1.146196\n",
       "\n",
       "[157 rows x 4 columns]"
      ]
     },
     "execution_count": 10,
     "metadata": {},
     "output_type": "execute_result"
    }
   ],
   "source": [
    "print(\"doing {} tests\".format(len(tcr_columns)))\n",
    "x_columns = ['HLA_DQB1_0301'] + fcid_columns#lane_columns}  #['+0602+0301', '+0602-0301', '-0602+0301', '-0602-0301']\n",
    "res_df = pd.DataFrame()\n",
    "for tcr in tcr_columns:\n",
    "    y_column = tcr\n",
    "    X = ols_df[x_columns]\n",
    "    y = ols_df[y_column]\n",
    "    X = sm.add_constant(X) # constant is always added\n",
    "    mod = sm.OLS(y, X)\n",
    "    res = mod.fit()\n",
    "    \n",
    "    tcr_df = pd.DataFrame()\n",
    "    tcr_df['coef'] = res.params\n",
    "    tcr_df['se'] = res.bse\n",
    "    tcr_df['pvalue'] = res.pvalues\n",
    "    tcr_df['tvalue'] = res.tvalues\n",
    "    res_df[tcr] = tcr_df.loc['HLA_DQB1_0301']\n",
    "    \n",
    "res_df = res_df.transpose()\n",
    "res_df "
   ]
  },
  {
   "cell_type": "code",
   "execution_count": 11,
   "metadata": {},
   "outputs": [],
   "source": [
    "res_df = res_df.sort_values(\"pvalue\", ascending=True)"
   ]
  },
  {
   "cell_type": "code",
   "execution_count": 12,
   "metadata": {},
   "outputs": [],
   "source": [
    "res_df = res_df.reset_index().rename(columns={\"index\":\"TCR\"})\n",
    "res_df.to_csv(\"dgn_res_df_0602{}.csv\".format(group_0602), index=None)"
   ]
  },
  {
   "cell_type": "code",
   "execution_count": null,
   "metadata": {},
   "outputs": [],
   "source": [
    "# print(\"doing {} tests\".format(len(tcr_columns)))\n",
    "# pvalue_mat = []\n",
    "# coefs_mat = []\n",
    "# x_columns = ['HLA_DQB1_0301'] + fcid_columns#lane_columns}  #['+0602+0301', '+0602-0301', '-0602+0301', '-0602-0301']\n",
    "# for tcr in tcr_columns:\n",
    "#     y_column = tcr\n",
    "#     X = ols_df[x_columns]\n",
    "#     y = ols_df[y_column]\n",
    "#     X = sm.add_constant(X) # constant is always added\n",
    "#     mod = sm.OLS(y, X)\n",
    "#     res = mod.fit()\n",
    "#     #print('Parameters:\\n', res.params)\n",
    "#     #print('R2: ', res.rsquared)\n",
    "#     #print(tcr, \"{:.4f}\".format(res.params[]), \"{:.4f}\".format(res.rsquared), \"{:.4f}\".format(res.pvalues[tcr]))\n",
    "#     coefs = [res.params[x] for x in x_columns]\n",
    "#     coefs_mat.append(coefs)\n",
    "#     #print(res.summary())\n",
    "#     pvalues = [res.pvalues[x] for x in x_columns]\n",
    "#     pvalue_mat.append(pvalues)\n",
    "\n",
    "# pvalue_mat = np.array(pvalue_mat)\n",
    "# neglog_pvalue_mat = -np.log(np.array(pvalue_mat))\n",
    "# coefs_mat = np.array(coefs_mat)\n",
    "\n",
    "# # visualize all covariates\n",
    "# fig, ax = plt.subplots(figsize=(20,10))\n",
    "# plt.imshow(neglog_pvalue_mat)\n",
    "# plt.colorbar()\n",
    "# plt.title(\"DGN -log(pvalues). first column is 0301, the rest are flow cell ids\")\n",
    "\n",
    "#-np.log(0.05/len(tcr_columns))\n",
    "\n",
    "# fig, (ax1, ax2) = plt.subplots(1, 2, sharex=True, sharey=True, figsize=((pvalue_mat.shape[1]//2+3)*2, (pvalue_mat.shape[0]//2)*2))\n",
    "# fig.tight_layout(pad=3.0)\n",
    "# ax1 = sns.heatmap(pvalue_mat, cmap='seismic', center=0, vmin=0, vmax=10, cbar_kws={'label': \"-log(pvalue)\"}, ax=ax1)\n",
    "# ax2 = sns.heatmap(coefs_mat, cmap='seismic', center=0, vmin=-0.005, vmax=0.005, cbar_kws={'label': \"coef\"}, ax=ax2)\n",
    "# #plt.ylabel(X_name)\n",
    "# #plt.xlabel(Y_name)\n",
    "# #plt.yticks(rotation=0)\n",
    "# #plt.xticks(rotation=90)\n",
    "\n",
    "# fig.suptitle(\"[ONLY 0602 POSITIVE PEOPLE] 0301 predicting {} expression (DGN)\".format(query), y=1)\n",
    "\n",
    "# ax1.set_title(\"-log(p-values)\")\n",
    "# ax1.set_yticklabels(['bias'] + tcr_columns, rotation=0)\n",
    "# ax1.set_xticklabels(x_columns, rotation=90)\n",
    "# bottom, top = ax1.get_ylim()\n",
    "# #ax1.set_ylim(bottom + 0.5, top - 0.5)\n",
    "\n",
    "# ax2.set_title(\"OLS coefficients\")\n",
    "# ax2.set_yticklabels(tcr_columns, rotation=0)\n",
    "# ax2.set_xticklabels(x_columns, rotation=90)\n",
    "# bottom, top = ax2.get_ylim()\n",
    "# ax2.set_ylim(bottom + 0.5, top - 0.5)"
   ]
  },
  {
   "cell_type": "markdown",
   "metadata": {},
   "source": [
    "## GLMNET"
   ]
  },
  {
   "cell_type": "code",
   "execution_count": null,
   "metadata": {},
   "outputs": [],
   "source": [
    "expr_mat.shape, HLA_mat.shape"
   ]
  },
  {
   "cell_type": "code",
   "execution_count": null,
   "metadata": {},
   "outputs": [],
   "source": [
    "# Import relevant modules and setup for calling glmnet\n",
    "%matplotlib inline\n",
    "import glmnet_python\n",
    "from glmnet import glmnet\n",
    "import sys\n",
    "import scipy, importlib, pprint, matplotlib.pyplot as plt, warnings\n",
    "from glmnet import glmnet; from glmnetPlot import glmnetPlot\n",
    "from glmnetPrint import glmnetPrint; from glmnetCoef import glmnetCoef; from glmnetPredict import glmnetPredict\n",
    "from cvglmnet import cvglmnet; from cvglmnetCoef import cvglmnetCoef\n",
    "from cvglmnetPlot import cvglmnetPlot; from cvglmnetPredict import cvglmnetPredict"
   ]
  },
  {
   "cell_type": "code",
   "execution_count": null,
   "metadata": {},
   "outputs": [],
   "source": [
    "DQB1_mask = np.array([1 if name.startswith(\"HLA_DQB1\") else 0 for name in HLA_names])\n",
    "DQB1_mask = np.argwhere(DQB1_mask==1).flatten()"
   ]
  },
  {
   "cell_type": "code",
   "execution_count": null,
   "metadata": {
    "scrolled": true
   },
   "outputs": [],
   "source": [
    "DQB1_mask"
   ]
  },
  {
   "cell_type": "code",
   "execution_count": null,
   "metadata": {},
   "outputs": [],
   "source": [
    "X_matrix = expr_mat\n",
    "Y_matrix = HLA_mat[:,DQB1_mask]\n",
    "X_name = \"{} gene expression\".format(query)\n",
    "Y_name = \"HLA DQB1 haplotypes\"\n",
    "X_labels = list(expr_names)\n",
    "Y_labels = list(HLA_names[DQB1_mask])"
   ]
  },
  {
   "cell_type": "code",
   "execution_count": null,
   "metadata": {},
   "outputs": [],
   "source": [
    "for lambda_pick_strategy in ['lambda_1se', 'lambda_min']:\n",
    "    \n",
    "    coefs = []\n",
    "    warnings.filterwarnings('ignore')\n",
    "    warnings.filterwarnings('default')\n",
    "    #print(\"all TCR functional genes\")\n",
    "    #print(\"Response Variable, %Deviation Explained by Model\")\n",
    "    for t in range(Y_matrix.shape[1]): # for each HLA subtype, use it as response variable\n",
    "        y = Y_matrix[:,t]\n",
    "        non_nan_idx = np.argwhere(1-np.isnan(y)).flatten()\n",
    "        y = y[non_nan_idx]\n",
    "        X = X_matrix[non_nan_idx]\n",
    "        cvfit = cvglmnet(x = X, y = y, ptype = 'mse')\n",
    "        coefs_i = cvglmnetCoef(cvfit, s = lambda_pick_strategy)\n",
    "        #fit = glmnet(x = X, y = y, family = 'gaussian', alpha = 1.0, nlambda = 20)\n",
    "        #print(\"{}, {}\".format(Y_labels[t], fit['dev'][cv_chosen_lambda])\n",
    "        #coefs_i = glmnetCoef(fit, s = scipy.float64(cv_chosen_lambda), exact = False)\n",
    "        coefs.append(coefs_i)\n",
    "    print(cvfit['lambda_1se'], cvfit['lambda_min'])\n",
    "\n",
    "    coefs = np.hstack(coefs)\n",
    "    fig, ax = plt.subplots(figsize=(coefs.shape[1]//2, coefs.shape[0]//2))\n",
    "    ax = sns.heatmap(coefs, cmap='seismic', center=0, cbar_kws={'label': \"Regression Coefficient\"})\n",
    "    plt.ylabel(X_name)\n",
    "    plt.xlabel(Y_name)\n",
    "    plt.yticks(rotation=0)\n",
    "    plt.xticks(rotation=90)\n",
    "    ax.set_yticklabels(['bias'] + X_labels)\n",
    "    ax.set_xticklabels(Y_labels)\n",
    "    plt.title(\"Lasso Regression coefficients ({}) of {} predicting {}\".format(lambda_pick_strategy, X_name, Y_name))\n",
    "    bottom, top = ax.get_ylim()\n",
    "    ax.set_ylim(bottom + 0.5, top - 0.5)"
   ]
  },
  {
   "cell_type": "code",
   "execution_count": null,
   "metadata": {},
   "outputs": [],
   "source": [
    "# import pickle\n",
    "# import os\n",
    "\n",
    "# if os.path.exists(\"gaussian_coefs.pkl\"):\n",
    "#     coefs = pickle.load(open(\"gaussian_coefs.pkl\", \"rb\"))\n",
    "# else:\n",
    "#     pickle.dump(coefs, open(\"gaussian_coefs.pkl\", \"wb\"))"
   ]
  },
  {
   "cell_type": "code",
   "execution_count": null,
   "metadata": {},
   "outputs": [],
   "source": [
    "# np.mean(coefs.flatten())\n",
    "# _ = plt.hist(coefs.flatten(), bins=50)"
   ]
  },
  {
   "cell_type": "markdown",
   "metadata": {},
   "source": [
    "## T test"
   ]
  },
  {
   "cell_type": "code",
   "execution_count": null,
   "metadata": {},
   "outputs": [],
   "source": [
    "import scipy\n",
    "import statsmodels.stats.multitest as multitest\n",
    "import statsmodels.api as sm"
   ]
  },
  {
   "cell_type": "code",
   "execution_count": null,
   "metadata": {},
   "outputs": [],
   "source": [
    "for tcr in tcr_columns:\n",
    "    test_0301 = test_df[test_df[\"HLA_DQB1_0602\"] > 0][tcr].values\n",
    "    test_other = test_df[test_df[\"HLA_DQB1_0602\"] <= 0][tcr].values\n",
    "    tstat, pvalue = scipy.stats.ttest_ind(test_0301, test_other)\n",
    "    print(tcr, np.mean(test_0301)-np.mean(test_other), tstat, pvalue)\n",
    "    if pvalue < 0.05:\n",
    "        print(\"^\")"
   ]
  },
  {
   "cell_type": "markdown",
   "metadata": {},
   "source": [
    "## Correlation"
   ]
  },
  {
   "cell_type": "code",
   "execution_count": null,
   "metadata": {},
   "outputs": [],
   "source": [
    "hla_arr = dqb_0602_usage[\"HLA_DQB1_0301\"].values\n",
    "print(\"doing {} tests\".format(len(tcr_columns)))\n",
    "\n",
    "corrcoefs = []\n",
    "pvalues = []\n",
    "   \n",
    "for tcr in tcr_columns:\n",
    "    exp_arr = dqb_0602_usage[tcr].values\n",
    "    corrcoef, pvalue = scipy.stats.pearsonr(hla_arr, exp_arr)\n",
    "    corrcoefs.append(corrcoef)\n",
    "    pvalues.append(pvalue)\n",
    "\n",
    "# get 5% FDR corrected p-values\n",
    "rejected, corrected_pvalues = multitest.fdrcorrection(pvalues)"
   ]
  },
  {
   "cell_type": "code",
   "execution_count": null,
   "metadata": {},
   "outputs": [],
   "source": [
    "print(\"TCR, corrcoef, corrected_pvalue, is_rejected\")\n",
    "for i in range(len(tcr_columns)):\n",
    "    print(tcr_columns[i], corrcoefs[i], corrected_pvalues[i], rejected[i])\n",
    "    if rejected[i] == True:\n",
    "        print(\"*\")"
   ]
  },
  {
   "cell_type": "code",
   "execution_count": null,
   "metadata": {},
   "outputs": [],
   "source": [
    "import seaborn as sns"
   ]
  },
  {
   "cell_type": "code",
   "execution_count": null,
   "metadata": {},
   "outputs": [],
   "source": [
    "for tcr in tcr_names:\n",
    "    fig, ax = plt.subplots()\n",
    "    sns.distplot(dqb_0602_usage[dqb_0602_usage['HLA_DQB1_0301']>0.5][tcr], kde=False, label=\"0602+0301\")\n",
    "    sns.distplot(dqb_0602_usage[dqb_0602_usage['HLA_DQB1_0301']<=0.5][tcr], kde=False, label=\"0602+other\")\n",
    "    \n",
    "    plt.title(tcr)\n",
    "    plt.xlabel(\"usage\")\n",
    "    plt.legend()"
   ]
  },
  {
   "cell_type": "code",
   "execution_count": null,
   "metadata": {},
   "outputs": [],
   "source": [
    "sns.distplot(all_df[all_df['HLA_DQB1_0301']>0.5]['TRAV13-1'], bins=30, kde=False, label=\"0301\")\n",
    "sns.distplot(all_df[all_df['HLA_DQB1_0301']<=0.5]['TRAV13-1'], bins=30, kde=False, label=\"non-0301\")\n",
    "\n",
    "plt.xlabel(\"TRAV13-1 usage\")\n",
    "plt.legend()"
   ]
  },
  {
   "cell_type": "code",
   "execution_count": null,
   "metadata": {},
   "outputs": [],
   "source": [
    "len(all_df[all_df['HLA_DQB1_0301']<=0.5])"
   ]
  },
  {
   "cell_type": "code",
   "execution_count": null,
   "metadata": {},
   "outputs": [],
   "source": []
  }
 ],
 "metadata": {
  "kernelspec": {
   "display_name": "Python 3",
   "language": "python",
   "name": "python3"
  },
  "language_info": {
   "codemirror_mode": {
    "name": "ipython",
    "version": 3
   },
   "file_extension": ".py",
   "mimetype": "text/x-python",
   "name": "python",
   "nbconvert_exporter": "python",
   "pygments_lexer": "ipython3",
   "version": "3.6.8"
  }
 },
 "nbformat": 4,
 "nbformat_minor": 2
}

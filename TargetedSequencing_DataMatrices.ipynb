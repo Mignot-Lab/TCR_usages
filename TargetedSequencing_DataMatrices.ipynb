{
 "cells": [
  {
   "cell_type": "code",
   "execution_count": 349,
   "metadata": {},
   "outputs": [],
   "source": [
    "import numpy as np\n",
    "import pandas as pd\n",
    "import matplotlib.pyplot as plt\n",
    "import seaborn as sns\n",
    "import scipy\n",
    "import statsmodels.api as sm\n",
    "from collections import Counter\n",
    "import pickle"
   ]
  },
  {
   "cell_type": "markdown",
   "metadata": {},
   "source": [
    "## X matrix (TCR expression)"
   ]
  },
  {
   "cell_type": "code",
   "execution_count": 410,
   "metadata": {},
   "outputs": [],
   "source": [
    "TRAB = \"TRA\"\n",
    "TCELL_TYPE = \"CD4+CD45RA-\" #\"CD8+\"\n",
    "\n",
    "df = pd.read_csv(\"NarcolepsyTargetedSequencing/MAIN_{}_USAGE_CLEANED.csv\".format(TRAB))#{}_cleaned.csv\".format(TRAB))"
   ]
  },
  {
   "cell_type": "code",
   "execution_count": 411,
   "metadata": {},
   "outputs": [],
   "source": [
    "# DBID=14287 has two rows\n",
    "usage_df = df[df['cell_type'] == TCELL_TYPE].fillna(0)"
   ]
  },
  {
   "cell_type": "code",
   "execution_count": 412,
   "metadata": {},
   "outputs": [],
   "source": [
    "# drop all non-usage columns except DBID and SEQ (lane)\n",
    "tcr_columns = [x for x in usage_df.columns if x.startswith(\"TR\")]\n",
    "#usage_df = usage_df.drop(labels=['BC', 'CELLTYPE', 'DBID2', 'CHAIN'], axis=1)"
   ]
  },
  {
   "cell_type": "code",
   "execution_count": 413,
   "metadata": {},
   "outputs": [],
   "source": [
    "usage_df = usage_df.rename(columns={\"DbID\":\"DBID\"})"
   ]
  },
  {
   "cell_type": "code",
   "execution_count": 414,
   "metadata": {},
   "outputs": [],
   "source": [
    "rename_dict = dict()\n",
    "for col_name in tcr_columns:\n",
    "    family = col_name.split(\"*\")[0]\n",
    "    family = family.split(\"|\")[0]\n",
    "    prefix = family[:4] # TRBJ, TRBV\n",
    "    suffix = family[4:]\n",
    "    if suffix[0] == \"0\": # get rid of the 0\n",
    "        suffix = suffix[1:]\n",
    "    cleaned = prefix + suffix\n",
    "    rename_dict[col_name] = cleaned"
   ]
  },
  {
   "cell_type": "code",
   "execution_count": 415,
   "metadata": {},
   "outputs": [],
   "source": [
    "usage_df = usage_df.rename(columns=rename_dict)"
   ]
  },
  {
   "cell_type": "code",
   "execution_count": 416,
   "metadata": {},
   "outputs": [],
   "source": [
    "second_rename_dict = {\"TRAV2-1\":\"TRAV2\", \"TRAV14\":\"TRAV14/DV4\", \"TRAV36\":\"TRAV36/DV7\", \"TRAV38-2\":\"TRAV38-2/DV8\",  \"TRAV29\":\"TRAV29/DV5\", \"TRAV23\":\"TRAV23/DV6\"}"
   ]
  },
  {
   "cell_type": "code",
   "execution_count": 417,
   "metadata": {},
   "outputs": [],
   "source": [
    "usage_df = usage_df.rename(columns=second_rename_dict)"
   ]
  },
  {
   "cell_type": "code",
   "execution_count": 418,
   "metadata": {},
   "outputs": [],
   "source": [
    "\"\"\"Filter out pseudogenes and non-functional genes\"\"\"\n",
    "valid_TCR_genes = set()\n",
    "with open(\"valid_TCR_genes.txt\", \"r\") as f:\n",
    "    for line in f:\n",
    "        valid_TCR_genes.add(line.strip())"
   ]
  },
  {
   "cell_type": "code",
   "execution_count": 419,
   "metadata": {},
   "outputs": [],
   "source": [
    "pseudogene_columns = []\n",
    "for gene_name in rename_dict:\n",
    "    cleaned_name = rename_dict[gene_name]\n",
    "    if cleaned_name in second_rename_dict:\n",
    "        cleaned_name = second_rename_dict[cleaned_name]\n",
    "    if cleaned_name not in valid_TCR_genes:\n",
    "        pseudogene_columns.append(cleaned_name)"
   ]
  },
  {
   "cell_type": "code",
   "execution_count": 420,
   "metadata": {},
   "outputs": [
    {
     "data": {
      "text/plain": [
       "['TRAV35', 'TRAJ15', 'TRAJ8', 'TRAJ15']"
      ]
     },
     "execution_count": 420,
     "metadata": {},
     "output_type": "execute_result"
    }
   ],
   "source": [
    "pseudogene_columns"
   ]
  },
  {
   "cell_type": "code",
   "execution_count": 421,
   "metadata": {},
   "outputs": [],
   "source": [
    "\"\"\"Drop pseudo/nonfunctional gene columns\"\"\"\n",
    "usage_df = usage_df.drop(pseudogene_columns, axis=1)"
   ]
  },
  {
   "cell_type": "code",
   "execution_count": 422,
   "metadata": {},
   "outputs": [],
   "source": [
    "# because we mapped all family subtypes to the family name, now we have duplicate columns that we should merge\n",
    "usage_df = usage_df.groupby(usage_df.columns, axis=1).sum()"
   ]
  },
  {
   "cell_type": "code",
   "execution_count": 423,
   "metadata": {},
   "outputs": [],
   "source": [
    "usage_df = usage_df.groupby(usage_df.columns, axis=1).sum()"
   ]
  },
  {
   "cell_type": "code",
   "execution_count": 424,
   "metadata": {},
   "outputs": [],
   "source": [
    "usage_df = usage_df.reindex(sorted(usage_df.columns), axis=1)"
   ]
  },
  {
   "cell_type": "code",
   "execution_count": 425,
   "metadata": {},
   "outputs": [],
   "source": [
    "pickle.dump(usage_df, open(\"NarcolepsyTargetedSequencing/{}_usage_df.pkl\".format(TRAB), \"wb\"))"
   ]
  },
  {
   "cell_type": "code",
   "execution_count": 426,
   "metadata": {},
   "outputs": [],
   "source": [
    "tcr_columns = [x for x in usage_df.columns if x.startswith(\"TR\")]"
   ]
  },
  {
   "cell_type": "code",
   "execution_count": 427,
   "metadata": {},
   "outputs": [],
   "source": [
    "usage_df_long = usage_df[['DBID']+tcr_columns].melt('DBID', var_name='family', value_name='usage_ratio')"
   ]
  },
  {
   "cell_type": "code",
   "execution_count": 428,
   "metadata": {},
   "outputs": [],
   "source": [
    "### PLOT EACH TCR SEGMENT USAGE\n",
    "\n",
    "# f, ax = plt.subplots(figsize=(5,20))\n",
    "# sns.boxplot(y=\"family\", x=\"usage_ratio\", data=usage_df_long)\n",
    "# plt.xlim((0,0.5))\n",
    "# plt.title(\"{} Protein Coding and Functional Genes\".format(TRAB))"
   ]
  },
  {
   "cell_type": "code",
   "execution_count": 429,
   "metadata": {},
   "outputs": [],
   "source": [
    "usage_df = pd.get_dummies(usage_df, columns=['SEQ']) # encode SEQ lane as dummy variable"
   ]
  },
  {
   "cell_type": "code",
   "execution_count": 430,
   "metadata": {},
   "outputs": [],
   "source": [
    "usage_df.to_csv(\"TargSeq_{}_all_df.csv\".format(TRAB), index=None)"
   ]
  },
  {
   "cell_type": "markdown",
   "metadata": {},
   "source": [
    "### Combine TRA and TRB dfs (deprecated)"
   ]
  },
  {
   "cell_type": "code",
   "execution_count": 431,
   "metadata": {},
   "outputs": [],
   "source": [
    "# TRA_usage_df = pickle.load(open(\"NarcolepsyTargetedSequencing/TRA_usage_df.pkl\", \"rb\"))\n",
    "# TRB_usage_df = pickle.load(open(\"NarcolepsyTargetedSequencing/TRB_usage_df.pkl\", \"rb\"))\n",
    "# TRAB_usage_df = pd.merge(TRA_usage_df, TRB_usage_df, on=\"DBID\", how=\"outer\")\n",
    "# TRAB_usage_df = TRAB_usage_df.drop_duplicates(subset=[\"DBID\"])\n",
    "# TRAB_usage_df\n",
    "# TRAB_usage_df.to_csv(\"TargSeq_all_TCR_df.csv\")"
   ]
  },
  {
   "cell_type": "code",
   "execution_count": 432,
   "metadata": {},
   "outputs": [],
   "source": [
    "TRAB_usage_df = usage_df.drop_duplicates(subset=[\"DBID\"]).fillna(0)"
   ]
  },
  {
   "cell_type": "markdown",
   "metadata": {},
   "source": [
    "## With Aditya's new file 602 and 301 genotypes are included. Temp don't need to run below code."
   ]
  },
  {
   "cell_type": "code",
   "execution_count": null,
   "metadata": {},
   "outputs": [],
   "source": []
  },
  {
   "cell_type": "code",
   "execution_count": null,
   "metadata": {},
   "outputs": [],
   "source": []
  },
  {
   "cell_type": "code",
   "execution_count": null,
   "metadata": {},
   "outputs": [],
   "source": []
  },
  {
   "cell_type": "code",
   "execution_count": null,
   "metadata": {},
   "outputs": [],
   "source": []
  },
  {
   "cell_type": "markdown",
   "metadata": {},
   "source": [
    "## Y matrix (genotype and phenotype data)"
   ]
  },
  {
   "cell_type": "code",
   "execution_count": 433,
   "metadata": {},
   "outputs": [],
   "source": [
    "geno_df = pd.read_csv(\"NarcolepsyTargetedSequencing/total_done_list.csv\")"
   ]
  },
  {
   "cell_type": "code",
   "execution_count": 434,
   "metadata": {},
   "outputs": [],
   "source": [
    "dbid_plateid_mapping = geno_df[['DBID', 'PLATEID']]"
   ]
  },
  {
   "cell_type": "code",
   "execution_count": 435,
   "metadata": {},
   "outputs": [],
   "source": [
    "TRA_df = pd.read_csv(\"NarcolepsyTargetedSequencing/ALPHA_TCR_BASELINE_FILENAMES_NOV22_2019.csv\")\n",
    "TRA_allowed_DBIDs = set(TRA_df['DBID'].values)\n",
    "TRB_df = pd.read_csv(\"NarcolepsyTargetedSequencing/BETA_TCR_BASELINE_FILENAMES_NOV22_2019.csv\")\n",
    "TRB_allowed_DBIDs = set(TRB_df['DBID'].values)"
   ]
  },
  {
   "cell_type": "code",
   "execution_count": 436,
   "metadata": {},
   "outputs": [
    {
     "data": {
      "text/plain": [
       "(182, 148)"
      ]
     },
     "execution_count": 436,
     "metadata": {},
     "output_type": "execute_result"
    }
   ],
   "source": [
    "# these are all of the people we are interested in\n",
    "len(TRA_allowed_DBIDs), len(TRB_allowed_DBIDs)"
   ]
  },
  {
   "cell_type": "code",
   "execution_count": 437,
   "metadata": {},
   "outputs": [
    {
     "data": {
      "text/plain": [
       "182"
      ]
     },
     "execution_count": 437,
     "metadata": {},
     "output_type": "execute_result"
    }
   ],
   "source": [
    "if TRAB == \"TRA\":\n",
    "    TRAB_allowed_DBIDs = TRA_allowed_DBIDs #TRA_allowed_DBIDs.union(TRB_allowed_DBIDs)\n",
    "else:\n",
    "    TRAB_allowed_DBIDs = TRB_allowed_DBIDs\n",
    "len(TRAB_allowed_DBIDs)"
   ]
  },
  {
   "cell_type": "code",
   "execution_count": 438,
   "metadata": {},
   "outputs": [],
   "source": [
    "geno_df = pd.read_csv(\"NarcolepsyTargetedSequencing/total_done_list.csv\")"
   ]
  },
  {
   "cell_type": "code",
   "execution_count": 439,
   "metadata": {},
   "outputs": [],
   "source": [
    "# this dataset is quite messy. a person can appear on multiple rows yet some rows could have nan values\n",
    "# use forward fill and back fill to fill in missing data\n",
    "geno_df = geno_df.groupby(\"DBID\").apply(lambda x: x.ffill().bfill())"
   ]
  },
  {
   "cell_type": "code",
   "execution_count": 440,
   "metadata": {},
   "outputs": [],
   "source": [
    "geno_ids = set([str(x) for x in geno_df['DBID'].values])"
   ]
  },
  {
   "cell_type": "code",
   "execution_count": 441,
   "metadata": {},
   "outputs": [
    {
     "data": {
      "text/plain": [
       "143"
      ]
     },
     "execution_count": 441,
     "metadata": {},
     "output_type": "execute_result"
    }
   ],
   "source": [
    "len(geno_ids)"
   ]
  },
  {
   "cell_type": "code",
   "execution_count": 442,
   "metadata": {},
   "outputs": [
    {
     "data": {
      "text/plain": [
       "45"
      ]
     },
     "execution_count": 442,
     "metadata": {},
     "output_type": "execute_result"
    }
   ],
   "source": [
    "# 44 people do not have corresponding genotypes\n",
    "len(TRAB_allowed_DBIDs.difference(geno_ids))"
   ]
  },
  {
   "cell_type": "code",
   "execution_count": 443,
   "metadata": {},
   "outputs": [
    {
     "data": {
      "text/plain": [
       "137"
      ]
     },
     "execution_count": 443,
     "metadata": {},
     "output_type": "execute_result"
    }
   ],
   "source": [
    "len(TRAB_allowed_DBIDs.intersection(geno_ids))"
   ]
  },
  {
   "cell_type": "code",
   "execution_count": 444,
   "metadata": {},
   "outputs": [],
   "source": [
    "# update allowed IDs to be the ones that we have genotype and phenotype information\n",
    "TRAB_allowed_DBIDs = TRAB_allowed_DBIDs.intersection(geno_ids)"
   ]
  },
  {
   "cell_type": "code",
   "execution_count": 445,
   "metadata": {},
   "outputs": [
    {
     "data": {
      "text/plain": [
       "137"
      ]
     },
     "execution_count": 445,
     "metadata": {},
     "output_type": "execute_result"
    }
   ],
   "source": [
    "len(TRAB_allowed_DBIDs)"
   ]
  },
  {
   "cell_type": "code",
   "execution_count": 446,
   "metadata": {},
   "outputs": [
    {
     "data": {
      "text/plain": [
       "Index(['DBID', 'Name', 'PLATEID', 'Gender', 'Age', 'interval',\n",
       "       'cata onset age', 'Dx', 'HCRT', '0301', '0602', 'rs1483979', 'Race',\n",
       "       '# to SEQ1', 'alpha', '# to SEQ2', 'beta', 'cell type', 'Cell#',\n",
       "       'Viability(%)', 'blood date', 'primers/ID', 'SEQ type', 'sent out date',\n",
       "       'done date', 'note', 'vaccination', 'done by', 'Unnamed: 28'],\n",
       "      dtype='object')"
      ]
     },
     "execution_count": 446,
     "metadata": {},
     "output_type": "execute_result"
    }
   ],
   "source": [
    "geno_df.columns"
   ]
  },
  {
   "cell_type": "code",
   "execution_count": 447,
   "metadata": {},
   "outputs": [
    {
     "data": {
      "text/plain": [
       "137"
      ]
     },
     "execution_count": 447,
     "metadata": {},
     "output_type": "execute_result"
    }
   ],
   "source": [
    "# only keep geno_df to the people who are allowed\n",
    "geno_df = geno_df[geno_df['DBID'].isin(TRAB_allowed_DBIDs)]\n",
    "# dropping same person duplicates\n",
    "geno_df = geno_df.drop_duplicates(subset=[\"DBID\"])\n",
    "# only keep interesting columns\n",
    "geno_df = geno_df[['DBID', 'PLATEID', 'Dx', 'Gender', 'Age', 'rs1483979']]\n",
    "len(geno_df)"
   ]
  },
  {
   "cell_type": "code",
   "execution_count": 448,
   "metadata": {},
   "outputs": [],
   "source": [
    "# # drop rows that dont include any of these information\n",
    "# geno_df = geno_df.dropna()\n",
    "# len(geno_df)"
   ]
  },
  {
   "cell_type": "code",
   "execution_count": 449,
   "metadata": {},
   "outputs": [],
   "source": [
    "# map patient/control to 1/0\n",
    "geno_df.loc[:,'Dx'] = geno_df['Dx'].apply(lambda x: 1 if x=='P' else 0)"
   ]
  },
  {
   "cell_type": "code",
   "execution_count": 450,
   "metadata": {},
   "outputs": [],
   "source": [
    "# map M/F to 1/0\n",
    "geno_df.loc[:,'Gender'] = geno_df['Dx'].apply(lambda x: 1 if x=='M' else 0)"
   ]
  },
  {
   "cell_type": "code",
   "execution_count": 451,
   "metadata": {},
   "outputs": [],
   "source": [
    "# # map genotypes to 1/0\n",
    "# geno_df.loc[:,\"0301\"] = geno_df['0301'].astype(\"int\")\n",
    "# geno_df.loc[:,\"0602\"] = geno_df['0602'].astype(\"int\")"
   ]
  },
  {
   "cell_type": "code",
   "execution_count": 452,
   "metadata": {},
   "outputs": [
    {
     "data": {
      "text/plain": [
       "0.48175182481751827"
      ]
     },
     "execution_count": 452,
     "metadata": {},
     "output_type": "execute_result"
    }
   ],
   "source": [
    "len(geno_df[geno_df['Dx'] == 1])/len(geno_df) # proportion of patients vs controls"
   ]
  },
  {
   "cell_type": "code",
   "execution_count": 453,
   "metadata": {},
   "outputs": [],
   "source": [
    "geno_df.loc[:,'DBID'] = geno_df['DBID'].astype(str)"
   ]
  },
  {
   "cell_type": "code",
   "execution_count": 454,
   "metadata": {},
   "outputs": [],
   "source": [
    "geno_df['DBID'] = geno_df['DBID'].astype(\"int\")"
   ]
  },
  {
   "cell_type": "markdown",
   "metadata": {},
   "source": [
    "## As we have incomplete information in the 0301 and 0602 columns, do additional HLA imputation"
   ]
  },
  {
   "cell_type": "code",
   "execution_count": 455,
   "metadata": {},
   "outputs": [],
   "source": [
    "hla_df = pd.read_csv(\"NarcolepsyTargetedSequencing/COMBINED_HLA_2019.csv\")"
   ]
  },
  {
   "cell_type": "code",
   "execution_count": 456,
   "metadata": {},
   "outputs": [],
   "source": [
    "hla_df = pd.merge(dbid_plateid_mapping, hla_df, on=\"PLATEID\").drop_duplicates(subset=[\"DBID\"]).drop(\"PLATEID\", axis=1)"
   ]
  },
  {
   "cell_type": "code",
   "execution_count": 457,
   "metadata": {},
   "outputs": [],
   "source": [
    "hla_df2 = hla_df[['DBID']].copy()"
   ]
  },
  {
   "cell_type": "code",
   "execution_count": 458,
   "metadata": {},
   "outputs": [],
   "source": [
    "all_alleles = set(hla_df['HLA_DQB1_A1'].values).union(set(hla_df['HLA_DQB1_A2'].values))"
   ]
  },
  {
   "cell_type": "code",
   "execution_count": 459,
   "metadata": {},
   "outputs": [],
   "source": [
    "for allele in all_alleles:\n",
    "    allele_name = \"HLA_DQB1*{}\".format(allele)\n",
    "    dosage = (hla_df['HLA_DQB1_A1'] == allele).astype(\"int\") + (hla_df['HLA_DQB1_A2'] == allele).astype(\"int\")\n",
    "    hla_df2[allele_name] = dosage"
   ]
  },
  {
   "cell_type": "code",
   "execution_count": 460,
   "metadata": {},
   "outputs": [],
   "source": [
    "# if want Dx and other meta data\n",
    "hla_df3 = pd.merge(geno_df, hla_df2, on=\"DBID\")"
   ]
  },
  {
   "cell_type": "code",
   "execution_count": 461,
   "metadata": {},
   "outputs": [],
   "source": [
    "hla_df3['DBID'] = hla_df3['DBID'].astype(\"str\")"
   ]
  },
  {
   "cell_type": "code",
   "execution_count": 462,
   "metadata": {},
   "outputs": [],
   "source": [
    "hla_df3.to_csv(\"TargSeq_HLA_df.csv\", index=None)"
   ]
  },
  {
   "cell_type": "code",
   "execution_count": 463,
   "metadata": {},
   "outputs": [
    {
     "data": {
      "text/html": [
       "<div>\n",
       "<style scoped>\n",
       "    .dataframe tbody tr th:only-of-type {\n",
       "        vertical-align: middle;\n",
       "    }\n",
       "\n",
       "    .dataframe tbody tr th {\n",
       "        vertical-align: top;\n",
       "    }\n",
       "\n",
       "    .dataframe thead th {\n",
       "        text-align: right;\n",
       "    }\n",
       "</style>\n",
       "<table border=\"1\" class=\"dataframe\">\n",
       "  <thead>\n",
       "    <tr style=\"text-align: right;\">\n",
       "      <th></th>\n",
       "      <th>DBID</th>\n",
       "      <th>PLATEID</th>\n",
       "      <th>Dx</th>\n",
       "      <th>Gender</th>\n",
       "      <th>Age</th>\n",
       "      <th>rs1483979</th>\n",
       "      <th>HLA_DQB1*06:02</th>\n",
       "      <th>HLA_DQB1*04:02</th>\n",
       "      <th>HLA_DQB1*05:02</th>\n",
       "      <th>HLA_DQB1*06:03</th>\n",
       "      <th>HLA_DQB1*06:04</th>\n",
       "      <th>HLA_DQB1*05:03</th>\n",
       "      <th>HLA_DQB1*03:03</th>\n",
       "      <th>HLA_DQB1*06:09</th>\n",
       "      <th>HLA_DQB1*02:01</th>\n",
       "      <th>HLA_DQB1*02:02</th>\n",
       "      <th>HLA_DQB1*03:01</th>\n",
       "      <th>HLA_DQB1*05:01</th>\n",
       "      <th>HLA_DQB1*03:02</th>\n",
       "    </tr>\n",
       "  </thead>\n",
       "  <tbody>\n",
       "    <tr>\n",
       "      <td>0</td>\n",
       "      <td>11668</td>\n",
       "      <td>70A12</td>\n",
       "      <td>0</td>\n",
       "      <td>0</td>\n",
       "      <td>22.460274</td>\n",
       "      <td>CG</td>\n",
       "      <td>1</td>\n",
       "      <td>0</td>\n",
       "      <td>0</td>\n",
       "      <td>0</td>\n",
       "      <td>0</td>\n",
       "      <td>0</td>\n",
       "      <td>0</td>\n",
       "      <td>0</td>\n",
       "      <td>0</td>\n",
       "      <td>0</td>\n",
       "      <td>0</td>\n",
       "      <td>1</td>\n",
       "      <td>0</td>\n",
       "    </tr>\n",
       "    <tr>\n",
       "      <td>1</td>\n",
       "      <td>13344</td>\n",
       "      <td>50D03</td>\n",
       "      <td>1</td>\n",
       "      <td>0</td>\n",
       "      <td>52.369863</td>\n",
       "      <td>CG</td>\n",
       "      <td>1</td>\n",
       "      <td>0</td>\n",
       "      <td>0</td>\n",
       "      <td>0</td>\n",
       "      <td>0</td>\n",
       "      <td>0</td>\n",
       "      <td>0</td>\n",
       "      <td>0</td>\n",
       "      <td>0</td>\n",
       "      <td>0</td>\n",
       "      <td>0</td>\n",
       "      <td>0</td>\n",
       "      <td>1</td>\n",
       "    </tr>\n",
       "    <tr>\n",
       "      <td>2</td>\n",
       "      <td>13115</td>\n",
       "      <td>70B08</td>\n",
       "      <td>0</td>\n",
       "      <td>0</td>\n",
       "      <td>9.627397</td>\n",
       "      <td>GG</td>\n",
       "      <td>1</td>\n",
       "      <td>0</td>\n",
       "      <td>0</td>\n",
       "      <td>0</td>\n",
       "      <td>0</td>\n",
       "      <td>0</td>\n",
       "      <td>0</td>\n",
       "      <td>0</td>\n",
       "      <td>0</td>\n",
       "      <td>0</td>\n",
       "      <td>1</td>\n",
       "      <td>0</td>\n",
       "      <td>0</td>\n",
       "    </tr>\n",
       "    <tr>\n",
       "      <td>3</td>\n",
       "      <td>13120</td>\n",
       "      <td>70B09</td>\n",
       "      <td>0</td>\n",
       "      <td>0</td>\n",
       "      <td>10.183562</td>\n",
       "      <td>CG</td>\n",
       "      <td>1</td>\n",
       "      <td>0</td>\n",
       "      <td>0</td>\n",
       "      <td>0</td>\n",
       "      <td>0</td>\n",
       "      <td>0</td>\n",
       "      <td>0</td>\n",
       "      <td>0</td>\n",
       "      <td>0</td>\n",
       "      <td>0</td>\n",
       "      <td>1</td>\n",
       "      <td>0</td>\n",
       "      <td>0</td>\n",
       "    </tr>\n",
       "    <tr>\n",
       "      <td>4</td>\n",
       "      <td>11746</td>\n",
       "      <td>70B04</td>\n",
       "      <td>0</td>\n",
       "      <td>0</td>\n",
       "      <td>10.479452</td>\n",
       "      <td>GG</td>\n",
       "      <td>1</td>\n",
       "      <td>0</td>\n",
       "      <td>0</td>\n",
       "      <td>1</td>\n",
       "      <td>0</td>\n",
       "      <td>0</td>\n",
       "      <td>0</td>\n",
       "      <td>0</td>\n",
       "      <td>0</td>\n",
       "      <td>0</td>\n",
       "      <td>0</td>\n",
       "      <td>0</td>\n",
       "      <td>0</td>\n",
       "    </tr>\n",
       "    <tr>\n",
       "      <td>...</td>\n",
       "      <td>...</td>\n",
       "      <td>...</td>\n",
       "      <td>...</td>\n",
       "      <td>...</td>\n",
       "      <td>...</td>\n",
       "      <td>...</td>\n",
       "      <td>...</td>\n",
       "      <td>...</td>\n",
       "      <td>...</td>\n",
       "      <td>...</td>\n",
       "      <td>...</td>\n",
       "      <td>...</td>\n",
       "      <td>...</td>\n",
       "      <td>...</td>\n",
       "      <td>...</td>\n",
       "      <td>...</td>\n",
       "      <td>...</td>\n",
       "      <td>...</td>\n",
       "      <td>...</td>\n",
       "    </tr>\n",
       "    <tr>\n",
       "      <td>120</td>\n",
       "      <td>13008</td>\n",
       "      <td>42D11</td>\n",
       "      <td>1</td>\n",
       "      <td>0</td>\n",
       "      <td>14.701370</td>\n",
       "      <td>CG</td>\n",
       "      <td>1</td>\n",
       "      <td>0</td>\n",
       "      <td>0</td>\n",
       "      <td>0</td>\n",
       "      <td>0</td>\n",
       "      <td>0</td>\n",
       "      <td>0</td>\n",
       "      <td>0</td>\n",
       "      <td>1</td>\n",
       "      <td>0</td>\n",
       "      <td>0</td>\n",
       "      <td>0</td>\n",
       "      <td>0</td>\n",
       "    </tr>\n",
       "    <tr>\n",
       "      <td>121</td>\n",
       "      <td>4961</td>\n",
       "      <td>13B11</td>\n",
       "      <td>1</td>\n",
       "      <td>0</td>\n",
       "      <td>44.841096</td>\n",
       "      <td>GG</td>\n",
       "      <td>2</td>\n",
       "      <td>0</td>\n",
       "      <td>0</td>\n",
       "      <td>0</td>\n",
       "      <td>0</td>\n",
       "      <td>0</td>\n",
       "      <td>0</td>\n",
       "      <td>0</td>\n",
       "      <td>0</td>\n",
       "      <td>0</td>\n",
       "      <td>0</td>\n",
       "      <td>0</td>\n",
       "      <td>0</td>\n",
       "    </tr>\n",
       "    <tr>\n",
       "      <td>122</td>\n",
       "      <td>7402</td>\n",
       "      <td>16C10</td>\n",
       "      <td>1</td>\n",
       "      <td>0</td>\n",
       "      <td>40.961644</td>\n",
       "      <td>GG</td>\n",
       "      <td>1</td>\n",
       "      <td>0</td>\n",
       "      <td>0</td>\n",
       "      <td>0</td>\n",
       "      <td>0</td>\n",
       "      <td>0</td>\n",
       "      <td>1</td>\n",
       "      <td>0</td>\n",
       "      <td>0</td>\n",
       "      <td>0</td>\n",
       "      <td>0</td>\n",
       "      <td>0</td>\n",
       "      <td>0</td>\n",
       "    </tr>\n",
       "    <tr>\n",
       "      <td>123</td>\n",
       "      <td>13373</td>\n",
       "      <td>56E12</td>\n",
       "      <td>1</td>\n",
       "      <td>0</td>\n",
       "      <td>46.939726</td>\n",
       "      <td>GG</td>\n",
       "      <td>1</td>\n",
       "      <td>0</td>\n",
       "      <td>0</td>\n",
       "      <td>0</td>\n",
       "      <td>0</td>\n",
       "      <td>0</td>\n",
       "      <td>0</td>\n",
       "      <td>0</td>\n",
       "      <td>0</td>\n",
       "      <td>1</td>\n",
       "      <td>0</td>\n",
       "      <td>0</td>\n",
       "      <td>0</td>\n",
       "    </tr>\n",
       "    <tr>\n",
       "      <td>124</td>\n",
       "      <td>15119</td>\n",
       "      <td>58D08</td>\n",
       "      <td>1</td>\n",
       "      <td>0</td>\n",
       "      <td>13.671233</td>\n",
       "      <td>GG</td>\n",
       "      <td>1</td>\n",
       "      <td>0</td>\n",
       "      <td>0</td>\n",
       "      <td>0</td>\n",
       "      <td>0</td>\n",
       "      <td>0</td>\n",
       "      <td>0</td>\n",
       "      <td>0</td>\n",
       "      <td>0</td>\n",
       "      <td>0</td>\n",
       "      <td>1</td>\n",
       "      <td>0</td>\n",
       "      <td>0</td>\n",
       "    </tr>\n",
       "  </tbody>\n",
       "</table>\n",
       "<p>125 rows × 19 columns</p>\n",
       "</div>"
      ],
      "text/plain": [
       "      DBID PLATEID  Dx  Gender        Age rs1483979  HLA_DQB1*06:02  \\\n",
       "0    11668   70A12   0       0  22.460274        CG               1   \n",
       "1    13344   50D03   1       0  52.369863        CG               1   \n",
       "2    13115   70B08   0       0   9.627397        GG               1   \n",
       "3    13120   70B09   0       0  10.183562        CG               1   \n",
       "4    11746   70B04   0       0  10.479452        GG               1   \n",
       "..     ...     ...  ..     ...        ...       ...             ...   \n",
       "120  13008   42D11   1       0  14.701370        CG               1   \n",
       "121   4961   13B11   1       0  44.841096        GG               2   \n",
       "122   7402   16C10   1       0  40.961644        GG               1   \n",
       "123  13373   56E12   1       0  46.939726        GG               1   \n",
       "124  15119   58D08   1       0  13.671233        GG               1   \n",
       "\n",
       "     HLA_DQB1*04:02  HLA_DQB1*05:02  HLA_DQB1*06:03  HLA_DQB1*06:04  \\\n",
       "0                 0               0               0               0   \n",
       "1                 0               0               0               0   \n",
       "2                 0               0               0               0   \n",
       "3                 0               0               0               0   \n",
       "4                 0               0               1               0   \n",
       "..              ...             ...             ...             ...   \n",
       "120               0               0               0               0   \n",
       "121               0               0               0               0   \n",
       "122               0               0               0               0   \n",
       "123               0               0               0               0   \n",
       "124               0               0               0               0   \n",
       "\n",
       "     HLA_DQB1*05:03  HLA_DQB1*03:03  HLA_DQB1*06:09  HLA_DQB1*02:01  \\\n",
       "0                 0               0               0               0   \n",
       "1                 0               0               0               0   \n",
       "2                 0               0               0               0   \n",
       "3                 0               0               0               0   \n",
       "4                 0               0               0               0   \n",
       "..              ...             ...             ...             ...   \n",
       "120               0               0               0               1   \n",
       "121               0               0               0               0   \n",
       "122               0               1               0               0   \n",
       "123               0               0               0               0   \n",
       "124               0               0               0               0   \n",
       "\n",
       "     HLA_DQB1*02:02  HLA_DQB1*03:01  HLA_DQB1*05:01  HLA_DQB1*03:02  \n",
       "0                 0               0               1               0  \n",
       "1                 0               0               0               1  \n",
       "2                 0               1               0               0  \n",
       "3                 0               1               0               0  \n",
       "4                 0               0               0               0  \n",
       "..              ...             ...             ...             ...  \n",
       "120               0               0               0               0  \n",
       "121               0               0               0               0  \n",
       "122               0               0               0               0  \n",
       "123               1               0               0               0  \n",
       "124               0               1               0               0  \n",
       "\n",
       "[125 rows x 19 columns]"
      ]
     },
     "execution_count": 463,
     "metadata": {},
     "output_type": "execute_result"
    }
   ],
   "source": [
    "hla_df3"
   ]
  },
  {
   "cell_type": "code",
   "execution_count": 464,
   "metadata": {},
   "outputs": [
    {
     "data": {
      "text/html": [
       "<div>\n",
       "<style scoped>\n",
       "    .dataframe tbody tr th:only-of-type {\n",
       "        vertical-align: middle;\n",
       "    }\n",
       "\n",
       "    .dataframe tbody tr th {\n",
       "        vertical-align: top;\n",
       "    }\n",
       "\n",
       "    .dataframe thead th {\n",
       "        text-align: right;\n",
       "    }\n",
       "</style>\n",
       "<table border=\"1\" class=\"dataframe\">\n",
       "  <thead>\n",
       "    <tr style=\"text-align: right;\">\n",
       "      <th></th>\n",
       "      <th>DBID</th>\n",
       "      <th>Dx</th>\n",
       "      <th>Gender</th>\n",
       "      <th>Age</th>\n",
       "      <th>rs1483979</th>\n",
       "      <th>HLA_DQB1*06:02</th>\n",
       "      <th>HLA_DQB1*04:02</th>\n",
       "      <th>HLA_DQB1*05:02</th>\n",
       "      <th>HLA_DQB1*06:03</th>\n",
       "      <th>HLA_DQB1*06:04</th>\n",
       "      <th>...</th>\n",
       "      <th>SEQ_HS53</th>\n",
       "      <th>SEQ_HS67</th>\n",
       "      <th>SEQ_HS78</th>\n",
       "      <th>SEQ_HS79</th>\n",
       "      <th>SEQ_HS81</th>\n",
       "      <th>SEQ_HS9</th>\n",
       "      <th>SEQ_HS96</th>\n",
       "      <th>SEQ_HS97</th>\n",
       "      <th>SEQ_HS98</th>\n",
       "      <th>SEQ_HS99</th>\n",
       "    </tr>\n",
       "  </thead>\n",
       "  <tbody>\n",
       "    <tr>\n",
       "      <td>0</td>\n",
       "      <td>13344</td>\n",
       "      <td>1</td>\n",
       "      <td>0</td>\n",
       "      <td>52.369863</td>\n",
       "      <td>CG</td>\n",
       "      <td>1</td>\n",
       "      <td>0</td>\n",
       "      <td>0</td>\n",
       "      <td>0</td>\n",
       "      <td>0</td>\n",
       "      <td>...</td>\n",
       "      <td>0</td>\n",
       "      <td>0</td>\n",
       "      <td>0</td>\n",
       "      <td>0</td>\n",
       "      <td>0</td>\n",
       "      <td>0</td>\n",
       "      <td>0</td>\n",
       "      <td>0</td>\n",
       "      <td>0</td>\n",
       "      <td>0</td>\n",
       "    </tr>\n",
       "    <tr>\n",
       "      <td>1</td>\n",
       "      <td>13115</td>\n",
       "      <td>0</td>\n",
       "      <td>0</td>\n",
       "      <td>9.627397</td>\n",
       "      <td>GG</td>\n",
       "      <td>1</td>\n",
       "      <td>0</td>\n",
       "      <td>0</td>\n",
       "      <td>0</td>\n",
       "      <td>0</td>\n",
       "      <td>...</td>\n",
       "      <td>0</td>\n",
       "      <td>0</td>\n",
       "      <td>0</td>\n",
       "      <td>0</td>\n",
       "      <td>0</td>\n",
       "      <td>0</td>\n",
       "      <td>0</td>\n",
       "      <td>0</td>\n",
       "      <td>0</td>\n",
       "      <td>0</td>\n",
       "    </tr>\n",
       "    <tr>\n",
       "      <td>2</td>\n",
       "      <td>13124</td>\n",
       "      <td>0</td>\n",
       "      <td>0</td>\n",
       "      <td>14.169863</td>\n",
       "      <td>CG</td>\n",
       "      <td>1</td>\n",
       "      <td>0</td>\n",
       "      <td>0</td>\n",
       "      <td>0</td>\n",
       "      <td>0</td>\n",
       "      <td>...</td>\n",
       "      <td>0</td>\n",
       "      <td>0</td>\n",
       "      <td>0</td>\n",
       "      <td>0</td>\n",
       "      <td>0</td>\n",
       "      <td>0</td>\n",
       "      <td>0</td>\n",
       "      <td>0</td>\n",
       "      <td>0</td>\n",
       "      <td>0</td>\n",
       "    </tr>\n",
       "    <tr>\n",
       "      <td>3</td>\n",
       "      <td>13126</td>\n",
       "      <td>0</td>\n",
       "      <td>0</td>\n",
       "      <td>14.715068</td>\n",
       "      <td>GG</td>\n",
       "      <td>1</td>\n",
       "      <td>0</td>\n",
       "      <td>0</td>\n",
       "      <td>0</td>\n",
       "      <td>0</td>\n",
       "      <td>...</td>\n",
       "      <td>0</td>\n",
       "      <td>0</td>\n",
       "      <td>0</td>\n",
       "      <td>0</td>\n",
       "      <td>0</td>\n",
       "      <td>0</td>\n",
       "      <td>0</td>\n",
       "      <td>0</td>\n",
       "      <td>0</td>\n",
       "      <td>0</td>\n",
       "    </tr>\n",
       "    <tr>\n",
       "      <td>4</td>\n",
       "      <td>15688</td>\n",
       "      <td>0</td>\n",
       "      <td>0</td>\n",
       "      <td>20.572603</td>\n",
       "      <td>CC</td>\n",
       "      <td>1</td>\n",
       "      <td>1</td>\n",
       "      <td>0</td>\n",
       "      <td>0</td>\n",
       "      <td>0</td>\n",
       "      <td>...</td>\n",
       "      <td>0</td>\n",
       "      <td>1</td>\n",
       "      <td>0</td>\n",
       "      <td>0</td>\n",
       "      <td>0</td>\n",
       "      <td>0</td>\n",
       "      <td>0</td>\n",
       "      <td>0</td>\n",
       "      <td>0</td>\n",
       "      <td>0</td>\n",
       "    </tr>\n",
       "    <tr>\n",
       "      <td>...</td>\n",
       "      <td>...</td>\n",
       "      <td>...</td>\n",
       "      <td>...</td>\n",
       "      <td>...</td>\n",
       "      <td>...</td>\n",
       "      <td>...</td>\n",
       "      <td>...</td>\n",
       "      <td>...</td>\n",
       "      <td>...</td>\n",
       "      <td>...</td>\n",
       "      <td>...</td>\n",
       "      <td>...</td>\n",
       "      <td>...</td>\n",
       "      <td>...</td>\n",
       "      <td>...</td>\n",
       "      <td>...</td>\n",
       "      <td>...</td>\n",
       "      <td>...</td>\n",
       "      <td>...</td>\n",
       "      <td>...</td>\n",
       "      <td>...</td>\n",
       "    </tr>\n",
       "    <tr>\n",
       "      <td>68</td>\n",
       "      <td>16021</td>\n",
       "      <td>1</td>\n",
       "      <td>0</td>\n",
       "      <td>22.410959</td>\n",
       "      <td>NaN</td>\n",
       "      <td>1</td>\n",
       "      <td>0</td>\n",
       "      <td>0</td>\n",
       "      <td>0</td>\n",
       "      <td>0</td>\n",
       "      <td>...</td>\n",
       "      <td>0</td>\n",
       "      <td>0</td>\n",
       "      <td>0</td>\n",
       "      <td>0</td>\n",
       "      <td>0</td>\n",
       "      <td>0</td>\n",
       "      <td>1</td>\n",
       "      <td>0</td>\n",
       "      <td>0</td>\n",
       "      <td>0</td>\n",
       "    </tr>\n",
       "    <tr>\n",
       "      <td>69</td>\n",
       "      <td>4961</td>\n",
       "      <td>1</td>\n",
       "      <td>0</td>\n",
       "      <td>44.841096</td>\n",
       "      <td>GG</td>\n",
       "      <td>2</td>\n",
       "      <td>0</td>\n",
       "      <td>0</td>\n",
       "      <td>0</td>\n",
       "      <td>0</td>\n",
       "      <td>...</td>\n",
       "      <td>0</td>\n",
       "      <td>0</td>\n",
       "      <td>0</td>\n",
       "      <td>0</td>\n",
       "      <td>0</td>\n",
       "      <td>0</td>\n",
       "      <td>0</td>\n",
       "      <td>0</td>\n",
       "      <td>0</td>\n",
       "      <td>0</td>\n",
       "    </tr>\n",
       "    <tr>\n",
       "      <td>70</td>\n",
       "      <td>7402</td>\n",
       "      <td>1</td>\n",
       "      <td>0</td>\n",
       "      <td>40.961644</td>\n",
       "      <td>GG</td>\n",
       "      <td>1</td>\n",
       "      <td>0</td>\n",
       "      <td>0</td>\n",
       "      <td>0</td>\n",
       "      <td>0</td>\n",
       "      <td>...</td>\n",
       "      <td>0</td>\n",
       "      <td>0</td>\n",
       "      <td>0</td>\n",
       "      <td>0</td>\n",
       "      <td>0</td>\n",
       "      <td>0</td>\n",
       "      <td>0</td>\n",
       "      <td>0</td>\n",
       "      <td>0</td>\n",
       "      <td>0</td>\n",
       "    </tr>\n",
       "    <tr>\n",
       "      <td>71</td>\n",
       "      <td>13373</td>\n",
       "      <td>1</td>\n",
       "      <td>0</td>\n",
       "      <td>46.939726</td>\n",
       "      <td>GG</td>\n",
       "      <td>1</td>\n",
       "      <td>0</td>\n",
       "      <td>0</td>\n",
       "      <td>0</td>\n",
       "      <td>0</td>\n",
       "      <td>...</td>\n",
       "      <td>0</td>\n",
       "      <td>0</td>\n",
       "      <td>0</td>\n",
       "      <td>0</td>\n",
       "      <td>0</td>\n",
       "      <td>0</td>\n",
       "      <td>0</td>\n",
       "      <td>0</td>\n",
       "      <td>0</td>\n",
       "      <td>0</td>\n",
       "    </tr>\n",
       "    <tr>\n",
       "      <td>72</td>\n",
       "      <td>15119</td>\n",
       "      <td>1</td>\n",
       "      <td>0</td>\n",
       "      <td>13.671233</td>\n",
       "      <td>GG</td>\n",
       "      <td>1</td>\n",
       "      <td>0</td>\n",
       "      <td>0</td>\n",
       "      <td>0</td>\n",
       "      <td>0</td>\n",
       "      <td>...</td>\n",
       "      <td>0</td>\n",
       "      <td>0</td>\n",
       "      <td>0</td>\n",
       "      <td>0</td>\n",
       "      <td>0</td>\n",
       "      <td>0</td>\n",
       "      <td>0</td>\n",
       "      <td>0</td>\n",
       "      <td>0</td>\n",
       "      <td>0</td>\n",
       "    </tr>\n",
       "  </tbody>\n",
       "</table>\n",
       "<p>72 rows × 152 columns</p>\n",
       "</div>"
      ],
      "text/plain": [
       "     DBID  Dx  Gender        Age rs1483979  HLA_DQB1*06:02  HLA_DQB1*04:02  \\\n",
       "0   13344   1       0  52.369863        CG               1               0   \n",
       "1   13115   0       0   9.627397        GG               1               0   \n",
       "2   13124   0       0  14.169863        CG               1               0   \n",
       "3   13126   0       0  14.715068        GG               1               0   \n",
       "4   15688   0       0  20.572603        CC               1               1   \n",
       "..    ...  ..     ...        ...       ...             ...             ...   \n",
       "68  16021   1       0  22.410959       NaN               1               0   \n",
       "69   4961   1       0  44.841096        GG               2               0   \n",
       "70   7402   1       0  40.961644        GG               1               0   \n",
       "71  13373   1       0  46.939726        GG               1               0   \n",
       "72  15119   1       0  13.671233        GG               1               0   \n",
       "\n",
       "    HLA_DQB1*05:02  HLA_DQB1*06:03  HLA_DQB1*06:04  ...  SEQ_HS53  SEQ_HS67  \\\n",
       "0                0               0               0  ...         0         0   \n",
       "1                0               0               0  ...         0         0   \n",
       "2                0               0               0  ...         0         0   \n",
       "3                0               0               0  ...         0         0   \n",
       "4                0               0               0  ...         0         1   \n",
       "..             ...             ...             ...  ...       ...       ...   \n",
       "68               0               0               0  ...         0         0   \n",
       "69               0               0               0  ...         0         0   \n",
       "70               0               0               0  ...         0         0   \n",
       "71               0               0               0  ...         0         0   \n",
       "72               0               0               0  ...         0         0   \n",
       "\n",
       "    SEQ_HS78  SEQ_HS79  SEQ_HS81  SEQ_HS9  SEQ_HS96  SEQ_HS97  SEQ_HS98  \\\n",
       "0          0         0         0        0         0         0         0   \n",
       "1          0         0         0        0         0         0         0   \n",
       "2          0         0         0        0         0         0         0   \n",
       "3          0         0         0        0         0         0         0   \n",
       "4          0         0         0        0         0         0         0   \n",
       "..       ...       ...       ...      ...       ...       ...       ...   \n",
       "68         0         0         0        0         1         0         0   \n",
       "69         0         0         0        0         0         0         0   \n",
       "70         0         0         0        0         0         0         0   \n",
       "71         0         0         0        0         0         0         0   \n",
       "72         0         0         0        0         0         0         0   \n",
       "\n",
       "    SEQ_HS99  \n",
       "0          0  \n",
       "1          0  \n",
       "2          0  \n",
       "3          0  \n",
       "4          0  \n",
       "..       ...  \n",
       "68         0  \n",
       "69         0  \n",
       "70         0  \n",
       "71         0  \n",
       "72         0  \n",
       "\n",
       "[72 rows x 152 columns]"
      ]
     },
     "execution_count": 464,
     "metadata": {},
     "output_type": "execute_result"
    }
   ],
   "source": [
    "all_df = pd.merge(hla_df3, usage_df, on=\"DBID\", how=\"inner\").drop_duplicates(\"DBID\").drop(\"PLATEID\", axis=1)\n",
    "all_df"
   ]
  },
  {
   "cell_type": "code",
   "execution_count": 465,
   "metadata": {},
   "outputs": [],
   "source": [
    "all_df.to_csv(\"TargSeq_{}_all_df.csv\".format(TRAB), index=None)"
   ]
  },
  {
   "cell_type": "code",
   "execution_count": 466,
   "metadata": {},
   "outputs": [
    {
     "data": {
      "text/plain": [
       "array([1, 1, 1, 1, 1, 2, 1, 1, 2, 1, 2, 1, 2, 0, 0, 1, 1, 1, 0, 1, 0, 1,\n",
       "       0, 1, 0, 0, 0, 0, 1, 0, 2, 2, 1, 2, 1, 1, 1, 1, 1, 1, 1, 1, 1, 1,\n",
       "       1, 2, 1, 1, 1, 1, 2, 1, 1, 1, 1, 2, 1, 2, 1, 1, 1, 0, 1, 1, 1, 1,\n",
       "       1, 1, 2, 1, 1, 1])"
      ]
     },
     "execution_count": 466,
     "metadata": {},
     "output_type": "execute_result"
    }
   ],
   "source": [
    "all_df['HLA_DQB1*06:02'].values"
   ]
  },
  {
   "cell_type": "markdown",
   "metadata": {},
   "source": [
    "## J24 SNP --> usage sanity check"
   ]
  },
  {
   "cell_type": "code",
   "execution_count": 467,
   "metadata": {},
   "outputs": [
    {
     "data": {
      "image/png": "[encoded data removed]",
      "text/plain": [
       "<Figure size 432x288 with 1 Axes>"
      ]
     },
     "metadata": {
      "needs_background": "light"
     },
     "output_type": "display_data"
    }
   ],
   "source": [
    "if TRAB == \"TRA\":\n",
    "    j24_df = all_df[['rs1483979', 'TRAJ28']].dropna()\n",
    "    #j24_df = j24_df[j24_df['TRAJ28'] < 0.08]\n",
    "    j24_df['dose'] = j24_df['rs1483979'].apply(lambda s: s.count(\"C\"))\n",
    "    sns.boxplot(y=\"TRAJ28\", x=\"rs1483979\", data=j24_df, order=['GG', 'CG', 'CC'])"
   ]
  },
  {
   "cell_type": "code",
   "execution_count": null,
   "metadata": {},
   "outputs": [],
   "source": []
  },
  {
   "cell_type": "code",
   "execution_count": null,
   "metadata": {},
   "outputs": [],
   "source": []
  },
  {
   "cell_type": "code",
   "execution_count": 468,
   "metadata": {},
   "outputs": [],
   "source": [
    "all_df.to_csv(\"TargSeq_{}_all_df.csv\".format(TRAB), index=None)"
   ]
  },
  {
   "cell_type": "code",
   "execution_count": null,
   "metadata": {},
   "outputs": [],
   "source": []
  },
  {
   "cell_type": "code",
   "execution_count": 469,
   "metadata": {},
   "outputs": [
    {
     "data": {
      "text/html": [
       "<div>\n",
       "<style scoped>\n",
       "    .dataframe tbody tr th:only-of-type {\n",
       "        vertical-align: middle;\n",
       "    }\n",
       "\n",
       "    .dataframe tbody tr th {\n",
       "        vertical-align: top;\n",
       "    }\n",
       "\n",
       "    .dataframe thead th {\n",
       "        text-align: right;\n",
       "    }\n",
       "</style>\n",
       "<table border=\"1\" class=\"dataframe\">\n",
       "  <thead>\n",
       "    <tr style=\"text-align: right;\">\n",
       "      <th></th>\n",
       "      <th>DBID</th>\n",
       "      <th>Dx</th>\n",
       "      <th>Gender</th>\n",
       "      <th>Age</th>\n",
       "      <th>rs1483979</th>\n",
       "      <th>HLA_DQB1*06:02</th>\n",
       "      <th>HLA_DQB1*04:02</th>\n",
       "      <th>HLA_DQB1*05:02</th>\n",
       "      <th>HLA_DQB1*06:03</th>\n",
       "      <th>HLA_DQB1*06:04</th>\n",
       "      <th>...</th>\n",
       "      <th>SEQ_HS53</th>\n",
       "      <th>SEQ_HS67</th>\n",
       "      <th>SEQ_HS78</th>\n",
       "      <th>SEQ_HS79</th>\n",
       "      <th>SEQ_HS81</th>\n",
       "      <th>SEQ_HS9</th>\n",
       "      <th>SEQ_HS96</th>\n",
       "      <th>SEQ_HS97</th>\n",
       "      <th>SEQ_HS98</th>\n",
       "      <th>SEQ_HS99</th>\n",
       "    </tr>\n",
       "  </thead>\n",
       "  <tbody>\n",
       "    <tr>\n",
       "      <td>0</td>\n",
       "      <td>13344</td>\n",
       "      <td>1</td>\n",
       "      <td>0</td>\n",
       "      <td>52.369863</td>\n",
       "      <td>CG</td>\n",
       "      <td>1</td>\n",
       "      <td>0</td>\n",
       "      <td>0</td>\n",
       "      <td>0</td>\n",
       "      <td>0</td>\n",
       "      <td>...</td>\n",
       "      <td>0</td>\n",
       "      <td>0</td>\n",
       "      <td>0</td>\n",
       "      <td>0</td>\n",
       "      <td>0</td>\n",
       "      <td>0</td>\n",
       "      <td>0</td>\n",
       "      <td>0</td>\n",
       "      <td>0</td>\n",
       "      <td>0</td>\n",
       "    </tr>\n",
       "    <tr>\n",
       "      <td>1</td>\n",
       "      <td>13115</td>\n",
       "      <td>0</td>\n",
       "      <td>0</td>\n",
       "      <td>9.627397</td>\n",
       "      <td>GG</td>\n",
       "      <td>1</td>\n",
       "      <td>0</td>\n",
       "      <td>0</td>\n",
       "      <td>0</td>\n",
       "      <td>0</td>\n",
       "      <td>...</td>\n",
       "      <td>0</td>\n",
       "      <td>0</td>\n",
       "      <td>0</td>\n",
       "      <td>0</td>\n",
       "      <td>0</td>\n",
       "      <td>0</td>\n",
       "      <td>0</td>\n",
       "      <td>0</td>\n",
       "      <td>0</td>\n",
       "      <td>0</td>\n",
       "    </tr>\n",
       "    <tr>\n",
       "      <td>2</td>\n",
       "      <td>13124</td>\n",
       "      <td>0</td>\n",
       "      <td>0</td>\n",
       "      <td>14.169863</td>\n",
       "      <td>CG</td>\n",
       "      <td>1</td>\n",
       "      <td>0</td>\n",
       "      <td>0</td>\n",
       "      <td>0</td>\n",
       "      <td>0</td>\n",
       "      <td>...</td>\n",
       "      <td>0</td>\n",
       "      <td>0</td>\n",
       "      <td>0</td>\n",
       "      <td>0</td>\n",
       "      <td>0</td>\n",
       "      <td>0</td>\n",
       "      <td>0</td>\n",
       "      <td>0</td>\n",
       "      <td>0</td>\n",
       "      <td>0</td>\n",
       "    </tr>\n",
       "    <tr>\n",
       "      <td>3</td>\n",
       "      <td>13126</td>\n",
       "      <td>0</td>\n",
       "      <td>0</td>\n",
       "      <td>14.715068</td>\n",
       "      <td>GG</td>\n",
       "      <td>1</td>\n",
       "      <td>0</td>\n",
       "      <td>0</td>\n",
       "      <td>0</td>\n",
       "      <td>0</td>\n",
       "      <td>...</td>\n",
       "      <td>0</td>\n",
       "      <td>0</td>\n",
       "      <td>0</td>\n",
       "      <td>0</td>\n",
       "      <td>0</td>\n",
       "      <td>0</td>\n",
       "      <td>0</td>\n",
       "      <td>0</td>\n",
       "      <td>0</td>\n",
       "      <td>0</td>\n",
       "    </tr>\n",
       "    <tr>\n",
       "      <td>4</td>\n",
       "      <td>15688</td>\n",
       "      <td>0</td>\n",
       "      <td>0</td>\n",
       "      <td>20.572603</td>\n",
       "      <td>CC</td>\n",
       "      <td>1</td>\n",
       "      <td>1</td>\n",
       "      <td>0</td>\n",
       "      <td>0</td>\n",
       "      <td>0</td>\n",
       "      <td>...</td>\n",
       "      <td>0</td>\n",
       "      <td>1</td>\n",
       "      <td>0</td>\n",
       "      <td>0</td>\n",
       "      <td>0</td>\n",
       "      <td>0</td>\n",
       "      <td>0</td>\n",
       "      <td>0</td>\n",
       "      <td>0</td>\n",
       "      <td>0</td>\n",
       "    </tr>\n",
       "    <tr>\n",
       "      <td>...</td>\n",
       "      <td>...</td>\n",
       "      <td>...</td>\n",
       "      <td>...</td>\n",
       "      <td>...</td>\n",
       "      <td>...</td>\n",
       "      <td>...</td>\n",
       "      <td>...</td>\n",
       "      <td>...</td>\n",
       "      <td>...</td>\n",
       "      <td>...</td>\n",
       "      <td>...</td>\n",
       "      <td>...</td>\n",
       "      <td>...</td>\n",
       "      <td>...</td>\n",
       "      <td>...</td>\n",
       "      <td>...</td>\n",
       "      <td>...</td>\n",
       "      <td>...</td>\n",
       "      <td>...</td>\n",
       "      <td>...</td>\n",
       "      <td>...</td>\n",
       "    </tr>\n",
       "    <tr>\n",
       "      <td>68</td>\n",
       "      <td>16021</td>\n",
       "      <td>1</td>\n",
       "      <td>0</td>\n",
       "      <td>22.410959</td>\n",
       "      <td>NaN</td>\n",
       "      <td>1</td>\n",
       "      <td>0</td>\n",
       "      <td>0</td>\n",
       "      <td>0</td>\n",
       "      <td>0</td>\n",
       "      <td>...</td>\n",
       "      <td>0</td>\n",
       "      <td>0</td>\n",
       "      <td>0</td>\n",
       "      <td>0</td>\n",
       "      <td>0</td>\n",
       "      <td>0</td>\n",
       "      <td>1</td>\n",
       "      <td>0</td>\n",
       "      <td>0</td>\n",
       "      <td>0</td>\n",
       "    </tr>\n",
       "    <tr>\n",
       "      <td>69</td>\n",
       "      <td>4961</td>\n",
       "      <td>1</td>\n",
       "      <td>0</td>\n",
       "      <td>44.841096</td>\n",
       "      <td>GG</td>\n",
       "      <td>2</td>\n",
       "      <td>0</td>\n",
       "      <td>0</td>\n",
       "      <td>0</td>\n",
       "      <td>0</td>\n",
       "      <td>...</td>\n",
       "      <td>0</td>\n",
       "      <td>0</td>\n",
       "      <td>0</td>\n",
       "      <td>0</td>\n",
       "      <td>0</td>\n",
       "      <td>0</td>\n",
       "      <td>0</td>\n",
       "      <td>0</td>\n",
       "      <td>0</td>\n",
       "      <td>0</td>\n",
       "    </tr>\n",
       "    <tr>\n",
       "      <td>70</td>\n",
       "      <td>7402</td>\n",
       "      <td>1</td>\n",
       "      <td>0</td>\n",
       "      <td>40.961644</td>\n",
       "      <td>GG</td>\n",
       "      <td>1</td>\n",
       "      <td>0</td>\n",
       "      <td>0</td>\n",
       "      <td>0</td>\n",
       "      <td>0</td>\n",
       "      <td>...</td>\n",
       "      <td>0</td>\n",
       "      <td>0</td>\n",
       "      <td>0</td>\n",
       "      <td>0</td>\n",
       "      <td>0</td>\n",
       "      <td>0</td>\n",
       "      <td>0</td>\n",
       "      <td>0</td>\n",
       "      <td>0</td>\n",
       "      <td>0</td>\n",
       "    </tr>\n",
       "    <tr>\n",
       "      <td>71</td>\n",
       "      <td>13373</td>\n",
       "      <td>1</td>\n",
       "      <td>0</td>\n",
       "      <td>46.939726</td>\n",
       "      <td>GG</td>\n",
       "      <td>1</td>\n",
       "      <td>0</td>\n",
       "      <td>0</td>\n",
       "      <td>0</td>\n",
       "      <td>0</td>\n",
       "      <td>...</td>\n",
       "      <td>0</td>\n",
       "      <td>0</td>\n",
       "      <td>0</td>\n",
       "      <td>0</td>\n",
       "      <td>0</td>\n",
       "      <td>0</td>\n",
       "      <td>0</td>\n",
       "      <td>0</td>\n",
       "      <td>0</td>\n",
       "      <td>0</td>\n",
       "    </tr>\n",
       "    <tr>\n",
       "      <td>72</td>\n",
       "      <td>15119</td>\n",
       "      <td>1</td>\n",
       "      <td>0</td>\n",
       "      <td>13.671233</td>\n",
       "      <td>GG</td>\n",
       "      <td>1</td>\n",
       "      <td>0</td>\n",
       "      <td>0</td>\n",
       "      <td>0</td>\n",
       "      <td>0</td>\n",
       "      <td>...</td>\n",
       "      <td>0</td>\n",
       "      <td>0</td>\n",
       "      <td>0</td>\n",
       "      <td>0</td>\n",
       "      <td>0</td>\n",
       "      <td>0</td>\n",
       "      <td>0</td>\n",
       "      <td>0</td>\n",
       "      <td>0</td>\n",
       "      <td>0</td>\n",
       "    </tr>\n",
       "  </tbody>\n",
       "</table>\n",
       "<p>72 rows × 152 columns</p>\n",
       "</div>"
      ],
      "text/plain": [
       "     DBID  Dx  Gender        Age rs1483979  HLA_DQB1*06:02  HLA_DQB1*04:02  \\\n",
       "0   13344   1       0  52.369863        CG               1               0   \n",
       "1   13115   0       0   9.627397        GG               1               0   \n",
       "2   13124   0       0  14.169863        CG               1               0   \n",
       "3   13126   0       0  14.715068        GG               1               0   \n",
       "4   15688   0       0  20.572603        CC               1               1   \n",
       "..    ...  ..     ...        ...       ...             ...             ...   \n",
       "68  16021   1       0  22.410959       NaN               1               0   \n",
       "69   4961   1       0  44.841096        GG               2               0   \n",
       "70   7402   1       0  40.961644        GG               1               0   \n",
       "71  13373   1       0  46.939726        GG               1               0   \n",
       "72  15119   1       0  13.671233        GG               1               0   \n",
       "\n",
       "    HLA_DQB1*05:02  HLA_DQB1*06:03  HLA_DQB1*06:04  ...  SEQ_HS53  SEQ_HS67  \\\n",
       "0                0               0               0  ...         0         0   \n",
       "1                0               0               0  ...         0         0   \n",
       "2                0               0               0  ...         0         0   \n",
       "3                0               0               0  ...         0         0   \n",
       "4                0               0               0  ...         0         1   \n",
       "..             ...             ...             ...  ...       ...       ...   \n",
       "68               0               0               0  ...         0         0   \n",
       "69               0               0               0  ...         0         0   \n",
       "70               0               0               0  ...         0         0   \n",
       "71               0               0               0  ...         0         0   \n",
       "72               0               0               0  ...         0         0   \n",
       "\n",
       "    SEQ_HS78  SEQ_HS79  SEQ_HS81  SEQ_HS9  SEQ_HS96  SEQ_HS97  SEQ_HS98  \\\n",
       "0          0         0         0        0         0         0         0   \n",
       "1          0         0         0        0         0         0         0   \n",
       "2          0         0         0        0         0         0         0   \n",
       "3          0         0         0        0         0         0         0   \n",
       "4          0         0         0        0         0         0         0   \n",
       "..       ...       ...       ...      ...       ...       ...       ...   \n",
       "68         0         0         0        0         1         0         0   \n",
       "69         0         0         0        0         0         0         0   \n",
       "70         0         0         0        0         0         0         0   \n",
       "71         0         0         0        0         0         0         0   \n",
       "72         0         0         0        0         0         0         0   \n",
       "\n",
       "    SEQ_HS99  \n",
       "0          0  \n",
       "1          0  \n",
       "2          0  \n",
       "3          0  \n",
       "4          0  \n",
       "..       ...  \n",
       "68         0  \n",
       "69         0  \n",
       "70         0  \n",
       "71         0  \n",
       "72         0  \n",
       "\n",
       "[72 rows x 152 columns]"
      ]
     },
     "execution_count": 469,
     "metadata": {},
     "output_type": "execute_result"
    }
   ],
   "source": [
    "all_df"
   ]
  },
  {
   "cell_type": "code",
   "execution_count": null,
   "metadata": {},
   "outputs": [],
   "source": []
  },
  {
   "cell_type": "code",
   "execution_count": null,
   "metadata": {},
   "outputs": [],
   "source": []
  },
  {
   "cell_type": "code",
   "execution_count": null,
   "metadata": {},
   "outputs": [],
   "source": []
  }
 ],
 "metadata": {
  "kernelspec": {
   "display_name": "Python 3",
   "language": "python",
   "name": "python3"
  },
  "language_info": {
   "codemirror_mode": {
    "name": "ipython",
    "version": 3
   },
   "file_extension": ".py",
   "mimetype": "text/x-python",
   "name": "python",
   "nbconvert_exporter": "python",
   "pygments_lexer": "ipython3",
   "version": "3.6.8"
  }
 },
 "nbformat": 4,
 "nbformat_minor": 2
}
